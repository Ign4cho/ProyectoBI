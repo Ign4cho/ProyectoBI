{
 "cells": [
  {
   "cell_type": "markdown",
   "id": "3837d9d0",
   "metadata": {
    "colab_type": "text",
    "id": "view-in-github"
   },
   "source": [
    "<a href=\"https://colab.research.google.com/github/Ign4cho/ProyectoBI/blob/main/EDA.ipynb\" target=\"_parent\"><img src=\"https://colab.research.google.com/assets/colab-badge.svg\" alt=\"Open In Colab\"/></a>"
   ]
  },
  {
   "cell_type": "markdown",
   "id": "WGAVZgHvmOV5",
   "metadata": {
    "id": "WGAVZgHvmOV5"
   },
   "source": [
    "# Introducción\n",
    "Carga de datos"
   ]
  },
  {
   "cell_type": "code",
   "execution_count": null,
   "id": "55742dbe",
   "metadata": {
    "id": "55742dbe"
   },
   "outputs": [],
   "source": [
    "import pandas as pd\n",
    "import matplotlib.pyplot as plt\n",
    "import joblib\n",
    "import os\n",
    "#os.path()\n",
    "csv_path = os.path.join(\"datasets\",\"EXTRACCION_Prov-San-Juan_022024.csv\")\n"
   ]
  },
  {
   "cell_type": "code",
   "execution_count": 7,
   "id": "9oASrg9ygbRl",
   "metadata": {
    "id": "9oASrg9ygbRl"
   },
   "outputs": [],
   "source": [
    "column_types = {\n",
    "            'CODIGOENTIDAD': 'float64',\n",
    "            'IDLINEA': 'float64',\n",
    "            'NROCHIP': 'float64',\n",
    "            'NROTARJETA': 'float64',\n",
    "            'CODIGOCONTRATO': 'float64',\n",
    "            'SECUENCIA_TARJETA': 'float64',\n",
    "            'FECHATRX': 'string',\n",
    "            'MONTO': 'float64',\n",
    "            'SALDO': 'float64',\n",
    "            'VALOR_TARIFA': 'float64',\n",
    "            'INTERNO': 'float64',\n",
    "            'DISPOSITIVO': 'float64',\n",
    "            'SECTERMINAL': 'float64',\n",
    "            'CODIGOTIPOTRX': 'float64',\n",
    "            'CODIGOSUBTIPOTRX': 'float64',\n",
    "            'TIPOMAPPING': 'float64',\n",
    "            'ENTIDAD_EMISORA_TARJ': 'float64',\n",
    "            'CODIGOERROR': 'float64',\n",
    "            'FECHAPROCESO': 'string',\n",
    "            'RAMAL': 'float64',\n",
    "            'IDARCHIVOINTERCAMBIO': 'float64',\n",
    "            'CODIGOROL': 'string',\n",
    "            'CODIGOTIPOTARJETA': 'float64',\n",
    "            'SENTIDO': 'string',\n",
    "            'MONEDERO_ID': 'float64',\n",
    "            'EMISOR_CONTRATO': 'float64',\n",
    "            'SAM_ID': 'string',\n",
    "            'LG_ID': 'float64',\n",
    "            'TIPO_TERMINAL': 'float64',\n",
    "            'ID_SERVICIO': 'float64',\n",
    "            'VERSION_TIPO_TRX': 'float64',\n",
    "            'ID_INTEGRADOR': 'float64',\n",
    "            'EMISOR_MONEDERO': 'float64',\n",
    "            'SECCION_FIN': 'float64',\n",
    "            'SECCION_INICIO': 'float64',\n",
    "            'DESCUENTO': 'float64',\n",
    "            'PROVISION': 'float64',\n",
    "            'ID_POSICIONAMIENTO': 'float64',\n",
    "            'PTC': 'float64',\n",
    "            'LTC': 'float64'\n",
    "        }"
   ]
  },
  {
   "cell_type": "code",
   "execution_count": 8,
   "id": "333c0c70-99d4-401c-a365-aabafc61584a",
   "metadata": {
    "id": "333c0c70-99d4-401c-a365-aabafc61584a"
   },
   "outputs": [],
   "source": [
    "def load_data(path, columns):\n",
    "    return pd.read_csv(path, delimiter=';', decimal=',',\n",
    "                          dtype=columns)\n",
    "    #si hace falta agregar: nrows=cantidad_filas,\n"
   ]
  },
  {
   "cell_type": "code",
   "execution_count": 9,
   "id": "c3a94a84-0ccc-4436-802f-bfa62b2b9421",
   "metadata": {
    "id": "c3a94a84-0ccc-4436-802f-bfa62b2b9421"
   },
   "outputs": [],
   "source": [
    "complete_df=load_data(csv_path, column_types)"
   ]
  },
  {
   "cell_type": "code",
   "execution_count": null,
   "id": "d9f95395",
   "metadata": {},
   "outputs": [],
   "source": [
    "joblib_path = os.path.join('datasets', 'joblib', 'extraccion022024.pkl')\n",
    "complete_df= joblib.load(joblib_path)"
   ]
  },
  {
   "cell_type": "code",
   "execution_count": null,
   "id": "5330f9b3",
   "metadata": {},
   "outputs": [
    {
     "data": {
      "text/plain": [
       "['datasets/joblib/extraccion022024.pkl']"
      ]
     },
     "execution_count": 9,
     "metadata": {},
     "output_type": "execute_result"
    }
   ],
   "source": [
    "file_path = os.path.join('datasets', 'joblib', 'extraccion022024.pkl')\n",
    "joblib.dump(complete_df, file_path)"
   ]
  },
  {
   "cell_type": "code",
   "execution_count": 10,
   "id": "e49fc254-9477-4d67-8868-6e84e9797095",
   "metadata": {
    "id": "e49fc254-9477-4d67-8868-6e84e9797095",
    "scrolled": true
   },
   "outputs": [
    {
     "name": "stdout",
     "output_type": "stream",
     "text": [
      "<class 'pandas.core.frame.DataFrame'>\n",
      "RangeIndex: 5569627 entries, 0 to 5569626\n",
      "Data columns (total 9 columns):\n",
      " #   Column              Dtype  \n",
      "---  ------              -----  \n",
      " 0   CODIGOENTIDAD       float64\n",
      " 1   IDLINEA             float64\n",
      " 2   NROTARJETA          float64\n",
      " 3   CODIGOCONTRATO      float64\n",
      " 4   FECHATRX            string \n",
      " 5   CODIGOTIPOTRX       float64\n",
      " 6   RAMAL               float64\n",
      " 7   ID_POSICIONAMIENTO  float64\n",
      " 8   ID_COMBINACION      float64\n",
      "dtypes: float64(8), string(1)\n",
      "memory usage: 382.4 MB\n"
     ]
    }
   ],
   "source": [
    "selected_columns = ['CODIGOENTIDAD', 'IDLINEA', 'NROTARJETA', 'CODIGOCONTRATO',\n",
    "                            'FECHATRX','CODIGOTIPOTRX','RAMAL','ID_POSICIONAMIENTO','ID_COMBINACION']\n",
    "selected_df = complete_df[selected_columns]\n",
    "selected_df.info()"
   ]
  },
  {
   "cell_type": "markdown",
   "id": "4e66fc5f-0806-4b24-87d2-bb4514badc2b",
   "metadata": {
    "id": "4e66fc5f-0806-4b24-87d2-bb4514badc2b"
   },
   "source": [
    "# Comentarios"
   ]
  },
  {
   "cell_type": "markdown",
   "id": "a7165ee0-1800-458d-ab89-b0424000a404",
   "metadata": {
    "id": "a7165ee0-1800-458d-ab89-b0424000a404"
   },
   "source": [
    "## Describe e Info\n",
    "La mayoría de los valores no son necesariamente numéricos, pero vemos que la mayoría son non-null por lo menos."
   ]
  },
  {
   "cell_type": "code",
   "execution_count": 11,
   "id": "198dbc41-1031-4d1c-aa87-86f6276d68e8",
   "metadata": {
    "id": "198dbc41-1031-4d1c-aa87-86f6276d68e8"
   },
   "outputs": [
    {
     "data": {
      "text/html": [
       "<div>\n",
       "<style scoped>\n",
       "    .dataframe tbody tr th:only-of-type {\n",
       "        vertical-align: middle;\n",
       "    }\n",
       "\n",
       "    .dataframe tbody tr th {\n",
       "        vertical-align: top;\n",
       "    }\n",
       "\n",
       "    .dataframe thead th {\n",
       "        text-align: right;\n",
       "    }\n",
       "</style>\n",
       "<table border=\"1\" class=\"dataframe\">\n",
       "  <thead>\n",
       "    <tr style=\"text-align: right;\">\n",
       "      <th></th>\n",
       "      <th>CODIGOENTIDAD</th>\n",
       "      <th>IDLINEA</th>\n",
       "      <th>NROTARJETA</th>\n",
       "      <th>CODIGOCONTRATO</th>\n",
       "      <th>FECHATRX</th>\n",
       "      <th>CODIGOTIPOTRX</th>\n",
       "      <th>RAMAL</th>\n",
       "      <th>ID_POSICIONAMIENTO</th>\n",
       "      <th>ID_COMBINACION</th>\n",
       "    </tr>\n",
       "  </thead>\n",
       "  <tbody>\n",
       "    <tr>\n",
       "      <th>0</th>\n",
       "      <td>525.0</td>\n",
       "      <td>3348.0</td>\n",
       "      <td>1.812366e+09</td>\n",
       "      <td>621.0</td>\n",
       "      <td>15/02/2024 07:16:04</td>\n",
       "      <td>12.0</td>\n",
       "      <td>7533.0</td>\n",
       "      <td>19.0</td>\n",
       "      <td>NaN</td>\n",
       "    </tr>\n",
       "    <tr>\n",
       "      <th>1</th>\n",
       "      <td>525.0</td>\n",
       "      <td>3348.0</td>\n",
       "      <td>1.816309e+09</td>\n",
       "      <td>602.0</td>\n",
       "      <td>15/02/2024 07:17:59</td>\n",
       "      <td>12.0</td>\n",
       "      <td>7533.0</td>\n",
       "      <td>19.0</td>\n",
       "      <td>NaN</td>\n",
       "    </tr>\n",
       "    <tr>\n",
       "      <th>2</th>\n",
       "      <td>525.0</td>\n",
       "      <td>3348.0</td>\n",
       "      <td>1.851616e+09</td>\n",
       "      <td>602.0</td>\n",
       "      <td>15/02/2024 08:20:01</td>\n",
       "      <td>12.0</td>\n",
       "      <td>7533.0</td>\n",
       "      <td>35.0</td>\n",
       "      <td>NaN</td>\n",
       "    </tr>\n",
       "    <tr>\n",
       "      <th>3</th>\n",
       "      <td>525.0</td>\n",
       "      <td>3348.0</td>\n",
       "      <td>1.851790e+09</td>\n",
       "      <td>621.0</td>\n",
       "      <td>15/02/2024 08:20:59</td>\n",
       "      <td>12.0</td>\n",
       "      <td>7533.0</td>\n",
       "      <td>35.0</td>\n",
       "      <td>NaN</td>\n",
       "    </tr>\n",
       "    <tr>\n",
       "      <th>4</th>\n",
       "      <td>525.0</td>\n",
       "      <td>3348.0</td>\n",
       "      <td>1.826845e+09</td>\n",
       "      <td>621.0</td>\n",
       "      <td>15/02/2024 09:25:11</td>\n",
       "      <td>12.0</td>\n",
       "      <td>7533.0</td>\n",
       "      <td>51.0</td>\n",
       "      <td>NaN</td>\n",
       "    </tr>\n",
       "  </tbody>\n",
       "</table>\n",
       "</div>"
      ],
      "text/plain": [
       "   CODIGOENTIDAD  IDLINEA    NROTARJETA  CODIGOCONTRATO             FECHATRX  \\\n",
       "0          525.0   3348.0  1.812366e+09           621.0  15/02/2024 07:16:04   \n",
       "1          525.0   3348.0  1.816309e+09           602.0  15/02/2024 07:17:59   \n",
       "2          525.0   3348.0  1.851616e+09           602.0  15/02/2024 08:20:01   \n",
       "3          525.0   3348.0  1.851790e+09           621.0  15/02/2024 08:20:59   \n",
       "4          525.0   3348.0  1.826845e+09           621.0  15/02/2024 09:25:11   \n",
       "\n",
       "   CODIGOTIPOTRX   RAMAL  ID_POSICIONAMIENTO  ID_COMBINACION  \n",
       "0           12.0  7533.0                19.0             NaN  \n",
       "1           12.0  7533.0                19.0             NaN  \n",
       "2           12.0  7533.0                35.0             NaN  \n",
       "3           12.0  7533.0                35.0             NaN  \n",
       "4           12.0  7533.0                51.0             NaN  "
      ]
     },
     "execution_count": 11,
     "metadata": {},
     "output_type": "execute_result"
    }
   ],
   "source": [
    "selected_df.head()"
   ]
  },
  {
   "cell_type": "code",
   "execution_count": null,
   "id": "zzLoxyRVqm82",
   "metadata": {
    "id": "zzLoxyRVqm82"
   },
   "outputs": [
    {
     "data": {
      "image/png": "[encoded data removed]",
      "text/plain": [
       "<Figure size 1000x600 with 1 Axes>"
      ]
     },
     "metadata": {},
     "output_type": "display_data"
    }
   ],
   "source": [
    "plt.figure(figsize=(10, 6))\n",
    "plt.hist(selected_df['IDLINEA'], bins=50) \n",
    "plt.xlabel('IDLINEA')\n",
    "plt.ylabel('Frecuencia')\n",
    "plt.title('Histograma de IDLINEA')\n",
    "plt.show()\n"
   ]
  },
  {
   "cell_type": "code",
   "execution_count": 28,
   "id": "piFhDpkhq5hC",
   "metadata": {
    "id": "piFhDpkhq5hC"
   },
   "outputs": [
    {
     "name": "stdout",
     "output_type": "stream",
     "text": [
      "IDLINEA\n",
      "3359.0    307541\n",
      "3367.0    288605\n",
      "3451.0    247735\n",
      "3360.0    168075\n",
      "3426.0    165754\n",
      "           ...  \n",
      "3117.0       562\n",
      "3118.0       226\n",
      "3427.0       114\n",
      "3127.0        13\n",
      "3438.0        10\n",
      "Name: count, Length: 119, dtype: int64\n",
      "cantidad de lineas distintas: 119\n"
     ]
    }
   ],
   "source": [
    "\n",
    "idlinea_counts = selected_df['IDLINEA'].value_counts()\n",
    "print(idlinea_counts)\n",
    "print(f'cantidad de lineas distintas: {len(idlinea_counts)}')"
   ]
  },
  {
   "cell_type": "markdown",
   "id": "b9669aa8",
   "metadata": {},
   "source": [
    "descipción de IDLNEA en tablas:\n",
    ">120 códigos de lineas (numérico) \n",
    ">(nro de linea) (DESCRIPCION EN TABLA DE LINEAS)\n",
    "\n",
    "son correctos los valores, hay que verpor donde van las lineas"
   ]
  },
  {
   "cell_type": "markdown",
   "id": "4404fe50-b129-4dcf-a357-a27c0a24ea88",
   "metadata": {
    "id": "4404fe50-b129-4dcf-a357-a27c0a24ea88"
   },
   "source": [
    "# Visualizaciones\n",
    "Vamos a probar algunas visualizaciones\n",
    "Primero vamos a ver de Codigotipotrx que es el codigo tipo transacción. Según el excel tiene dos valores posibles: 12 y 22.\n",
    "Después anazlizamos también el ID_COMBINACIÓN"
   ]
  },
  {
   "cell_type": "code",
   "execution_count": null,
   "id": "f58088e5-de98-4c1c-b0f3-c28353672fde",
   "metadata": {
    "colab": {
     "base_uri": "https://localhost:8080/",
     "height": 584
    },
    "id": "f58088e5-de98-4c1c-b0f3-c28353672fde",
    "outputId": "5f33604e-49ec-4ffd-e84f-8ef1ea32da10"
   },
   "outputs": [
    {
     "data": {
      "image/png": "[encoded data removed]",
      "text/plain": [
       "<Figure size 1000x600 with 1 Axes>"
      ]
     },
     "metadata": {},
     "output_type": "display_data"
    }
   ],
   "source": [
    "\n",
    "plt.figure(figsize=(10, 6))\n",
    "plt.hist(selected_df['CODIGOTIPOTRX'], bins=20, edgecolor='black')\n",
    "plt.title('Histograma de CODIGOTIPOTRX')\n",
    "plt.xlabel('CODIGOTIPOTRX')\n",
    "plt.ylabel('Frecuencia')\n",
    "plt.grid(True)\n",
    "plt.show()\n"
   ]
  },
  {
   "cell_type": "code",
   "execution_count": null,
   "id": "d612b4fd-ca8d-4440-9ee1-a572714078a9",
   "metadata": {
    "colab": {
     "base_uri": "https://localhost:8080/",
     "height": 229
    },
    "id": "d612b4fd-ca8d-4440-9ee1-a572714078a9",
    "outputId": "3cdaa9e6-3152-42f9-9848-81728d93e59d"
   },
   "outputs": [
    {
     "data": {
      "text/plain": [
       "CODIGOTIPOTRX\n",
       "12.0    4703388\n",
       "22.0     863914\n",
       "10.0       2325\n",
       "Name: count, dtype: int64"
      ]
     },
     "execution_count": 17,
     "metadata": {},
     "output_type": "execute_result"
    }
   ],
   "source": [
    "selected_df.value_counts('CODIGOTIPOTRX', dropna=False)\n"
   ]
  },
  {
   "cell_type": "markdown",
   "id": "5139b629",
   "metadata": {},
   "source": [
    "Descripción de tablas:\n",
    "> 2 valores existentes, 12 y 22. 12: boleto comun, 22: trasbordo. Influye en el monto.\n",
    "\n",
    "vemos que también hay 10"
   ]
  },
  {
   "cell_type": "code",
   "execution_count": null,
   "id": "4f8af927-6267-4295-b067-67087f166ec1",
   "metadata": {
    "colab": {
     "base_uri": "https://localhost:8080/",
     "height": 261
    },
    "id": "4f8af927-6267-4295-b067-67087f166ec1",
    "outputId": "68729393-1973-42e7-ba9c-e6c3ba30a645"
   },
   "outputs": [
    {
     "data": {
      "text/plain": [
       "ID_COMBINACION\n",
       "NaN    4705713\n",
       "1.0     828413\n",
       "2.0      33161\n",
       "3.0       2340\n",
       "Name: count, dtype: int64"
      ]
     },
     "execution_count": 18,
     "metadata": {},
     "output_type": "execute_result"
    }
   ],
   "source": [
    "selected_df.value_counts('ID_COMBINACION', dropna=False)"
   ]
  },
  {
   "cell_type": "markdown",
   "id": "d3a605b4-0ecd-4a43-b6c7-7a724203dfa3",
   "metadata": {
    "id": "d3a605b4-0ecd-4a43-b6c7-7a724203dfa3"
   },
   "source": [
    "descripción tablas deID_COMBINACIÓN\n",
    "> 5 valores distintos (blanco,1,2,3,71). localidades que puede tener varios trasbordos (con cada cantidad se hace descuentos)en que parte del trasbordo estas... sj 3 trasbordos... \n",
    "\n",
    "indica la cantidad de trasbordos, son correctos los datos"
   ]
  },
  {
   "cell_type": "code",
   "execution_count": null,
   "id": "a3b705ab",
   "metadata": {},
   "outputs": [
    {
     "data": {
      "text/plain": [
       "CODIGOCONTRATO\n",
       "621.0    3749759\n",
       "602.0    1817426\n",
       "624.0       2325\n",
       "106.0        116\n",
       "619.0          1\n",
       "Name: count, dtype: int64"
      ]
     },
     "execution_count": 19,
     "metadata": {},
     "output_type": "execute_result"
    }
   ],
   "source": [
    "selected_df.value_counts('CODIGOCONTRATO', dropna=False)"
   ]
  },
  {
   "cell_type": "markdown",
   "id": "81162aea",
   "metadata": {},
   "source": [
    "explicación de la tabla\n",
    "> Tipo de boleto (beneficio, descuento). asociado a la tarjeta"
   ]
  },
  {
   "cell_type": "code",
   "execution_count": null,
   "id": "3a044059",
   "metadata": {},
   "outputs": [
    {
     "data": {
      "image/png": "[encoded data removed]",
      "text/plain": [
       "<Figure size 1000x600 with 1 Axes>"
      ]
     },
     "metadata": {},
     "output_type": "display_data"
    }
   ],
   "source": [
    "# mostrar histograma de ramal y luego contar nan\n",
    "plt.figure(figsize=(10, 6))\n",
    "plt.hist(selected_df['RAMAL'], bins=20, edgecolor='black')\n",
    "plt.xlabel('RAMAL')\n",
    "plt.ylabel('Frecuencia')\n",
    "plt.grid(True)\n",
    "plt.title('Histograma de RAMAL')\n",
    "plt.show()"
   ]
  },
  {
   "cell_type": "markdown",
   "id": "841d78d0",
   "metadata": {},
   "source": [
    "Descripción\n",
    ">EXTENSIONES. LA DESCRIPCION ESTA EN LA TABLA DE LAS LINEAS(EMPRESAS)"
   ]
  },
  {
   "cell_type": "markdown",
   "id": "a74c6baa-31da-49d6-a254-7d998989bd21",
   "metadata": {
    "id": "a74c6baa-31da-49d6-a254-7d998989bd21"
   },
   "source": [
    "# Tabla GPS"
   ]
  },
  {
   "cell_type": "markdown",
   "id": "Q_4Fpu-emgV5",
   "metadata": {
    "id": "Q_4Fpu-emgV5"
   },
   "source": [
    "## Carga de datos\n"
   ]
  },
  {
   "cell_type": "code",
   "execution_count": 17,
   "id": "fa67ccb3",
   "metadata": {},
   "outputs": [],
   "source": [
    "import pandas as pd\n",
    "import matplotlib.pyplot as plt\n",
    "import joblib\n",
    "import os\n",
    "\n",
    "path_gps = os.path.join('datasets', 'GPS_SAN_JUAN_022024.csv')\n"
   ]
  },
  {
   "cell_type": "code",
   "execution_count": 20,
   "id": "3f8a4566-951b-42a6-a0b6-2270437546ed",
   "metadata": {
    "id": "3f8a4566-951b-42a6-a0b6-2270437546ed"
   },
   "outputs": [],
   "source": [
    "\n",
    "gps_rows = 28000\n",
    "\n",
    "gps_column_types = {\n",
    "    \"CODIGOENTIDAD\": \"int64\",\n",
    "    \"IDLINEA\": \"int64\",\n",
    "    \"INTERTNO\": \"float64\",\n",
    "    \"C_LD_ID (RAMAL)\": \"int64\",\n",
    "    \"FILE_ID\": \"float64\",\n",
    "    \"DTSN\": \"float64\",\n",
    "    \"DATE_TIME\": \"datetime64[ns]\",\n",
    "    \"TYPE\": \"int64\",\n",
    "    \"DIRECTION\": \"int64\",\n",
    "    \"LONGITUDE\": \"float64\",\n",
    "    \"LATITUDE\": \"float64\",\n",
    "    \"VELOCITY\": \"float64\",\n",
    "    \"DISTANCE\": \"float64\",\n",
    "    \"STATUS\": \"int64\",\n",
    "    \"CONTROL_POINT\": \"int64\"\n",
    "}\n",
    "\n"
   ]
  },
  {
   "cell_type": "code",
   "execution_count": 21,
   "id": "0c407d2c-6869-4e67-985d-46a2afae01cc",
   "metadata": {
    "id": "0c407d2c-6869-4e67-985d-46a2afae01cc"
   },
   "outputs": [],
   "source": [
    "def load_data_GPS(path, columns):\n",
    "    return pd.read_csv(\n",
    "        path,\n",
    "        dtype=columns,\n",
    "        delimiter=';',\n",
    "        on_bad_lines='skip',\n",
    "        decimal=',',\n",
    "        )\n"
   ]
  },
  {
   "cell_type": "code",
   "execution_count": 22,
   "id": "8b327291-e5d9-49e3-ada4-48e7286de544",
   "metadata": {
    "id": "8b327291-e5d9-49e3-ada4-48e7286de544"
   },
   "outputs": [
    {
     "name": "stdout",
     "output_type": "stream",
     "text": [
      "<class 'pandas.core.frame.DataFrame'>\n",
      "RangeIndex: 2850268 entries, 0 to 2850267\n",
      "Data columns (total 18 columns):\n",
      " #   Column           Dtype  \n",
      "---  ------           -----  \n",
      " 0   codigoentidad    int64  \n",
      " 1   idlinea          float64\n",
      " 2   interno          int64  \n",
      " 3   c_ld_Id          int64  \n",
      " 4   file_id          int64  \n",
      " 5   FILENAME         object \n",
      " 6   record_type      int64  \n",
      " 7   dtsn             int64  \n",
      " 8   date_time        object \n",
      " 9   TYPE             int64  \n",
      " 10  direction        int64  \n",
      " 11  device           int64  \n",
      " 12  longitude        object \n",
      " 13  latitude         object \n",
      " 14  velocity         int64  \n",
      " 15  distance         int64  \n",
      " 16  status           int64  \n",
      " 17  c_control_point  int64  \n",
      "dtypes: float64(1), int64(13), object(4)\n",
      "memory usage: 391.4+ MB\n"
     ]
    }
   ],
   "source": [
    "gps_df = load_data_GPS(path_gps, gps_column_types)\n",
    "gps_df.info()"
   ]
  },
  {
   "cell_type": "code",
   "execution_count": 23,
   "id": "2a53ff75-1df4-4828-b2da-d0de48d95844",
   "metadata": {
    "colab": {
     "base_uri": "https://localhost:8080/",
     "height": 313
    },
    "id": "2a53ff75-1df4-4828-b2da-d0de48d95844",
    "outputId": "85cbc92c-f555-43b5-eeb8-826549cae563"
   },
   "outputs": [
    {
     "data": {
      "text/html": [
       "<div>\n",
       "<style scoped>\n",
       "    .dataframe tbody tr th:only-of-type {\n",
       "        vertical-align: middle;\n",
       "    }\n",
       "\n",
       "    .dataframe tbody tr th {\n",
       "        vertical-align: top;\n",
       "    }\n",
       "\n",
       "    .dataframe thead th {\n",
       "        text-align: right;\n",
       "    }\n",
       "</style>\n",
       "<table border=\"1\" class=\"dataframe\">\n",
       "  <thead>\n",
       "    <tr style=\"text-align: right;\">\n",
       "      <th></th>\n",
       "      <th>codigoentidad</th>\n",
       "      <th>idlinea</th>\n",
       "      <th>interno</th>\n",
       "      <th>c_ld_Id</th>\n",
       "      <th>file_id</th>\n",
       "      <th>FILENAME</th>\n",
       "      <th>record_type</th>\n",
       "      <th>dtsn</th>\n",
       "      <th>date_time</th>\n",
       "      <th>TYPE</th>\n",
       "      <th>direction</th>\n",
       "      <th>device</th>\n",
       "      <th>longitude</th>\n",
       "      <th>latitude</th>\n",
       "      <th>velocity</th>\n",
       "      <th>distance</th>\n",
       "      <th>status</th>\n",
       "      <th>c_control_point</th>\n",
       "    </tr>\n",
       "  </thead>\n",
       "  <tbody>\n",
       "    <tr>\n",
       "      <th>0</th>\n",
       "      <td>251</td>\n",
       "      <td>NaN</td>\n",
       "      <td>21</td>\n",
       "      <td>0</td>\n",
       "      <td>336411229</td>\n",
       "      <td>LSR_0251_339_00021_0000004344_04682_20240202_1...</td>\n",
       "      <td>220</td>\n",
       "      <td>2929896</td>\n",
       "      <td>02/02/2024 09:55:35</td>\n",
       "      <td>5</td>\n",
       "      <td>255</td>\n",
       "      <td>4344</td>\n",
       "      <td>-68.54042</td>\n",
       "      <td>-31.54441</td>\n",
       "      <td>0</td>\n",
       "      <td>0</td>\n",
       "      <td>64</td>\n",
       "      <td>1</td>\n",
       "    </tr>\n",
       "    <tr>\n",
       "      <th>1</th>\n",
       "      <td>251</td>\n",
       "      <td>NaN</td>\n",
       "      <td>21</td>\n",
       "      <td>0</td>\n",
       "      <td>336411229</td>\n",
       "      <td>LSR_0251_339_00021_0000004344_04682_20240202_1...</td>\n",
       "      <td>220</td>\n",
       "      <td>2929899</td>\n",
       "      <td>02/02/2024 09:55:42</td>\n",
       "      <td>3</td>\n",
       "      <td>255</td>\n",
       "      <td>4344</td>\n",
       "      <td>-68.54042</td>\n",
       "      <td>-31.54441</td>\n",
       "      <td>0</td>\n",
       "      <td>0</td>\n",
       "      <td>8</td>\n",
       "      <td>2</td>\n",
       "    </tr>\n",
       "    <tr>\n",
       "      <th>2</th>\n",
       "      <td>251</td>\n",
       "      <td>3381.0</td>\n",
       "      <td>21</td>\n",
       "      <td>7555</td>\n",
       "      <td>336411229</td>\n",
       "      <td>LSR_0251_339_00021_0000004344_04682_20240202_1...</td>\n",
       "      <td>220</td>\n",
       "      <td>2929903</td>\n",
       "      <td>02/02/2024 09:55:47</td>\n",
       "      <td>7</td>\n",
       "      <td>255</td>\n",
       "      <td>4344</td>\n",
       "      <td>-68.54042</td>\n",
       "      <td>-31.54441</td>\n",
       "      <td>0</td>\n",
       "      <td>0</td>\n",
       "      <td>64</td>\n",
       "      <td>3</td>\n",
       "    </tr>\n",
       "    <tr>\n",
       "      <th>3</th>\n",
       "      <td>251</td>\n",
       "      <td>3381.0</td>\n",
       "      <td>21</td>\n",
       "      <td>7555</td>\n",
       "      <td>336411229</td>\n",
       "      <td>LSR_0251_339_00021_0000004344_04682_20240202_1...</td>\n",
       "      <td>220</td>\n",
       "      <td>2929905</td>\n",
       "      <td>02/02/2024 09:59:43</td>\n",
       "      <td>3</td>\n",
       "      <td>1</td>\n",
       "      <td>4344</td>\n",
       "      <td>-68.54028</td>\n",
       "      <td>-31.54454</td>\n",
       "      <td>9</td>\n",
       "      <td>0</td>\n",
       "      <td>8</td>\n",
       "      <td>4</td>\n",
       "    </tr>\n",
       "    <tr>\n",
       "      <th>4</th>\n",
       "      <td>251</td>\n",
       "      <td>3381.0</td>\n",
       "      <td>21</td>\n",
       "      <td>7555</td>\n",
       "      <td>336411229</td>\n",
       "      <td>LSR_0251_339_00021_0000004344_04682_20240202_1...</td>\n",
       "      <td>220</td>\n",
       "      <td>2929906</td>\n",
       "      <td>02/02/2024 10:03:43</td>\n",
       "      <td>3</td>\n",
       "      <td>1</td>\n",
       "      <td>4344</td>\n",
       "      <td>-68.53884</td>\n",
       "      <td>-31.54263</td>\n",
       "      <td>37</td>\n",
       "      <td>1075</td>\n",
       "      <td>8</td>\n",
       "      <td>5</td>\n",
       "    </tr>\n",
       "  </tbody>\n",
       "</table>\n",
       "</div>"
      ],
      "text/plain": [
       "   codigoentidad  idlinea  interno  c_ld_Id    file_id  \\\n",
       "0            251      NaN       21        0  336411229   \n",
       "1            251      NaN       21        0  336411229   \n",
       "2            251   3381.0       21     7555  336411229   \n",
       "3            251   3381.0       21     7555  336411229   \n",
       "4            251   3381.0       21     7555  336411229   \n",
       "\n",
       "                                            FILENAME  record_type     dtsn  \\\n",
       "0  LSR_0251_339_00021_0000004344_04682_20240202_1...          220  2929896   \n",
       "1  LSR_0251_339_00021_0000004344_04682_20240202_1...          220  2929899   \n",
       "2  LSR_0251_339_00021_0000004344_04682_20240202_1...          220  2929903   \n",
       "3  LSR_0251_339_00021_0000004344_04682_20240202_1...          220  2929905   \n",
       "4  LSR_0251_339_00021_0000004344_04682_20240202_1...          220  2929906   \n",
       "\n",
       "             date_time  TYPE  direction  device  longitude   latitude  \\\n",
       "0  02/02/2024 09:55:35     5        255    4344  -68.54042  -31.54441   \n",
       "1  02/02/2024 09:55:42     3        255    4344  -68.54042  -31.54441   \n",
       "2  02/02/2024 09:55:47     7        255    4344  -68.54042  -31.54441   \n",
       "3  02/02/2024 09:59:43     3          1    4344  -68.54028  -31.54454   \n",
       "4  02/02/2024 10:03:43     3          1    4344  -68.53884  -31.54263   \n",
       "\n",
       "   velocity  distance  status  c_control_point  \n",
       "0         0         0      64                1  \n",
       "1         0         0       8                2  \n",
       "2         0         0      64                3  \n",
       "3         9         0       8                4  \n",
       "4        37      1075       8                5  "
      ]
     },
     "execution_count": 23,
     "metadata": {},
     "output_type": "execute_result"
    }
   ],
   "source": [
    "gps_df.head()"
   ]
  },
  {
   "cell_type": "markdown",
   "id": "PznZjOsGmkGv",
   "metadata": {
    "id": "PznZjOsGmkGv"
   },
   "source": [
    "## Visualizaciones\n"
   ]
  },
  {
   "cell_type": "code",
   "execution_count": 24,
   "id": "d0445e6e-a77c-4cd6-a180-f839b61f1286",
   "metadata": {
    "colab": {
     "base_uri": "https://localhost:8080/",
     "height": 627
    },
    "id": "d0445e6e-a77c-4cd6-a180-f839b61f1286",
    "outputId": "97088ffc-84e7-4b13-a381-a0fde52f34c8"
   },
   "outputs": [
    {
     "data": {
      "image/png": "[encoded data removed]",
      "text/plain": [
       "<Figure size 1000x600 with 1 Axes>"
      ]
     },
     "metadata": {},
     "output_type": "display_data"
    }
   ],
   "source": [
    "lat_min, lat_max = gps_df['latitude'].min(), gps_df['latitude'].max()\n",
    "lon_min, lon_max = gps_df['longitude'].min(), gps_df['longitude'].max()\n",
    "\n",
    "\n",
    "plt.figure(figsize=(10,6))\n",
    "plt.scatter(gps_df['longitude'], gps_df['latitude'], c='blue', marker='o', alpha=0.3, s=10)\n",
    "plt.xlim(lon_min, lon_max)\n",
    "plt.ylim(lat_min, lat_max)\n",
    "plt.tick_params(axis='x', labelbottom=False)\n",
    "plt.tick_params(axis='y', labelleft=False)\n",
    "plt.title('Ploteo')\n",
    "plt.xlabel('Longitud')\n",
    "plt.ylabel('Latitud')\n",
    "plt.tight_layout()\n",
    "plt.grid(True)\n",
    "plt.show()\n"
   ]
  }
 ],
 "metadata": {
  "colab": {
   "include_colab_link": true,
   "provenance": [],
   "toc_visible": true
  },
  "kernelspec": {
   "display_name": ".venv",
   "language": "python",
   "name": "python3"
  },
  "language_info": {
   "codemirror_mode": {
    "name": "ipython",
    "version": 3
   },
   "file_extension": ".py",
   "mimetype": "text/x-python",
   "name": "python",
   "nbconvert_exporter": "python",
   "pygments_lexer": "ipython3",
   "version": "3.10.11"
  }
 },
 "nbformat": 4,
 "nbformat_minor": 5
}
