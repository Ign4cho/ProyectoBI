{
  "cells": [
    {
      "cell_type": "markdown",
      "metadata": {
        "id": "view-in-github",
        "colab_type": "text"
      },
      "source": [
        "<a href=\"https://colab.research.google.com/github/Ign4cho/ProyectoBI/blob/main/EDA.ipynb\" target=\"_parent\"><img src=\"https://colab.research.google.com/assets/colab-badge.svg\" alt=\"Open In Colab\"/></a>"
      ]
    },
    {
      "cell_type": "markdown",
      "source": [
        "# Introducción\n",
        "Carga de datos"
      ],
      "metadata": {
        "id": "WGAVZgHvmOV5"
      },
      "id": "WGAVZgHvmOV5"
    },
    {
      "cell_type": "code",
      "execution_count": 1,
      "id": "55742dbe",
      "metadata": {
        "id": "55742dbe"
      },
      "outputs": [],
      "source": [
        "import pandas as pd\n",
        "import matplotlib.pyplot as plt"
      ]
    },
    {
      "cell_type": "code",
      "source": [
        "\n",
        "from google.colab import drive\n",
        "drive.mount('/content/drive')\n"
      ],
      "metadata": {
        "colab": {
          "base_uri": "https://localhost:8080/"
        },
        "id": "gHDojCmuMSN8",
        "outputId": "1258ddf0-b2f5-4e7d-ff6c-dc92edae281c"
      },
      "id": "gHDojCmuMSN8",
      "execution_count": 2,
      "outputs": [
        {
          "output_type": "stream",
          "name": "stdout",
          "text": [
            "Mounted at /content/drive\n"
          ]
        }
      ]
    },
    {
      "cell_type": "code",
      "source": [
        "csv_path = \"/content/drive/MyDrive/Colab Notebooks/EXTRACCION_Prov-San-Juan_032024.csv\"\n",
        "cantidad_filas = 3000000\n",
        "column_types = {\n",
        "            'CODIGOENTIDAD': 'float64',\n",
        "            'IDLINEA': 'float64',\n",
        "            'NROCHIP': 'float64',\n",
        "            'NROTARJETA': 'float64',\n",
        "            'CODIGOCONTRATO': 'float64',\n",
        "            'SECUENCIA_TARJETA': 'float64',\n",
        "            'FECHATRX': 'string',\n",
        "            'MONTO': 'float64',\n",
        "            'SALDO': 'float64',\n",
        "            'VALOR_TARIFA': 'float64',\n",
        "            'INTERNO': 'float64',\n",
        "            'DISPOSITIVO': 'float64',\n",
        "            'SECTERMINAL': 'float64',\n",
        "            'CODIGOTIPOTRX': 'float64',\n",
        "            'CODIGOSUBTIPOTRX': 'float64',\n",
        "            'TIPOMAPPING': 'float64',\n",
        "            'ENTIDAD_EMISORA_TARJ': 'float64',\n",
        "            'CODIGOERROR': 'float64',\n",
        "            'FECHAPROCESO': 'string',\n",
        "            'RAMAL': 'float64',\n",
        "            'IDARCHIVOINTERCAMBIO': 'float64',\n",
        "            'CODIGOROL': 'string',\n",
        "            'CODIGOTIPOTARJETA': 'float64',\n",
        "            'SENTIDO': 'string',\n",
        "            'MONEDERO_ID': 'float64',\n",
        "            'EMISOR_CONTRATO': 'float64',\n",
        "            'SAM_ID': 'string',\n",
        "            'LG_ID': 'float64',\n",
        "            'TIPO_TERMINAL': 'float64',\n",
        "            'ID_SERVICIO': 'float64',\n",
        "            'VERSION_TIPO_TRX': 'float64',\n",
        "            'ID_INTEGRADOR': 'float64',\n",
        "            'EMISOR_MONEDERO': 'float64',\n",
        "            'SECCION_FIN': 'float64',\n",
        "            'SECCION_INICIO': 'float64',\n",
        "            'DESCUENTO': 'float64',\n",
        "            'PROVISION': 'float64',\n",
        "            'ID_POSICIONAMIENTO': 'float64',\n",
        "            'PTC': 'float64',\n",
        "            'LTC': 'float64'\n",
        "        }"
      ],
      "metadata": {
        "id": "9oASrg9ygbRl"
      },
      "id": "9oASrg9ygbRl",
      "execution_count": 23,
      "outputs": []
    },
    {
      "cell_type": "code",
      "execution_count": 36,
      "id": "333c0c70-99d4-401c-a365-aabafc61584a",
      "metadata": {
        "id": "333c0c70-99d4-401c-a365-aabafc61584a"
      },
      "outputs": [],
      "source": [
        "def load_data():\n",
        "    return pd.read_csv(csv_path, delimiter=';', on_bad_lines='skip', decimal=',',\n",
        "                          dtype=column_types)\n",
        "    #si hace falta agregar: nrows=cantidad_filas,\n"
      ]
    },
    {
      "cell_type": "code",
      "execution_count": null,
      "id": "c3a94a84-0ccc-4436-802f-bfa62b2b9421",
      "metadata": {
        "id": "c3a94a84-0ccc-4436-802f-bfa62b2b9421"
      },
      "outputs": [],
      "source": [
        "data=load_data()"
      ]
    },
    {
      "cell_type": "code",
      "execution_count": null,
      "id": "e49fc254-9477-4d67-8868-6e84e9797095",
      "metadata": {
        "scrolled": true,
        "id": "e49fc254-9477-4d67-8868-6e84e9797095"
      },
      "outputs": [],
      "source": [
        "columnas_importantes = ['CODIGOENTIDAD', 'IDLINEA', 'NROTARJETA', 'CODIGOCONTRATO',\n",
        "                            'FECHATRX','CODIGOTIPOTRX','RAMAL','ID_POSICIONAMIENTO','ID_COMBINACION']\n",
        "df = data[columnas_importantes]\n",
        "df.info()\n"
      ]
    },
    {
      "cell_type": "markdown",
      "id": "4e66fc5f-0806-4b24-87d2-bb4514badc2b",
      "metadata": {
        "id": "4e66fc5f-0806-4b24-87d2-bb4514badc2b"
      },
      "source": [
        "# Comentarios"
      ]
    },
    {
      "cell_type": "markdown",
      "id": "a7165ee0-1800-458d-ab89-b0424000a404",
      "metadata": {
        "id": "a7165ee0-1800-458d-ab89-b0424000a404"
      },
      "source": [
        "## Describe e Info\n",
        "La mayoría de los valores no son necesariamente numéricos, pero vemos que la mayoría son non-null por lo menos."
      ]
    },
    {
      "cell_type": "code",
      "execution_count": null,
      "id": "198dbc41-1031-4d1c-aa87-86f6276d68e8",
      "metadata": {
        "id": "198dbc41-1031-4d1c-aa87-86f6276d68e8"
      },
      "outputs": [],
      "source": [
        "df.head()"
      ]
    },
    {
      "cell_type": "code",
      "source": [
        "plt.figure(figsize=(10, 6))\n",
        "plt.hist(df['IDLINEA'].dropna(), bins=50)  # Usamos dropna para eliminar valores nulos\n",
        "plt.xlabel('IDLINEA')\n",
        "plt.ylabel('Frecuencia')\n",
        "plt.title('Histograma de IDLINEA')\n",
        "plt.show()\n"
      ],
      "metadata": {
        "id": "zzLoxyRVqm82"
      },
      "id": "zzLoxyRVqm82",
      "execution_count": null,
      "outputs": []
    },
    {
      "cell_type": "code",
      "source": [
        "\n",
        "idlinea_counts = df['IDLINEA'].value_counts(dropna=False)\n",
        "print(idlinea_counts)\n"
      ],
      "metadata": {
        "id": "piFhDpkhq5hC"
      },
      "id": "piFhDpkhq5hC",
      "execution_count": null,
      "outputs": []
    },
    {
      "cell_type": "markdown",
      "id": "4404fe50-b129-4dcf-a357-a27c0a24ea88",
      "metadata": {
        "id": "4404fe50-b129-4dcf-a357-a27c0a24ea88"
      },
      "source": [
        "# Visualizaciones\n",
        "Vamos a probar algunas visualizaciones\n",
        "Primero vamos a ver de Codigotipotrx que es el codigo tipo transacción. Según el excel tiene dos valores posibles: 12 y 22.\n",
        "Después anazlizamos también el ID_COMBINACIÓN"
      ]
    },
    {
      "cell_type": "code",
      "execution_count": 30,
      "id": "f58088e5-de98-4c1c-b0f3-c28353672fde",
      "metadata": {
        "colab": {
          "base_uri": "https://localhost:8080/",
          "height": 584
        },
        "id": "f58088e5-de98-4c1c-b0f3-c28353672fde",
        "outputId": "5f33604e-49ec-4ffd-e84f-8ef1ea32da10"
      },
      "outputs": [
        {
          "output_type": "display_data",
          "data": {
            "text/plain": [
              "<Figure size 1000x600 with 1 Axes>"
            ],
            "image/png": "[encoded data removed]"
          },
          "metadata": {}
        }
      ],
      "source": [
        "\n",
        "plt.figure(figsize=(10, 6))\n",
        "plt.hist(df['CODIGOTIPOTRX'], bins=20, edgecolor='black')\n",
        "plt.title('Histograma de CODIGOTIPOTRX')\n",
        "plt.xlabel('CODIGOTIPOTRX')\n",
        "plt.ylabel('Frecuencia')\n",
        "plt.grid(True)\n",
        "plt.show()\n"
      ]
    },
    {
      "cell_type": "markdown",
      "id": "e7e54c83-7f4c-4453-8935-92ed046e801c",
      "metadata": {
        "id": "e7e54c83-7f4c-4453-8935-92ed046e801c"
      },
      "source": [
        "No coincide con lo que nos dice en el excel\n",
        "Vamos a estudiarlo con una tabla de frecuencia"
      ]
    },
    {
      "cell_type": "code",
      "execution_count": 34,
      "id": "d612b4fd-ca8d-4440-9ee1-a572714078a9",
      "metadata": {
        "colab": {
          "base_uri": "https://localhost:8080/",
          "height": 229
        },
        "id": "d612b4fd-ca8d-4440-9ee1-a572714078a9",
        "outputId": "3cdaa9e6-3152-42f9-9848-81728d93e59d"
      },
      "outputs": [
        {
          "output_type": "execute_result",
          "data": {
            "text/plain": [
              "CODIGOTIPOTRX\n",
              "12.0    2562330\n",
              "22.0     436343\n",
              "10.0       1327\n",
              "Name: count, dtype: int64"
            ],
            "text/html": [
              "<div>\n",
              "<style scoped>\n",
              "    .dataframe tbody tr th:only-of-type {\n",
              "        vertical-align: middle;\n",
              "    }\n",
              "\n",
              "    .dataframe tbody tr th {\n",
              "        vertical-align: top;\n",
              "    }\n",
              "\n",
              "    .dataframe thead th {\n",
              "        text-align: right;\n",
              "    }\n",
              "</style>\n",
              "<table border=\"1\" class=\"dataframe\">\n",
              "  <thead>\n",
              "    <tr style=\"text-align: right;\">\n",
              "      <th></th>\n",
              "      <th>count</th>\n",
              "    </tr>\n",
              "    <tr>\n",
              "      <th>CODIGOTIPOTRX</th>\n",
              "      <th></th>\n",
              "    </tr>\n",
              "  </thead>\n",
              "  <tbody>\n",
              "    <tr>\n",
              "      <th>12.0</th>\n",
              "      <td>2562330</td>\n",
              "    </tr>\n",
              "    <tr>\n",
              "      <th>22.0</th>\n",
              "      <td>436343</td>\n",
              "    </tr>\n",
              "    <tr>\n",
              "      <th>10.0</th>\n",
              "      <td>1327</td>\n",
              "    </tr>\n",
              "  </tbody>\n",
              "</table>\n",
              "</div><br><label><b>dtype:</b> int64</label>"
            ]
          },
          "metadata": {},
          "execution_count": 34
        }
      ],
      "source": [
        "df.value_counts('CODIGOTIPOTRX', dropna=False)\n"
      ]
    },
    {
      "cell_type": "markdown",
      "id": "42396eef-e7a3-4f57-8dec-290ec5406934",
      "metadata": {
        "id": "42396eef-e7a3-4f57-8dec-290ec5406934"
      },
      "source": [
        "## TODO\n",
        "\n",
        "Después vamos a revisar si esto sigue pasando con otros meses."
      ]
    },
    {
      "cell_type": "code",
      "execution_count": 35,
      "id": "4f8af927-6267-4295-b067-67087f166ec1",
      "metadata": {
        "colab": {
          "base_uri": "https://localhost:8080/",
          "height": 261
        },
        "id": "4f8af927-6267-4295-b067-67087f166ec1",
        "outputId": "68729393-1973-42e7-ba9c-e6c3ba30a645"
      },
      "outputs": [
        {
          "output_type": "execute_result",
          "data": {
            "text/plain": [
              "ID_COMBINACION\n",
              "NaN    2563657\n",
              "1.0     416935\n",
              "2.0      17984\n",
              "3.0       1424\n",
              "Name: count, dtype: int64"
            ],
            "text/html": [
              "<div>\n",
              "<style scoped>\n",
              "    .dataframe tbody tr th:only-of-type {\n",
              "        vertical-align: middle;\n",
              "    }\n",
              "\n",
              "    .dataframe tbody tr th {\n",
              "        vertical-align: top;\n",
              "    }\n",
              "\n",
              "    .dataframe thead th {\n",
              "        text-align: right;\n",
              "    }\n",
              "</style>\n",
              "<table border=\"1\" class=\"dataframe\">\n",
              "  <thead>\n",
              "    <tr style=\"text-align: right;\">\n",
              "      <th></th>\n",
              "      <th>count</th>\n",
              "    </tr>\n",
              "    <tr>\n",
              "      <th>ID_COMBINACION</th>\n",
              "      <th></th>\n",
              "    </tr>\n",
              "  </thead>\n",
              "  <tbody>\n",
              "    <tr>\n",
              "      <th>NaN</th>\n",
              "      <td>2563657</td>\n",
              "    </tr>\n",
              "    <tr>\n",
              "      <th>1.0</th>\n",
              "      <td>416935</td>\n",
              "    </tr>\n",
              "    <tr>\n",
              "      <th>2.0</th>\n",
              "      <td>17984</td>\n",
              "    </tr>\n",
              "    <tr>\n",
              "      <th>3.0</th>\n",
              "      <td>1424</td>\n",
              "    </tr>\n",
              "  </tbody>\n",
              "</table>\n",
              "</div><br><label><b>dtype:</b> int64</label>"
            ]
          },
          "metadata": {},
          "execution_count": 35
        }
      ],
      "source": [
        "df.value_counts('ID_COMBINACION', dropna=False)"
      ]
    },
    {
      "cell_type": "markdown",
      "id": "d3a605b4-0ecd-4a43-b6c7-7a724203dfa3",
      "metadata": {
        "id": "d3a605b4-0ecd-4a43-b6c7-7a724203dfa3"
      },
      "source": [
        "tampoco coincide con las tablas"
      ]
    },
    {
      "cell_type": "markdown",
      "id": "a74c6baa-31da-49d6-a254-7d998989bd21",
      "metadata": {
        "id": "a74c6baa-31da-49d6-a254-7d998989bd21"
      },
      "source": [
        "# Tabla GPS"
      ]
    },
    {
      "cell_type": "markdown",
      "source": [
        "## Carga de datos\n"
      ],
      "metadata": {
        "id": "Q_4Fpu-emgV5"
      },
      "id": "Q_4Fpu-emgV5"
    },
    {
      "cell_type": "code",
      "execution_count": 20,
      "id": "3f8a4566-951b-42a6-a0b6-2270437546ed",
      "metadata": {
        "id": "3f8a4566-951b-42a6-a0b6-2270437546ed"
      },
      "outputs": [],
      "source": [
        "\n",
        "path_gps = \"/content/drive/MyDrive/Colab Notebooks/GPS_SAN_JUAN_032023.csv\"\n",
        "filas_gps = 28000\n",
        "\n",
        "columna_gps = [\n",
        "        'CODIGOENTIDAD', 'IDLINEA', 'DATE_TIME', 'LONGITUDE', 'LATITUDE', 'VELOCITY'\n",
        "    ]\n",
        "tipo_gps = {\n",
        "    \"CODIGOENTIDAD\": \"int64\",\n",
        "    \"IDLINEA\": \"int64\",\n",
        "    \"INTERTNO\": \"float64\",\n",
        "    \"C_LD_ID (RAMAL)\": \"int64\",\n",
        "    \"FILE_ID\": \"float64\",\n",
        "    \"DTSN\": \"float64\",\n",
        "    \"DATE_TIME\": \"datetime64[ns]\",\n",
        "    \"TYPE\": \"int64\",\n",
        "    \"DIRECTION\": \"int64\",\n",
        "    \"LONGITUDE\": \"float64\",\n",
        "    \"LATITUDE\": \"float64\",\n",
        "    \"VELOCITY\": \"float64\",\n",
        "    \"DISTANCE\": \"float64\",\n",
        "    \"STATUS\": \"int64\",\n",
        "    \"CONTROL_POINT\": \"int64\"\n",
        "}\n",
        "\n"
      ]
    },
    {
      "cell_type": "code",
      "execution_count": 13,
      "id": "0c407d2c-6869-4e67-985d-46a2afae01cc",
      "metadata": {
        "id": "0c407d2c-6869-4e67-985d-46a2afae01cc"
      },
      "outputs": [],
      "source": [
        "def load_data_GPS():\n",
        "    return pd.read_csv(\n",
        "        path_gps,\n",
        "        dtype=tipo_gps,\n",
        "        delimiter=';',\n",
        "        on_bad_lines='skip',\n",
        "        decimal=',',\n",
        "        nrows=filas_gps)\n"
      ]
    },
    {
      "cell_type": "code",
      "execution_count": 21,
      "id": "8b327291-e5d9-49e3-ada4-48e7286de544",
      "metadata": {
        "id": "8b327291-e5d9-49e3-ada4-48e7286de544"
      },
      "outputs": [],
      "source": [
        "df_gps = load_data_GPS()"
      ]
    },
    {
      "cell_type": "code",
      "execution_count": 15,
      "id": "2a53ff75-1df4-4828-b2da-d0de48d95844",
      "metadata": {
        "colab": {
          "base_uri": "https://localhost:8080/",
          "height": 313
        },
        "id": "2a53ff75-1df4-4828-b2da-d0de48d95844",
        "outputId": "85cbc92c-f555-43b5-eeb8-826549cae563"
      },
      "outputs": [
        {
          "output_type": "execute_result",
          "data": {
            "text/plain": [
              "   codigoentidad  idlinea  interno  c_ld_Id    file_id  \\\n",
              "0            514   3126.0      100     6976  302587652   \n",
              "1            514   3126.0      100     6976  302587652   \n",
              "2            514   3126.0      100     6976  302587652   \n",
              "3            514   3126.0      100     6976  302587652   \n",
              "4            514   3126.0      100     6976  302587652   \n",
              "\n",
              "                                            FILENAME  record_type     dtsn  \\\n",
              "0  LSR_0514_340_00100_0000004151_02726_20230318_1...          220  2078726   \n",
              "1  LSR_0514_340_00100_0000004151_02726_20230318_1...          220  2078717   \n",
              "2  LSR_0514_340_00100_0000004151_02726_20230318_1...          220  2078696   \n",
              "3  LSR_0514_340_00100_0000004151_02726_20230318_1...          220  2078671   \n",
              "4  LSR_0514_340_00100_0000004151_02726_20230318_1...          220  2078668   \n",
              "\n",
              "             date_time  TYPE  direction  device  longitude   latitude  \\\n",
              "0  06/03/2023 08:44:04     3          0    4151  -69.23099  -30.28858   \n",
              "1  06/03/2023 08:40:04     3          0    4151  -69.22225  -30.30829   \n",
              "2  06/03/2023 08:36:03     3          0    4151  -69.21514  -30.31642   \n",
              "3  06/03/2023 08:32:02     3          0    4151  -69.20416  -30.32098   \n",
              "4  06/03/2023 08:28:02     3          0    4151  -69.20639    -30.353   \n",
              "\n",
              "   velocity  distance  status  c_control_point  \n",
              "0         0     90786       8               37  \n",
              "1         0     88050       8               36  \n",
              "2        42     86533       8               35  \n",
              "3         0     85006       8               34  \n",
              "4        65     81253       8               33  "
            ],
            "text/html": [
              "\n",
              "  <div id=\"df-47caf52f-026a-4788-a800-122fd3a5f889\" class=\"colab-df-container\">\n",
              "    <div>\n",
              "<style scoped>\n",
              "    .dataframe tbody tr th:only-of-type {\n",
              "        vertical-align: middle;\n",
              "    }\n",
              "\n",
              "    .dataframe tbody tr th {\n",
              "        vertical-align: top;\n",
              "    }\n",
              "\n",
              "    .dataframe thead th {\n",
              "        text-align: right;\n",
              "    }\n",
              "</style>\n",
              "<table border=\"1\" class=\"dataframe\">\n",
              "  <thead>\n",
              "    <tr style=\"text-align: right;\">\n",
              "      <th></th>\n",
              "      <th>codigoentidad</th>\n",
              "      <th>idlinea</th>\n",
              "      <th>interno</th>\n",
              "      <th>c_ld_Id</th>\n",
              "      <th>file_id</th>\n",
              "      <th>FILENAME</th>\n",
              "      <th>record_type</th>\n",
              "      <th>dtsn</th>\n",
              "      <th>date_time</th>\n",
              "      <th>TYPE</th>\n",
              "      <th>direction</th>\n",
              "      <th>device</th>\n",
              "      <th>longitude</th>\n",
              "      <th>latitude</th>\n",
              "      <th>velocity</th>\n",
              "      <th>distance</th>\n",
              "      <th>status</th>\n",
              "      <th>c_control_point</th>\n",
              "    </tr>\n",
              "  </thead>\n",
              "  <tbody>\n",
              "    <tr>\n",
              "      <th>0</th>\n",
              "      <td>514</td>\n",
              "      <td>3126.0</td>\n",
              "      <td>100</td>\n",
              "      <td>6976</td>\n",
              "      <td>302587652</td>\n",
              "      <td>LSR_0514_340_00100_0000004151_02726_20230318_1...</td>\n",
              "      <td>220</td>\n",
              "      <td>2078726</td>\n",
              "      <td>06/03/2023 08:44:04</td>\n",
              "      <td>3</td>\n",
              "      <td>0</td>\n",
              "      <td>4151</td>\n",
              "      <td>-69.23099</td>\n",
              "      <td>-30.28858</td>\n",
              "      <td>0</td>\n",
              "      <td>90786</td>\n",
              "      <td>8</td>\n",
              "      <td>37</td>\n",
              "    </tr>\n",
              "    <tr>\n",
              "      <th>1</th>\n",
              "      <td>514</td>\n",
              "      <td>3126.0</td>\n",
              "      <td>100</td>\n",
              "      <td>6976</td>\n",
              "      <td>302587652</td>\n",
              "      <td>LSR_0514_340_00100_0000004151_02726_20230318_1...</td>\n",
              "      <td>220</td>\n",
              "      <td>2078717</td>\n",
              "      <td>06/03/2023 08:40:04</td>\n",
              "      <td>3</td>\n",
              "      <td>0</td>\n",
              "      <td>4151</td>\n",
              "      <td>-69.22225</td>\n",
              "      <td>-30.30829</td>\n",
              "      <td>0</td>\n",
              "      <td>88050</td>\n",
              "      <td>8</td>\n",
              "      <td>36</td>\n",
              "    </tr>\n",
              "    <tr>\n",
              "      <th>2</th>\n",
              "      <td>514</td>\n",
              "      <td>3126.0</td>\n",
              "      <td>100</td>\n",
              "      <td>6976</td>\n",
              "      <td>302587652</td>\n",
              "      <td>LSR_0514_340_00100_0000004151_02726_20230318_1...</td>\n",
              "      <td>220</td>\n",
              "      <td>2078696</td>\n",
              "      <td>06/03/2023 08:36:03</td>\n",
              "      <td>3</td>\n",
              "      <td>0</td>\n",
              "      <td>4151</td>\n",
              "      <td>-69.21514</td>\n",
              "      <td>-30.31642</td>\n",
              "      <td>42</td>\n",
              "      <td>86533</td>\n",
              "      <td>8</td>\n",
              "      <td>35</td>\n",
              "    </tr>\n",
              "    <tr>\n",
              "      <th>3</th>\n",
              "      <td>514</td>\n",
              "      <td>3126.0</td>\n",
              "      <td>100</td>\n",
              "      <td>6976</td>\n",
              "      <td>302587652</td>\n",
              "      <td>LSR_0514_340_00100_0000004151_02726_20230318_1...</td>\n",
              "      <td>220</td>\n",
              "      <td>2078671</td>\n",
              "      <td>06/03/2023 08:32:02</td>\n",
              "      <td>3</td>\n",
              "      <td>0</td>\n",
              "      <td>4151</td>\n",
              "      <td>-69.20416</td>\n",
              "      <td>-30.32098</td>\n",
              "      <td>0</td>\n",
              "      <td>85006</td>\n",
              "      <td>8</td>\n",
              "      <td>34</td>\n",
              "    </tr>\n",
              "    <tr>\n",
              "      <th>4</th>\n",
              "      <td>514</td>\n",
              "      <td>3126.0</td>\n",
              "      <td>100</td>\n",
              "      <td>6976</td>\n",
              "      <td>302587652</td>\n",
              "      <td>LSR_0514_340_00100_0000004151_02726_20230318_1...</td>\n",
              "      <td>220</td>\n",
              "      <td>2078668</td>\n",
              "      <td>06/03/2023 08:28:02</td>\n",
              "      <td>3</td>\n",
              "      <td>0</td>\n",
              "      <td>4151</td>\n",
              "      <td>-69.20639</td>\n",
              "      <td>-30.353</td>\n",
              "      <td>65</td>\n",
              "      <td>81253</td>\n",
              "      <td>8</td>\n",
              "      <td>33</td>\n",
              "    </tr>\n",
              "  </tbody>\n",
              "</table>\n",
              "</div>\n",
              "    <div class=\"colab-df-buttons\">\n",
              "\n",
              "  <div class=\"colab-df-container\">\n",
              "    <button class=\"colab-df-convert\" onclick=\"convertToInteractive('df-47caf52f-026a-4788-a800-122fd3a5f889')\"\n",
              "            title=\"Convert this dataframe to an interactive table.\"\n",
              "            style=\"display:none;\">\n",
              "\n",
              "  <svg xmlns=\"http://www.w3.org/2000/svg\" height=\"24px\" viewBox=\"0 -960 960 960\">\n",
              "    <path d=\"M120-120v-720h720v720H120Zm60-500h600v-160H180v160Zm220 220h160v-160H400v160Zm0 220h160v-160H400v160ZM180-400h160v-160H180v160Zm440 0h160v-160H620v160ZM180-180h160v-160H180v160Zm440 0h160v-160H620v160Z\"/>\n",
              "  </svg>\n",
              "    </button>\n",
              "\n",
              "  <style>\n",
              "    .colab-df-container {\n",
              "      display:flex;\n",
              "      gap: 12px;\n",
              "    }\n",
              "\n",
              "    .colab-df-convert {\n",
              "      background-color: #E8F0FE;\n",
              "      border: none;\n",
              "      border-radius: 50%;\n",
              "      cursor: pointer;\n",
              "      display: none;\n",
              "      fill: #1967D2;\n",
              "      height: 32px;\n",
              "      padding: 0 0 0 0;\n",
              "      width: 32px;\n",
              "    }\n",
              "\n",
              "    .colab-df-convert:hover {\n",
              "      background-color: #E2EBFA;\n",
              "      box-shadow: 0px 1px 2px rgba(60, 64, 67, 0.3), 0px 1px 3px 1px rgba(60, 64, 67, 0.15);\n",
              "      fill: #174EA6;\n",
              "    }\n",
              "\n",
              "    .colab-df-buttons div {\n",
              "      margin-bottom: 4px;\n",
              "    }\n",
              "\n",
              "    [theme=dark] .colab-df-convert {\n",
              "      background-color: #3B4455;\n",
              "      fill: #D2E3FC;\n",
              "    }\n",
              "\n",
              "    [theme=dark] .colab-df-convert:hover {\n",
              "      background-color: #434B5C;\n",
              "      box-shadow: 0px 1px 3px 1px rgba(0, 0, 0, 0.15);\n",
              "      filter: drop-shadow(0px 1px 2px rgba(0, 0, 0, 0.3));\n",
              "      fill: #FFFFFF;\n",
              "    }\n",
              "  </style>\n",
              "\n",
              "    <script>\n",
              "      const buttonEl =\n",
              "        document.querySelector('#df-47caf52f-026a-4788-a800-122fd3a5f889 button.colab-df-convert');\n",
              "      buttonEl.style.display =\n",
              "        google.colab.kernel.accessAllowed ? 'block' : 'none';\n",
              "\n",
              "      async function convertToInteractive(key) {\n",
              "        const element = document.querySelector('#df-47caf52f-026a-4788-a800-122fd3a5f889');\n",
              "        const dataTable =\n",
              "          await google.colab.kernel.invokeFunction('convertToInteractive',\n",
              "                                                    [key], {});\n",
              "        if (!dataTable) return;\n",
              "\n",
              "        const docLinkHtml = 'Like what you see? Visit the ' +\n",
              "          '<a target=\"_blank\" href=https://colab.research.google.com/notebooks/data_table.ipynb>data table notebook</a>'\n",
              "          + ' to learn more about interactive tables.';\n",
              "        element.innerHTML = '';\n",
              "        dataTable['output_type'] = 'display_data';\n",
              "        await google.colab.output.renderOutput(dataTable, element);\n",
              "        const docLink = document.createElement('div');\n",
              "        docLink.innerHTML = docLinkHtml;\n",
              "        element.appendChild(docLink);\n",
              "      }\n",
              "    </script>\n",
              "  </div>\n",
              "\n",
              "\n",
              "<div id=\"df-e172233a-bf02-451f-9ec2-5ee6a6d2c68a\">\n",
              "  <button class=\"colab-df-quickchart\" onclick=\"quickchart('df-e172233a-bf02-451f-9ec2-5ee6a6d2c68a')\"\n",
              "            title=\"Suggest charts\"\n",
              "            style=\"display:none;\">\n",
              "\n",
              "<svg xmlns=\"http://www.w3.org/2000/svg\" height=\"24px\"viewBox=\"0 0 24 24\"\n",
              "     width=\"24px\">\n",
              "    <g>\n",
              "        <path d=\"M19 3H5c-1.1 0-2 .9-2 2v14c0 1.1.9 2 2 2h14c1.1 0 2-.9 2-2V5c0-1.1-.9-2-2-2zM9 17H7v-7h2v7zm4 0h-2V7h2v10zm4 0h-2v-4h2v4z\"/>\n",
              "    </g>\n",
              "</svg>\n",
              "  </button>\n",
              "\n",
              "<style>\n",
              "  .colab-df-quickchart {\n",
              "      --bg-color: #E8F0FE;\n",
              "      --fill-color: #1967D2;\n",
              "      --hover-bg-color: #E2EBFA;\n",
              "      --hover-fill-color: #174EA6;\n",
              "      --disabled-fill-color: #AAA;\n",
              "      --disabled-bg-color: #DDD;\n",
              "  }\n",
              "\n",
              "  [theme=dark] .colab-df-quickchart {\n",
              "      --bg-color: #3B4455;\n",
              "      --fill-color: #D2E3FC;\n",
              "      --hover-bg-color: #434B5C;\n",
              "      --hover-fill-color: #FFFFFF;\n",
              "      --disabled-bg-color: #3B4455;\n",
              "      --disabled-fill-color: #666;\n",
              "  }\n",
              "\n",
              "  .colab-df-quickchart {\n",
              "    background-color: var(--bg-color);\n",
              "    border: none;\n",
              "    border-radius: 50%;\n",
              "    cursor: pointer;\n",
              "    display: none;\n",
              "    fill: var(--fill-color);\n",
              "    height: 32px;\n",
              "    padding: 0;\n",
              "    width: 32px;\n",
              "  }\n",
              "\n",
              "  .colab-df-quickchart:hover {\n",
              "    background-color: var(--hover-bg-color);\n",
              "    box-shadow: 0 1px 2px rgba(60, 64, 67, 0.3), 0 1px 3px 1px rgba(60, 64, 67, 0.15);\n",
              "    fill: var(--button-hover-fill-color);\n",
              "  }\n",
              "\n",
              "  .colab-df-quickchart-complete:disabled,\n",
              "  .colab-df-quickchart-complete:disabled:hover {\n",
              "    background-color: var(--disabled-bg-color);\n",
              "    fill: var(--disabled-fill-color);\n",
              "    box-shadow: none;\n",
              "  }\n",
              "\n",
              "  .colab-df-spinner {\n",
              "    border: 2px solid var(--fill-color);\n",
              "    border-color: transparent;\n",
              "    border-bottom-color: var(--fill-color);\n",
              "    animation:\n",
              "      spin 1s steps(1) infinite;\n",
              "  }\n",
              "\n",
              "  @keyframes spin {\n",
              "    0% {\n",
              "      border-color: transparent;\n",
              "      border-bottom-color: var(--fill-color);\n",
              "      border-left-color: var(--fill-color);\n",
              "    }\n",
              "    20% {\n",
              "      border-color: transparent;\n",
              "      border-left-color: var(--fill-color);\n",
              "      border-top-color: var(--fill-color);\n",
              "    }\n",
              "    30% {\n",
              "      border-color: transparent;\n",
              "      border-left-color: var(--fill-color);\n",
              "      border-top-color: var(--fill-color);\n",
              "      border-right-color: var(--fill-color);\n",
              "    }\n",
              "    40% {\n",
              "      border-color: transparent;\n",
              "      border-right-color: var(--fill-color);\n",
              "      border-top-color: var(--fill-color);\n",
              "    }\n",
              "    60% {\n",
              "      border-color: transparent;\n",
              "      border-right-color: var(--fill-color);\n",
              "    }\n",
              "    80% {\n",
              "      border-color: transparent;\n",
              "      border-right-color: var(--fill-color);\n",
              "      border-bottom-color: var(--fill-color);\n",
              "    }\n",
              "    90% {\n",
              "      border-color: transparent;\n",
              "      border-bottom-color: var(--fill-color);\n",
              "    }\n",
              "  }\n",
              "</style>\n",
              "\n",
              "  <script>\n",
              "    async function quickchart(key) {\n",
              "      const quickchartButtonEl =\n",
              "        document.querySelector('#' + key + ' button');\n",
              "      quickchartButtonEl.disabled = true;  // To prevent multiple clicks.\n",
              "      quickchartButtonEl.classList.add('colab-df-spinner');\n",
              "      try {\n",
              "        const charts = await google.colab.kernel.invokeFunction(\n",
              "            'suggestCharts', [key], {});\n",
              "      } catch (error) {\n",
              "        console.error('Error during call to suggestCharts:', error);\n",
              "      }\n",
              "      quickchartButtonEl.classList.remove('colab-df-spinner');\n",
              "      quickchartButtonEl.classList.add('colab-df-quickchart-complete');\n",
              "    }\n",
              "    (() => {\n",
              "      let quickchartButtonEl =\n",
              "        document.querySelector('#df-e172233a-bf02-451f-9ec2-5ee6a6d2c68a button');\n",
              "      quickchartButtonEl.style.display =\n",
              "        google.colab.kernel.accessAllowed ? 'block' : 'none';\n",
              "    })();\n",
              "  </script>\n",
              "</div>\n",
              "\n",
              "    </div>\n",
              "  </div>\n"
            ],
            "application/vnd.google.colaboratory.intrinsic+json": {
              "type": "dataframe",
              "variable_name": "df_gps",
              "summary": "{\n  \"name\": \"df_gps\",\n  \"rows\": 800,\n  \"fields\": [\n    {\n      \"column\": \"codigoentidad\",\n      \"properties\": {\n        \"dtype\": \"number\",\n        \"std\": 133,\n        \"min\": 251,\n        \"max\": 525,\n        \"num_unique_values\": 4,\n        \"samples\": [\n          525,\n          255,\n          514\n        ],\n        \"semantic_type\": \"\",\n        \"description\": \"\"\n      }\n    },\n    {\n      \"column\": \"idlinea\",\n      \"properties\": {\n        \"dtype\": \"number\",\n        \"std\": 119.00521406093218,\n        \"min\": 3119.0,\n        \"max\": 3394.0,\n        \"num_unique_values\": 10,\n        \"samples\": [\n          3119.0,\n          3356.0,\n          3346.0\n        ],\n        \"semantic_type\": \"\",\n        \"description\": \"\"\n      }\n    },\n    {\n      \"column\": \"interno\",\n      \"properties\": {\n        \"dtype\": \"number\",\n        \"std\": 47,\n        \"min\": 2,\n        \"max\": 152,\n        \"num_unique_values\": 16,\n        \"samples\": [\n          100,\n          104,\n          70\n        ],\n        \"semantic_type\": \"\",\n        \"description\": \"\"\n      }\n    },\n    {\n      \"column\": \"c_ld_Id\",\n      \"properties\": {\n        \"dtype\": \"number\",\n        \"std\": 1068,\n        \"min\": 0,\n        \"max\": 7597,\n        \"num_unique_values\": 12,\n        \"samples\": [\n          7590,\n          7542,\n          6976\n        ],\n        \"semantic_type\": \"\",\n        \"description\": \"\"\n      }\n    },\n    {\n      \"column\": \"file_id\",\n      \"properties\": {\n        \"dtype\": \"number\",\n        \"std\": 100382,\n        \"min\": 302587650,\n        \"max\": 302830082,\n        \"num_unique_values\": 20,\n        \"samples\": [\n          302587652,\n          302787582,\n          302805925\n        ],\n        \"semantic_type\": \"\",\n        \"description\": \"\"\n      }\n    },\n    {\n      \"column\": \"FILENAME\",\n      \"properties\": {\n        \"dtype\": \"category\",\n        \"num_unique_values\": 20,\n        \"samples\": [\n          \"LSR_0514_340_00100_0000004151_02726_20230318_105242_01.45.bin\",\n          \"LSR_0255_349_00011_0000004108_02533_20230320_194938_01.45.bin\",\n          \"LSR_0251_339_00101_0000004494_03079_20230320_214920_01.45.bin\"\n        ],\n        \"semantic_type\": \"\",\n        \"description\": \"\"\n      }\n    },\n    {\n      \"column\": \"record_type\",\n      \"properties\": {\n        \"dtype\": \"number\",\n        \"std\": 0,\n        \"min\": 220,\n        \"max\": 220,\n        \"num_unique_values\": 1,\n        \"samples\": [\n          220\n        ],\n        \"semantic_type\": \"\",\n        \"description\": \"\"\n      }\n    },\n    {\n      \"column\": \"dtsn\",\n      \"properties\": {\n        \"dtype\": \"number\",\n        \"std\": 302688,\n        \"min\": 1181532,\n        \"max\": 2119431,\n        \"num_unique_values\": 800,\n        \"samples\": [\n          1848808\n        ],\n        \"semantic_type\": \"\",\n        \"description\": \"\"\n      }\n    },\n    {\n      \"column\": \"date_time\",\n      \"properties\": {\n        \"dtype\": \"string\",\n        \"num_unique_values\": 791,\n        \"samples\": [\n          \"20/03/2023 11:31:50\"\n        ],\n        \"semantic_type\": \"\",\n        \"description\": \"\"\n      }\n    },\n    {\n      \"column\": \"TYPE\",\n      \"properties\": {\n        \"dtype\": \"number\",\n        \"std\": 1,\n        \"min\": 3,\n        \"max\": 8,\n        \"num_unique_values\": 5,\n        \"samples\": [\n          7\n        ],\n        \"semantic_type\": \"\",\n        \"description\": \"\"\n      }\n    },\n    {\n      \"column\": \"direction\",\n      \"properties\": {\n        \"dtype\": \"number\",\n        \"std\": 78,\n        \"min\": 0,\n        \"max\": 255,\n        \"num_unique_values\": 3,\n        \"samples\": [\n          0\n        ],\n        \"semantic_type\": \"\",\n        \"description\": \"\"\n      }\n    },\n    {\n      \"column\": \"device\",\n      \"properties\": {\n        \"dtype\": \"number\",\n        \"std\": 775,\n        \"min\": 4108,\n        \"max\": 8424,\n        \"num_unique_values\": 16,\n        \"samples\": [\n          4151\n        ],\n        \"semantic_type\": \"\",\n        \"description\": \"\"\n      }\n    },\n    {\n      \"column\": \"longitude\",\n      \"properties\": {\n        \"dtype\": \"string\",\n        \"num_unique_values\": 495,\n        \"samples\": [\n          \"-68.74944\"\n        ],\n        \"semantic_type\": \"\",\n        \"description\": \"\"\n      }\n    },\n    {\n      \"column\": \"latitude\",\n      \"properties\": {\n        \"dtype\": \"string\",\n        \"num_unique_values\": 486,\n        \"samples\": [\n          \"-30.63571\"\n        ],\n        \"semantic_type\": \"\",\n        \"description\": \"\"\n      }\n    },\n    {\n      \"column\": \"velocity\",\n      \"properties\": {\n        \"dtype\": \"number\",\n        \"std\": 20,\n        \"min\": 0,\n        \"max\": 96,\n        \"num_unique_values\": 80,\n        \"samples\": [\n          19\n        ],\n        \"semantic_type\": \"\",\n        \"description\": \"\"\n      }\n    },\n    {\n      \"column\": \"distance\",\n      \"properties\": {\n        \"dtype\": \"number\",\n        \"std\": 67468,\n        \"min\": 0,\n        \"max\": 356038,\n        \"num_unique_values\": 480,\n        \"samples\": [\n          85529\n        ],\n        \"semantic_type\": \"\",\n        \"description\": \"\"\n      }\n    },\n    {\n      \"column\": \"status\",\n      \"properties\": {\n        \"dtype\": \"number\",\n        \"std\": 52,\n        \"min\": 8,\n        \"max\": 192,\n        \"num_unique_values\": 5,\n        \"samples\": [\n          64\n        ],\n        \"semantic_type\": \"\",\n        \"description\": \"\"\n      }\n    },\n    {\n      \"column\": \"c_control_point\",\n      \"properties\": {\n        \"dtype\": \"number\",\n        \"std\": 72,\n        \"min\": 1,\n        \"max\": 267,\n        \"num_unique_values\": 253,\n        \"samples\": [\n          258\n        ],\n        \"semantic_type\": \"\",\n        \"description\": \"\"\n      }\n    }\n  ]\n}"
            }
          },
          "metadata": {},
          "execution_count": 15
        }
      ],
      "source": [
        "df_gps.head()"
      ]
    },
    {
      "cell_type": "markdown",
      "source": [
        "## Visualizaciones\n"
      ],
      "metadata": {
        "id": "PznZjOsGmkGv"
      },
      "id": "PznZjOsGmkGv"
    },
    {
      "cell_type": "code",
      "execution_count": 22,
      "id": "d0445e6e-a77c-4cd6-a180-f839b61f1286",
      "metadata": {
        "colab": {
          "base_uri": "https://localhost:8080/",
          "height": 627
        },
        "id": "d0445e6e-a77c-4cd6-a180-f839b61f1286",
        "outputId": "97088ffc-84e7-4b13-a381-a0fde52f34c8"
      },
      "outputs": [
        {
          "output_type": "display_data",
          "data": {
            "text/plain": [
              "<Figure size 1000x600 with 1 Axes>"
            ],
            "image/png": "[encoded data removed]"
          },
          "metadata": {}
        }
      ],
      "source": [
        "lat_min, lat_max = df_gps['latitude'].min(), df_gps['latitude'].max()\n",
        "lon_min, lon_max = df_gps['longitude'].min(), df_gps['longitude'].max()\n",
        "\n",
        "\n",
        "plt.figure(figsize=(10,6))\n",
        "plt.scatter(df_gps['longitude'], df_gps['latitude'], c='blue', marker='o', alpha=0.3, s=10)\n",
        "plt.xlim(lon_min, lon_max)\n",
        "plt.ylim(lat_min, lat_max)\n",
        "plt.tick_params(axis='x', labelbottom=False)\n",
        "plt.tick_params(axis='y', labelleft=False)\n",
        "plt.title('Ploteo')\n",
        "plt.xlabel('Longitud')\n",
        "plt.ylabel('Latitud')\n",
        "plt.tight_layout()\n",
        "plt.grid(True)\n",
        "plt.show()\n"
      ]
    }
  ],
  "metadata": {
    "kernelspec": {
      "display_name": "Python 3 (ipykernel)",
      "language": "python",
      "name": "python3"
    },
    "language_info": {
      "codemirror_mode": {
        "name": "ipython",
        "version": 3
      },
      "file_extension": ".py",
      "mimetype": "text/x-python",
      "name": "python",
      "nbconvert_exporter": "python",
      "pygments_lexer": "ipython3",
      "version": "3.10.14"
    },
    "colab": {
      "provenance": [],
      "toc_visible": true,
      "include_colab_link": true
    }
  },
  "nbformat": 4,
  "nbformat_minor": 5
}