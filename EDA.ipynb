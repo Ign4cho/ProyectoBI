{
 "cells": [
  {
   "cell_type": "code",
   "execution_count": 1,
   "id": "55742dbe",
   "metadata": {},
   "outputs": [],
   "source": [
    "import pandas as pd"
   ]
  },
  {
   "cell_type": "code",
   "execution_count": 2,
   "id": "333c0c70-99d4-401c-a365-aabafc61584a",
   "metadata": {},
   "outputs": [],
   "source": [
    "def load_data():\n",
    "    csv_path = \"./Datasets/2023-03/EXTRACCION_Prov-San-Juan_032023.csv\"\n",
    "    column_types = {\n",
    "            'CODIGOENTIDAD': 'float64',\n",
    "            'IDLINEA': 'float64',\n",
    "            'NROCHIP': 'float64',\n",
    "            'NROTARJETA': 'float64',\n",
    "            'CODIGOCONTRATO': 'float64',\n",
    "            'SECUENCIA_TARJETA': 'float64',\n",
    "            'FECHATRX': 'string',\n",
    "            'MONTO': 'float64',\n",
    "            'SALDO': 'float64',\n",
    "            'VALOR_TARIFA': 'float64',\n",
    "            'INTERNO': 'float64',\n",
    "            'DISPOSITIVO': 'float64',\n",
    "            'SECTERMINAL': 'float64',\n",
    "            'CODIGOTIPOTRX': 'float64',\n",
    "            'CODIGOSUBTIPOTRX': 'float64',\n",
    "            'TIPOMAPPING': 'float64',\n",
    "            'ENTIDAD_EMISORA_TARJ': 'float64',\n",
    "            'CODIGOERROR': 'float64',\n",
    "            'FECHAPROCESO': 'string',\n",
    "            'RAMAL': 'float64',\n",
    "            'IDARCHIVOINTERCAMBIO': 'float64',\n",
    "            'CODIGOROL': 'string',\n",
    "            'CODIGOTIPOTARJETA': 'float64',\n",
    "            'SENTIDO': 'string',\n",
    "            'MONEDERO_ID': 'float64',\n",
    "            'EMISOR_CONTRATO': 'float64',\n",
    "            'SAM_ID': 'string',\n",
    "            'LG_ID': 'float64',\n",
    "            'TIPO_TERMINAL': 'float64',\n",
    "            'ID_SERVICIO': 'float64',\n",
    "            'VERSION_TIPO_TRX': 'float64',\n",
    "            'ID_INTEGRADOR': 'float64',\n",
    "            'EMISOR_MONEDERO': 'float64',\n",
    "            'SECCION_FIN': 'float64',\n",
    "            'SECCION_INICIO': 'float64',\n",
    "            'DESCUENTO': 'float64',\n",
    "            'PROVISION': 'float64',\n",
    "            'ID_POSICIONAMIENTO': 'float64',\n",
    "            'PTC': 'float64',\n",
    "            'LTC': 'float64'\n",
    "        }\n",
    "    return pd.read_csv(csv_path, delimiter=';', on_bad_lines='skip', skiprows=1, decimal=',',\n",
    "                        names=['CODIGOENTIDAD', 'IDLINEA', 'NROTARJETA', 'CODIGOCONTRATO', 'FECHATRX','CODIGOTIPOTRX','RAMAL','ID_POSICIONAMIENTO','ID_COMBINACION'],\n",
    "                          dtype=column_types)"
   ]
  },
  {
   "cell_type": "code",
   "execution_count": 3,
   "id": "c3a94a84-0ccc-4436-802f-bfa62b2b9421",
   "metadata": {},
   "outputs": [],
   "source": [
    "data=load_data()"
   ]
  },
  {
   "cell_type": "code",
   "execution_count": null,
   "id": "e49fc254-9477-4d67-8868-6e84e9797095",
   "metadata": {
    "scrolled": true
   },
   "outputs": [],
   "source": [
    "data.info()"
   ]
  },
  {
   "cell_type": "code",
   "execution_count": null,
   "id": "08a5e204-5355-47c7-989f-acb54f53f418",
   "metadata": {},
   "outputs": [],
   "source": [
    "data.describe()"
   ]
  },
  {
   "cell_type": "markdown",
   "id": "a7165ee0-1800-458d-ab89-b0424000a404",
   "metadata": {},
   "source": [
    "# Describe e Info\n",
    "No dan mucha información porque todos los valores almacenados son objetos. Vamos a tener que usar otras estrategias para estudiar media, moda y cuartiles de los que nos intersan. \n",
    "Lo que veo rara es que en la descripción de las tablas hay cosas que ya veo que no se corresponden, como la cantidad de valores únicos de codigo entidad"
   ]
  },
  {
   "cell_type": "code",
   "execution_count": null,
   "id": "198dbc41-1031-4d1c-aa87-86f6276d68e8",
   "metadata": {},
   "outputs": [],
   "source": [
    "data.head()"
   ]
  },
  {
   "cell_type": "code",
   "execution_count": null,
   "id": "73134047-b2f5-47c5-afbd-7aad2453127a",
   "metadata": {},
   "outputs": [],
   "source": [
    "data.tail()"
   ]
  },
  {
   "cell_type": "markdown",
   "id": "b1248ba8-7660-40a5-97fe-fae7fbe7aebd",
   "metadata": {},
   "source": [
    "# de los head y tail\n",
    "No llego a entender bien el formato de los datos, como podemos trabajar con esto? no sé si está mal el formato o si esta tabla los muestra raro.\n",
    "\n",
    "Muchos NaN"
   ]
  },
  {
   "cell_type": "markdown",
   "id": "50993cd1-049e-4987-ac50-d52f22fa13c3",
   "metadata": {},
   "source": [
    "import pandas as pd\n",
    "\n",
    "def load_data():\n",
    "    csv_path = \"./Datasets/2023-03/EXTRACCION_Prov-San-Juan_032023.csv\"\n",
    "    column_types = {\n",
    "        'CODIGOENTIDAD': 'float64',\n",
    "        'IDLINEA': 'float64',\n",
    "        'NROCHIP': 'float64',\n",
    "        'NROTARJETA': 'float64',\n",
    "        'CODIGOCONTRATO': 'float64',\n",
    "        'SECUENCIA_TARJETA': 'float64',\n",
    "        'FECHATRX': 'string',\n",
    "        'MONTO': 'float64',\n",
    "        'SALDO': 'float64',\n",
    "        'VALOR_TARIFA': 'float64',\n",
    "        'INTERNO': 'float64',\n",
    "        'DISPOSITIVO': 'float64',\n",
    "        'SECTERMINAL': 'float64',\n",
    "        'CODIGOTIPOTRX': 'float64',\n",
    "        'CODIGOSUBTIPOTRX': 'float64',\n",
    "        'TIPOMAPPING': 'float64',\n",
    "        'ENTIDAD_EMISORA_TARJ': 'float64',\n",
    "        'CODIGOERROR': 'float64',\n",
    "        'FECHAPROCESO': 'string',\n",
    "        'RAMAL': 'float64',\n",
    "        'IDARCHIVOINTERCAMBIO': 'float64',\n",
    "        'CODIGOROL': 'string',\n",
    "        'CODIGOTIPOTARJETA': 'float64',\n",
    "        'SENTIDO': 'string',\n",
    "        'MONEDERO_ID': 'float64',\n",
    "        'EMISOR_CONTRATO': 'float64',\n",
    "        'SAM_ID': 'string',\n",
    "        'LG_ID': 'float64',\n",
    "        'TIPO_TERMINAL': 'float64',\n",
    "        'ID_SERVICIO': 'float64',\n",
    "        'VERSION_TIPO_TRX': 'float64',\n",
    "        'ID_INTEGRADOR': 'float64',\n",
    "        'EMISOR_MONEDERO': 'float64',\n",
    "        'SECCION_FIN': 'float64',\n",
    "        'SECCION_INICIO': 'float64',\n",
    "        'DESCUENTO': 'float64',\n",
    "        'PROVISION': 'float64',\n",
    "        'ID_POSICIONAMIENTO': 'float64',\n",
    "        'PTC': 'float64',\n",
    "        'LTC': 'float64'\n",
    "    }\n",
    "\n",
    "    return pd.read_csv(csv_path, delimiter=';', on_bad_lines='skip', \n",
    "                       names=['CODIGOENTIDAD', 'IDLINEA', 'NROCHIP', 'NROTARJETA', 'CODIGOCONTRATO', \n",
    "                              'SECUENCIA_TARJETA', 'FECHATRX', 'MONTO', 'SALDO', 'VALOR_TARIFA', \n",
    "                              'INTERNO', 'DISPOSITIVO', 'SECTERMINAL', 'CODIGOTIPOTRX', 'CODIGOSUBTIPOTRX', \n",
    "                              'TIPOMAPPING', 'ENTIDAD_EMISORA_TARJ', 'CODIGOERROR', 'FECHAPROCESO', 'RAMAL', \n",
    "                              'IDARCHIVOINTERCAMBIO', 'CODIGOROL', 'CODIGOTIPOTARJETA', 'SENTIDO', \n",
    "                              'MONEDERO_ID', 'EMISOR_CONTRATO', 'SAM_ID', 'LG_ID', 'TIPO_TERMINAL', \n",
    "                              'ID_SERVICIO', 'VERSION_TIPO_TRX', 'ID_INTEGRADOR', 'EMISOR_MONEDERO', \n",
    "                              'SECCION_FIN', 'SECCION_INICIO', 'DESCUENTO', 'PROVISION', 'ID_POSICIONAMIENTO', \n",
    "                              'PTC', 'LTC'],\n",
    "                       dtype=column_types)\n",
    "\n",
    "# Llamar a la función y cargar los datos\n",
    "df = load_data()\n",
    "\n",
    "# Mostrar las primeras filas del DataFrame para verificar\n",
    "print(df.head())\n"
   ]
  }
 ],
 "metadata": {
  "kernelspec": {
   "display_name": "Python 3 (ipykernel)",
   "language": "python",
   "name": "python3"
  },
  "language_info": {
   "codemirror_mode": {
    "name": "ipython",
    "version": 3
   },
   "file_extension": ".py",
   "mimetype": "text/x-python",
   "name": "python",
   "nbconvert_exporter": "python",
   "pygments_lexer": "ipython3",
   "version": "3.10.14"
  }
 },
 "nbformat": 4,
 "nbformat_minor": 5
}
