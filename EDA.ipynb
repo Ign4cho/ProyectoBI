{
 "cells": [
  {
   "cell_type": "markdown",
   "id": "3837d9d0",
   "metadata": {
    "colab_type": "text",
    "id": "view-in-github"
   },
   "source": [
    "<a href=\"https://colab.research.google.com/github/Ign4cho/ProyectoBI/blob/main/EDA.ipynb\" target=\"_parent\"><img src=\"https://colab.research.google.com/assets/colab-badge.svg\" alt=\"Open In Colab\"/></a>"
   ]
  },
  {
   "cell_type": "markdown",
   "id": "WGAVZgHvmOV5",
   "metadata": {
    "id": "WGAVZgHvmOV5"
   },
   "source": [
    "# Tabla Extracción\n"
   ]
  },
  {
   "cell_type": "markdown",
   "id": "54780ccb",
   "metadata": {},
   "source": [
    "## Carga de datos\n"
   ]
  },
  {
   "cell_type": "code",
   "execution_count": 2,
   "id": "55742dbe",
   "metadata": {
    "id": "55742dbe"
   },
   "outputs": [],
   "source": [
    "import pandas as pd\n",
    "import matplotlib.pyplot as plt\n",
    "import joblib\n",
    "import os\n",
    "#os.path()\n",
    "csv_path = os.path.join(\"datasets\",\"EXTRACCION_Prov-San-Juan_022024.csv\")\n"
   ]
  },
  {
   "cell_type": "code",
   "execution_count": null,
   "id": "9oASrg9ygbRl",
   "metadata": {
    "id": "9oASrg9ygbRl"
   },
   "outputs": [],
   "source": [
    "column_types = {\n",
    "            'CODIGOENTIDAD': 'float64',\n",
    "            'IDLINEA': 'float64',\n",
    "            'NROCHIP': 'float64',\n",
    "            'NROTARJETA': 'float64',\n",
    "            'CODIGOCONTRATO': 'float64',\n",
    "            'SECUENCIA_TARJETA': 'float64',\n",
    "            'FECHATRX': 'string',\n",
    "            'MONTO': 'float64',\n",
    "            'SALDO': 'float64',\n",
    "            'VALOR_TARIFA': 'float64',\n",
    "            'INTERNO': 'float64',\n",
    "            'DISPOSITIVO': 'float64',\n",
    "            'SECTERMINAL': 'float64',\n",
    "            'CODIGOTIPOTRX': 'float64',\n",
    "            'CODIGOSUBTIPOTRX': 'float64',\n",
    "            'TIPOMAPPING': 'float64',\n",
    "            'ENTIDAD_EMISORA_TARJ': 'float64',\n",
    "            'CODIGOERROR': 'float64',\n",
    "            'FECHAPROCESO': 'string',\n",
    "            'RAMAL': 'float64',\n",
    "            'IDARCHIVOINTERCAMBIO': 'float64',\n",
    "            'CODIGOROL': 'string',\n",
    "            'CODIGOTIPOTARJETA': 'float64',\n",
    "            'SENTIDO': 'string',\n",
    "            'MONEDERO_ID': 'float64',\n",
    "            'EMISOR_CONTRATO': 'float64',\n",
    "            'SAM_ID': 'string',\n",
    "            'LG_ID': 'float64',\n",
    "            'TIPO_TERMINAL': 'float64',\n",
    "            'ID_SERVICIO': 'float64',\n",
    "            'VERSION_TIPO_TRX': 'float64',\n",
    "            'ID_INTEGRADOR': 'float64',\n",
    "            'EMISOR_MONEDERO': 'float64',\n",
    "            'SECCION_FIN': 'float64',\n",
    "            'SECCION_INICIO': 'float64',\n",
    "            'DESCUENTO': 'float64',\n",
    "            'PROVISION': 'float64',\n",
    "            'ID_POSICIONAMIENTO': 'float64',\n",
    "            'PTC': 'float64',\n",
    "            'LTC': 'float64'\n",
    "        }\n",
    "\n",
    "column_types_new = {\n",
    "    'CODIGOENTIDAD': 'int64',\n",
    "    'IDLINEA': 'int64',\n",
    "    'NROCHIP': 'string',\n",
    "    'NROTARJETA': 'string',\n",
    "    'CODIGOCONTRATO': 'int64',\n",
    "    'SECUENCIA_TARJETA': 'int64',\n",
    "    'FECHATRX': 'string',\n",
    "    'MONTO': 'float64',\n",
    "    'SALDO': 'float64',\n",
    "    'VALOR_TARIFA': 'float64',\n",
    "    'INTERNO': 'int64',\n",
    "    'DISPOSITIVO': 'int64',\n",
    "    'SECTERMINAL': 'int64',\n",
    "    'CODIGOTIPOTRX': 'int64',\n",
    "    'CODIGOSUBTIPOTRX': 'int64',\n",
    "    'TIPOMAPPING': 'int64',\n",
    "    'ENTIDAD_EMISORA_TARJ': 'int64',\n",
    "    'CODIGOERROR': 'int64',\n",
    "    'FECHAPROCESO': 'string',\n",
    "    'RAMAL': 'int64',\n",
    "    'IDARCHIVOINTERCAMBIO': 'int64',\n",
    "    'CODIGOROL': 'string',\n",
    "    'CODIGOTIPOTARJETA': 'int64',\n",
    "    'SENTIDO': 'string',\n",
    "    'MONEDERO_ID': 'int64',\n",
    "    'EMISOR_CONTRATO': 'int64',\n",
    "    'SAM_ID': 'string',\n",
    "    'LG_ID': 'float64',\n",
    "    'TIPO_TERMINAL': 'int64',\n",
    "    'ID_SERVICIO': 'int64',\n",
    "    'VERSION_TIPO_TRX': 'int64',\n",
    "    'ID_INTEGRADOR': 'int64',\n",
    "    'EMISOR_MONEDERO': 'int64',\n",
    "    'SECCION_FIN': 'int64',\n",
    "    'SECCION_INICIO': 'int64',\n",
    "    'DESCUENTO': 'float64',\n",
    "    'PROVISION': 'float64',\n",
    "    'ID_POSICIONAMIENTO': 'int64',\n",
    "    'PTC': 'int64',\n",
    "    'LTC': 'int64'\n",
    "}\n"
   ]
  },
  {
   "cell_type": "code",
   "execution_count": 12,
   "id": "333c0c70-99d4-401c-a365-aabafc61584a",
   "metadata": {
    "id": "333c0c70-99d4-401c-a365-aabafc61584a"
   },
   "outputs": [],
   "source": [
    "def load_data(path, columns):\n",
    "    return pd.read_csv(path, delimiter=';', decimal=',',\n",
    "                          dtype=columns)\n",
    "    #si hace falta agregar: nrows=cantidad_filas,\n"
   ]
  },
  {
   "cell_type": "code",
   "execution_count": 6,
   "id": "c3a94a84-0ccc-4436-802f-bfa62b2b9421",
   "metadata": {
    "id": "c3a94a84-0ccc-4436-802f-bfa62b2b9421"
   },
   "outputs": [],
   "source": [
    "complete_df=load_data(csv_path, column_types_new)\n",
    "selected_df = complete_df"
   ]
  },
  {
   "cell_type": "code",
   "execution_count": 4,
   "id": "d9f95395",
   "metadata": {},
   "outputs": [],
   "source": [
    "joblib_path = os.path.join('datasets', 'joblib', 'sample')\n",
    "selected_df= joblib.load(joblib_path)"
   ]
  },
  {
   "cell_type": "code",
   "execution_count": null,
   "id": "5330f9b3",
   "metadata": {},
   "outputs": [
    {
     "data": {
      "text/plain": [
       "['datasets/joblib/extraccion022024.pkl']"
      ]
     },
     "execution_count": 9,
     "metadata": {},
     "output_type": "execute_result"
    }
   ],
   "source": [
    "file_path = os.path.join('datasets', 'joblib', 'extraccion022024.pkl')\n",
    "joblib.dump(complete_df, file_path)"
   ]
  },
  {
   "cell_type": "code",
   "execution_count": 5,
   "id": "e49fc254-9477-4d67-8868-6e84e9797095",
   "metadata": {
    "id": "e49fc254-9477-4d67-8868-6e84e9797095",
    "scrolled": true
   },
   "outputs": [
    {
     "name": "stdout",
     "output_type": "stream",
     "text": [
      "<class 'pandas.core.frame.DataFrame'>\n",
      "Index: 300000 entries, 2088470 to 1730540\n",
      "Data columns (total 9 columns):\n",
      " #   Column              Non-Null Count   Dtype  \n",
      "---  ------              --------------   -----  \n",
      " 0   CODIGOENTIDAD       300000 non-null  float64\n",
      " 1   IDLINEA             300000 non-null  float64\n",
      " 2   NROTARJETA          300000 non-null  float64\n",
      " 3   CODIGOCONTRATO      300000 non-null  float64\n",
      " 4   FECHATRX            300000 non-null  string \n",
      " 5   CODIGOTIPOTRX       300000 non-null  float64\n",
      " 6   RAMAL               300000 non-null  float64\n",
      " 7   ID_POSICIONAMIENTO  300000 non-null  float64\n",
      " 8   ID_COMBINACION      46655 non-null   float64\n",
      "dtypes: float64(8), string(1)\n",
      "memory usage: 22.9 MB\n"
     ]
    }
   ],
   "source": [
    "selected_columns = ['CODIGOENTIDAD', 'IDLINEA', 'NROTARJETA', 'CODIGOCONTRATO',\n",
    "                            'FECHATRX','CODIGOTIPOTRX','RAMAL','ID_POSICIONAMIENTO','ID_COMBINACION']\n",
    "selected_df = complete_df[selected_columns]\n",
    "selected_df.info()"
   ]
  },
  {
   "cell_type": "markdown",
   "id": "4e66fc5f-0806-4b24-87d2-bb4514badc2b",
   "metadata": {
    "id": "4e66fc5f-0806-4b24-87d2-bb4514badc2b"
   },
   "source": [
    "## Comentarios"
   ]
  },
  {
   "cell_type": "markdown",
   "id": "a7165ee0-1800-458d-ab89-b0424000a404",
   "metadata": {
    "id": "a7165ee0-1800-458d-ab89-b0424000a404"
   },
   "source": [
    "### Previsualización de tabla Extracción\n",
    "La mayoría de los valores no son necesariamente numéricos, pero vemos que la mayoría son non-null por lo menos."
   ]
  },
  {
   "cell_type": "code",
   "execution_count": 27,
   "id": "198dbc41-1031-4d1c-aa87-86f6276d68e8",
   "metadata": {
    "id": "198dbc41-1031-4d1c-aa87-86f6276d68e8"
   },
   "outputs": [
    {
     "data": {
      "text/html": [
       "<div>\n",
       "<style scoped>\n",
       "    .dataframe tbody tr th:only-of-type {\n",
       "        vertical-align: middle;\n",
       "    }\n",
       "\n",
       "    .dataframe tbody tr th {\n",
       "        vertical-align: top;\n",
       "    }\n",
       "\n",
       "    .dataframe thead th {\n",
       "        text-align: right;\n",
       "    }\n",
       "</style>\n",
       "<table border=\"1\" class=\"dataframe\">\n",
       "  <thead>\n",
       "    <tr style=\"text-align: right;\">\n",
       "      <th></th>\n",
       "      <th>CODIGOENTIDAD</th>\n",
       "      <th>IDLINEA</th>\n",
       "      <th>NROCHIP</th>\n",
       "      <th>NROTARJETA</th>\n",
       "      <th>CODIGOCONTRATO</th>\n",
       "      <th>SECUENCIA_TARJETA</th>\n",
       "      <th>FECHATRX</th>\n",
       "      <th>MONTO</th>\n",
       "      <th>SALDO</th>\n",
       "      <th>VALOR_TARIFA</th>\n",
       "      <th>...</th>\n",
       "      <th>EMISOR_MONEDERO</th>\n",
       "      <th>SECCION_FIN</th>\n",
       "      <th>SECCION_INICIO</th>\n",
       "      <th>DESCUENTO</th>\n",
       "      <th>PROVISION</th>\n",
       "      <th>ID_POSICIONAMIENTO</th>\n",
       "      <th>PTC</th>\n",
       "      <th>LTC</th>\n",
       "      <th>ID_COMBINACION</th>\n",
       "      <th>DESCUENTO_ITG</th>\n",
       "    </tr>\n",
       "  </thead>\n",
       "  <tbody>\n",
       "    <tr>\n",
       "      <th>0</th>\n",
       "      <td>525</td>\n",
       "      <td>3348</td>\n",
       "      <td>865799503</td>\n",
       "      <td>1812365526</td>\n",
       "      <td>621</td>\n",
       "      <td>2253</td>\n",
       "      <td>15/02/2024 07:16:04</td>\n",
       "      <td>90.0</td>\n",
       "      <td>772.38</td>\n",
       "      <td>90.0</td>\n",
       "      <td>...</td>\n",
       "      <td>5</td>\n",
       "      <td>1</td>\n",
       "      <td>1</td>\n",
       "      <td>0.0</td>\n",
       "      <td>0.0</td>\n",
       "      <td>19</td>\n",
       "      <td>2223</td>\n",
       "      <td>20</td>\n",
       "      <td>NaN</td>\n",
       "      <td>NaN</td>\n",
       "    </tr>\n",
       "    <tr>\n",
       "      <th>1</th>\n",
       "      <td>525</td>\n",
       "      <td>3348</td>\n",
       "      <td>1209305583</td>\n",
       "      <td>1816308502</td>\n",
       "      <td>602</td>\n",
       "      <td>724</td>\n",
       "      <td>15/02/2024 07:17:59</td>\n",
       "      <td>200.0</td>\n",
       "      <td>174.38</td>\n",
       "      <td>200.0</td>\n",
       "      <td>...</td>\n",
       "      <td>5</td>\n",
       "      <td>1</td>\n",
       "      <td>1</td>\n",
       "      <td>0.0</td>\n",
       "      <td>0.0</td>\n",
       "      <td>19</td>\n",
       "      <td>721</td>\n",
       "      <td>31</td>\n",
       "      <td>NaN</td>\n",
       "      <td>NaN</td>\n",
       "    </tr>\n",
       "    <tr>\n",
       "      <th>2</th>\n",
       "      <td>525</td>\n",
       "      <td>3348</td>\n",
       "      <td>40555400393992452</td>\n",
       "      <td>1851615699</td>\n",
       "      <td>602</td>\n",
       "      <td>115</td>\n",
       "      <td>15/02/2024 08:20:01</td>\n",
       "      <td>66.0</td>\n",
       "      <td>368.00</td>\n",
       "      <td>66.0</td>\n",
       "      <td>...</td>\n",
       "      <td>5</td>\n",
       "      <td>4</td>\n",
       "      <td>1</td>\n",
       "      <td>0.0</td>\n",
       "      <td>0.0</td>\n",
       "      <td>35</td>\n",
       "      <td>113</td>\n",
       "      <td>12</td>\n",
       "      <td>NaN</td>\n",
       "      <td>NaN</td>\n",
       "    </tr>\n",
       "    <tr>\n",
       "      <th>3</th>\n",
       "      <td>525</td>\n",
       "      <td>3348</td>\n",
       "      <td>40554391487291396</td>\n",
       "      <td>1851789838</td>\n",
       "      <td>621</td>\n",
       "      <td>113</td>\n",
       "      <td>15/02/2024 08:20:59</td>\n",
       "      <td>90.0</td>\n",
       "      <td>199.43</td>\n",
       "      <td>90.0</td>\n",
       "      <td>...</td>\n",
       "      <td>5</td>\n",
       "      <td>1</td>\n",
       "      <td>1</td>\n",
       "      <td>0.0</td>\n",
       "      <td>0.0</td>\n",
       "      <td>35</td>\n",
       "      <td>112</td>\n",
       "      <td>1</td>\n",
       "      <td>NaN</td>\n",
       "      <td>NaN</td>\n",
       "    </tr>\n",
       "    <tr>\n",
       "      <th>4</th>\n",
       "      <td>525</td>\n",
       "      <td>3348</td>\n",
       "      <td>36128216158857732</td>\n",
       "      <td>1826845173</td>\n",
       "      <td>621</td>\n",
       "      <td>391</td>\n",
       "      <td>15/02/2024 09:25:11</td>\n",
       "      <td>90.0</td>\n",
       "      <td>379.38</td>\n",
       "      <td>90.0</td>\n",
       "      <td>...</td>\n",
       "      <td>5</td>\n",
       "      <td>1</td>\n",
       "      <td>1</td>\n",
       "      <td>0.0</td>\n",
       "      <td>0.0</td>\n",
       "      <td>51</td>\n",
       "      <td>384</td>\n",
       "      <td>18</td>\n",
       "      <td>NaN</td>\n",
       "      <td>NaN</td>\n",
       "    </tr>\n",
       "  </tbody>\n",
       "</table>\n",
       "<p>5 rows × 42 columns</p>\n",
       "</div>"
      ],
      "text/plain": [
       "   CODIGOENTIDAD  IDLINEA            NROCHIP  NROTARJETA  CODIGOCONTRATO  \\\n",
       "0            525     3348          865799503  1812365526             621   \n",
       "1            525     3348         1209305583  1816308502             602   \n",
       "2            525     3348  40555400393992452  1851615699             602   \n",
       "3            525     3348  40554391487291396  1851789838             621   \n",
       "4            525     3348  36128216158857732  1826845173             621   \n",
       "\n",
       "   SECUENCIA_TARJETA             FECHATRX  MONTO   SALDO  VALOR_TARIFA  ...  \\\n",
       "0               2253  15/02/2024 07:16:04   90.0  772.38          90.0  ...   \n",
       "1                724  15/02/2024 07:17:59  200.0  174.38         200.0  ...   \n",
       "2                115  15/02/2024 08:20:01   66.0  368.00          66.0  ...   \n",
       "3                113  15/02/2024 08:20:59   90.0  199.43          90.0  ...   \n",
       "4                391  15/02/2024 09:25:11   90.0  379.38          90.0  ...   \n",
       "\n",
       "   EMISOR_MONEDERO  SECCION_FIN  SECCION_INICIO  DESCUENTO  PROVISION  \\\n",
       "0                5            1               1        0.0        0.0   \n",
       "1                5            1               1        0.0        0.0   \n",
       "2                5            4               1        0.0        0.0   \n",
       "3                5            1               1        0.0        0.0   \n",
       "4                5            1               1        0.0        0.0   \n",
       "\n",
       "   ID_POSICIONAMIENTO   PTC  LTC ID_COMBINACION  DESCUENTO_ITG  \n",
       "0                  19  2223   20            NaN            NaN  \n",
       "1                  19   721   31            NaN            NaN  \n",
       "2                  35   113   12            NaN            NaN  \n",
       "3                  35   112    1            NaN            NaN  \n",
       "4                  51   384   18            NaN            NaN  \n",
       "\n",
       "[5 rows x 42 columns]"
      ]
     },
     "execution_count": 27,
     "metadata": {},
     "output_type": "execute_result"
    }
   ],
   "source": [
    "selected_df.head()"
   ]
  },
  {
   "cell_type": "markdown",
   "id": "4404fe50-b129-4dcf-a357-a27c0a24ea88",
   "metadata": {
    "id": "4404fe50-b129-4dcf-a357-a27c0a24ea88"
   },
   "source": [
    "## Funciones usadas\n"
   ]
  },
  {
   "cell_type": "code",
   "execution_count": 28,
   "id": "b8cdd17f",
   "metadata": {},
   "outputs": [],
   "source": [
    "\n",
    "def show_histogram(dataframe, column_name, title, xlabel, ylabel, bins=50):\n",
    "    \"\"\"\n",
    "    Muestra un histograma para una columna específica de un DataFrame.\n",
    "    \n",
    "    Parámetros:\n",
    "        dataframe (pd.DataFrame): El DataFrame que contiene los datos.\n",
    "        column_name (str): El nombre de la columna para graficar.\n",
    "        title (str): El título del histograma.\n",
    "        xlabel (str): La etiqueta del eje X.\n",
    "        ylabel (str): La etiqueta del eje Y.\n",
    "        bins (int): Número de bins para el histograma (por defecto es 50).\n",
    "    \"\"\"\n",
    "    plt.figure(figsize=(10, 6))\n",
    "    plt.hist(dataframe[column_name], bins=bins, edgecolor='black')\n",
    "    plt.xlabel(xlabel)\n",
    "    plt.ylabel(ylabel)\n",
    "    plt.title(title)\n",
    "    plt.grid(True)\n",
    "    plt.show()\n"
   ]
  },
  {
   "cell_type": "code",
   "execution_count": 29,
   "id": "098023e3",
   "metadata": {},
   "outputs": [],
   "source": [
    "def analyze_column(dataframe, column_name):\n",
    "    \"\"\"\n",
    "    Analiza una columna de un DataFrame para verificar:\n",
    "        - Si hay valores nulos.\n",
    "        - Si hay valores NaN.\n",
    "        - Si todos los valores podrían ser tratados como enteros sin pérdida de información.\n",
    "    \n",
    "    Parámetros:\n",
    "        dataframe (pd.DataFrame): El DataFrame que contiene los datos.\n",
    "        column_name (str): El nombre de la columna a analizar.\n",
    "    \n",
    "    Retorna:\n",
    "        dict: Un diccionario con los resultados del análisis.\n",
    "    \"\"\"\n",
    "    column = dataframe[column_name]\n",
    "    \n",
    "    # Verificar si la columna contiene valores nulos o NaN\n",
    "    contains_nulls = column.isnull().any()\n",
    "    contains_nans = column.isna().any()\n",
    "\n",
    "    # Verificar si la columna es de tipo entero\n",
    "    if column.dtype in ['int64', 'int32', 'int16', 'int8']:\n",
    "        all_integers = True\n",
    "    elif column.dtype in ['float64', 'float32', 'float16']:\n",
    "        # Si es tipo float, verificamos si todos los valores son enteros\n",
    "        all_integers = column.dropna().apply(lambda x: x.is_integer()).all()\n",
    "    else:\n",
    "        all_integers = False\n",
    "    \n",
    "    result = {\n",
    "        'column_name': column_name,\n",
    "        'contains_nulls': contains_nulls,\n",
    "        'contains_nans': contains_nans,\n",
    "        'all_integers': all_integers\n",
    "    }\n",
    "    \n",
    "    return result\n"
   ]
  },
  {
   "cell_type": "markdown",
   "id": "4b46162b",
   "metadata": {},
   "source": [
    "### Análisis de Columnas"
   ]
  },
  {
   "cell_type": "code",
   "execution_count": 30,
   "id": "547d07fd",
   "metadata": {},
   "outputs": [
    {
     "data": {
      "text/html": [
       "<div>\n",
       "<style scoped>\n",
       "    .dataframe tbody tr th:only-of-type {\n",
       "        vertical-align: middle;\n",
       "    }\n",
       "\n",
       "    .dataframe tbody tr th {\n",
       "        vertical-align: top;\n",
       "    }\n",
       "\n",
       "    .dataframe thead th {\n",
       "        text-align: right;\n",
       "    }\n",
       "</style>\n",
       "<table border=\"1\" class=\"dataframe\">\n",
       "  <thead>\n",
       "    <tr style=\"text-align: right;\">\n",
       "      <th></th>\n",
       "      <th>column_name</th>\n",
       "      <th>contains_nulls</th>\n",
       "      <th>contains_nans</th>\n",
       "      <th>all_integers</th>\n",
       "    </tr>\n",
       "  </thead>\n",
       "  <tbody>\n",
       "    <tr>\n",
       "      <th>0</th>\n",
       "      <td>CODIGOENTIDAD</td>\n",
       "      <td>False</td>\n",
       "      <td>False</td>\n",
       "      <td>True</td>\n",
       "    </tr>\n",
       "    <tr>\n",
       "      <th>1</th>\n",
       "      <td>IDLINEA</td>\n",
       "      <td>False</td>\n",
       "      <td>False</td>\n",
       "      <td>True</td>\n",
       "    </tr>\n",
       "    <tr>\n",
       "      <th>2</th>\n",
       "      <td>NROCHIP</td>\n",
       "      <td>False</td>\n",
       "      <td>False</td>\n",
       "      <td>False</td>\n",
       "    </tr>\n",
       "    <tr>\n",
       "      <th>3</th>\n",
       "      <td>NROTARJETA</td>\n",
       "      <td>False</td>\n",
       "      <td>False</td>\n",
       "      <td>False</td>\n",
       "    </tr>\n",
       "    <tr>\n",
       "      <th>4</th>\n",
       "      <td>CODIGOCONTRATO</td>\n",
       "      <td>False</td>\n",
       "      <td>False</td>\n",
       "      <td>True</td>\n",
       "    </tr>\n",
       "    <tr>\n",
       "      <th>5</th>\n",
       "      <td>SECUENCIA_TARJETA</td>\n",
       "      <td>False</td>\n",
       "      <td>False</td>\n",
       "      <td>True</td>\n",
       "    </tr>\n",
       "    <tr>\n",
       "      <th>6</th>\n",
       "      <td>FECHATRX</td>\n",
       "      <td>False</td>\n",
       "      <td>False</td>\n",
       "      <td>False</td>\n",
       "    </tr>\n",
       "    <tr>\n",
       "      <th>7</th>\n",
       "      <td>MONTO</td>\n",
       "      <td>False</td>\n",
       "      <td>False</td>\n",
       "      <td>False</td>\n",
       "    </tr>\n",
       "    <tr>\n",
       "      <th>8</th>\n",
       "      <td>SALDO</td>\n",
       "      <td>False</td>\n",
       "      <td>False</td>\n",
       "      <td>False</td>\n",
       "    </tr>\n",
       "    <tr>\n",
       "      <th>9</th>\n",
       "      <td>VALOR_TARIFA</td>\n",
       "      <td>False</td>\n",
       "      <td>False</td>\n",
       "      <td>False</td>\n",
       "    </tr>\n",
       "    <tr>\n",
       "      <th>10</th>\n",
       "      <td>INTERNO</td>\n",
       "      <td>False</td>\n",
       "      <td>False</td>\n",
       "      <td>True</td>\n",
       "    </tr>\n",
       "    <tr>\n",
       "      <th>11</th>\n",
       "      <td>DISPOSITIVO</td>\n",
       "      <td>False</td>\n",
       "      <td>False</td>\n",
       "      <td>True</td>\n",
       "    </tr>\n",
       "    <tr>\n",
       "      <th>12</th>\n",
       "      <td>SECTERMINAL</td>\n",
       "      <td>False</td>\n",
       "      <td>False</td>\n",
       "      <td>True</td>\n",
       "    </tr>\n",
       "    <tr>\n",
       "      <th>13</th>\n",
       "      <td>CODIGOTIPOTRX</td>\n",
       "      <td>False</td>\n",
       "      <td>False</td>\n",
       "      <td>True</td>\n",
       "    </tr>\n",
       "    <tr>\n",
       "      <th>14</th>\n",
       "      <td>CODIGOSUBTIPOTRX</td>\n",
       "      <td>False</td>\n",
       "      <td>False</td>\n",
       "      <td>True</td>\n",
       "    </tr>\n",
       "    <tr>\n",
       "      <th>15</th>\n",
       "      <td>TIPOMAPPING</td>\n",
       "      <td>False</td>\n",
       "      <td>False</td>\n",
       "      <td>True</td>\n",
       "    </tr>\n",
       "    <tr>\n",
       "      <th>16</th>\n",
       "      <td>ENTIDAD_EMISORA_TARJ</td>\n",
       "      <td>False</td>\n",
       "      <td>False</td>\n",
       "      <td>True</td>\n",
       "    </tr>\n",
       "    <tr>\n",
       "      <th>17</th>\n",
       "      <td>CODIGOERROR</td>\n",
       "      <td>False</td>\n",
       "      <td>False</td>\n",
       "      <td>True</td>\n",
       "    </tr>\n",
       "    <tr>\n",
       "      <th>18</th>\n",
       "      <td>FECHAPROCESO</td>\n",
       "      <td>False</td>\n",
       "      <td>False</td>\n",
       "      <td>False</td>\n",
       "    </tr>\n",
       "    <tr>\n",
       "      <th>19</th>\n",
       "      <td>RAMAL</td>\n",
       "      <td>False</td>\n",
       "      <td>False</td>\n",
       "      <td>True</td>\n",
       "    </tr>\n",
       "    <tr>\n",
       "      <th>20</th>\n",
       "      <td>IDARCHIVOINTERCAMBIO</td>\n",
       "      <td>False</td>\n",
       "      <td>False</td>\n",
       "      <td>True</td>\n",
       "    </tr>\n",
       "    <tr>\n",
       "      <th>21</th>\n",
       "      <td>CODIGOROL</td>\n",
       "      <td>False</td>\n",
       "      <td>False</td>\n",
       "      <td>False</td>\n",
       "    </tr>\n",
       "    <tr>\n",
       "      <th>22</th>\n",
       "      <td>CODIGOTIPOTARJETA</td>\n",
       "      <td>False</td>\n",
       "      <td>False</td>\n",
       "      <td>True</td>\n",
       "    </tr>\n",
       "    <tr>\n",
       "      <th>23</th>\n",
       "      <td>SENTIDO</td>\n",
       "      <td>True</td>\n",
       "      <td>True</td>\n",
       "      <td>False</td>\n",
       "    </tr>\n",
       "    <tr>\n",
       "      <th>24</th>\n",
       "      <td>MONEDERO_ID</td>\n",
       "      <td>False</td>\n",
       "      <td>False</td>\n",
       "      <td>True</td>\n",
       "    </tr>\n",
       "    <tr>\n",
       "      <th>25</th>\n",
       "      <td>EMISOR_CONTRATO</td>\n",
       "      <td>False</td>\n",
       "      <td>False</td>\n",
       "      <td>True</td>\n",
       "    </tr>\n",
       "    <tr>\n",
       "      <th>26</th>\n",
       "      <td>SAM_ID</td>\n",
       "      <td>False</td>\n",
       "      <td>False</td>\n",
       "      <td>False</td>\n",
       "    </tr>\n",
       "    <tr>\n",
       "      <th>27</th>\n",
       "      <td>LG_ID</td>\n",
       "      <td>True</td>\n",
       "      <td>True</td>\n",
       "      <td>True</td>\n",
       "    </tr>\n",
       "    <tr>\n",
       "      <th>28</th>\n",
       "      <td>TIPO_TERMINAL</td>\n",
       "      <td>False</td>\n",
       "      <td>False</td>\n",
       "      <td>True</td>\n",
       "    </tr>\n",
       "    <tr>\n",
       "      <th>29</th>\n",
       "      <td>ID_SERVICIO</td>\n",
       "      <td>False</td>\n",
       "      <td>False</td>\n",
       "      <td>True</td>\n",
       "    </tr>\n",
       "    <tr>\n",
       "      <th>30</th>\n",
       "      <td>VERSION_TIPO_TRX</td>\n",
       "      <td>False</td>\n",
       "      <td>False</td>\n",
       "      <td>True</td>\n",
       "    </tr>\n",
       "    <tr>\n",
       "      <th>31</th>\n",
       "      <td>ID_INTEGRADOR</td>\n",
       "      <td>False</td>\n",
       "      <td>False</td>\n",
       "      <td>True</td>\n",
       "    </tr>\n",
       "    <tr>\n",
       "      <th>32</th>\n",
       "      <td>EMISOR_MONEDERO</td>\n",
       "      <td>False</td>\n",
       "      <td>False</td>\n",
       "      <td>True</td>\n",
       "    </tr>\n",
       "    <tr>\n",
       "      <th>33</th>\n",
       "      <td>SECCION_FIN</td>\n",
       "      <td>False</td>\n",
       "      <td>False</td>\n",
       "      <td>True</td>\n",
       "    </tr>\n",
       "    <tr>\n",
       "      <th>34</th>\n",
       "      <td>SECCION_INICIO</td>\n",
       "      <td>False</td>\n",
       "      <td>False</td>\n",
       "      <td>True</td>\n",
       "    </tr>\n",
       "    <tr>\n",
       "      <th>35</th>\n",
       "      <td>DESCUENTO</td>\n",
       "      <td>False</td>\n",
       "      <td>False</td>\n",
       "      <td>False</td>\n",
       "    </tr>\n",
       "    <tr>\n",
       "      <th>36</th>\n",
       "      <td>PROVISION</td>\n",
       "      <td>True</td>\n",
       "      <td>True</td>\n",
       "      <td>True</td>\n",
       "    </tr>\n",
       "    <tr>\n",
       "      <th>37</th>\n",
       "      <td>ID_POSICIONAMIENTO</td>\n",
       "      <td>False</td>\n",
       "      <td>False</td>\n",
       "      <td>True</td>\n",
       "    </tr>\n",
       "    <tr>\n",
       "      <th>38</th>\n",
       "      <td>PTC</td>\n",
       "      <td>False</td>\n",
       "      <td>False</td>\n",
       "      <td>True</td>\n",
       "    </tr>\n",
       "    <tr>\n",
       "      <th>39</th>\n",
       "      <td>LTC</td>\n",
       "      <td>False</td>\n",
       "      <td>False</td>\n",
       "      <td>True</td>\n",
       "    </tr>\n",
       "    <tr>\n",
       "      <th>40</th>\n",
       "      <td>ID_COMBINACION</td>\n",
       "      <td>True</td>\n",
       "      <td>True</td>\n",
       "      <td>True</td>\n",
       "    </tr>\n",
       "    <tr>\n",
       "      <th>41</th>\n",
       "      <td>DESCUENTO_ITG</td>\n",
       "      <td>True</td>\n",
       "      <td>True</td>\n",
       "      <td>False</td>\n",
       "    </tr>\n",
       "  </tbody>\n",
       "</table>\n",
       "</div>"
      ],
      "text/plain": [
       "             column_name  contains_nulls  contains_nans  all_integers\n",
       "0          CODIGOENTIDAD           False          False          True\n",
       "1                IDLINEA           False          False          True\n",
       "2                NROCHIP           False          False         False\n",
       "3             NROTARJETA           False          False         False\n",
       "4         CODIGOCONTRATO           False          False          True\n",
       "5      SECUENCIA_TARJETA           False          False          True\n",
       "6               FECHATRX           False          False         False\n",
       "7                  MONTO           False          False         False\n",
       "8                  SALDO           False          False         False\n",
       "9           VALOR_TARIFA           False          False         False\n",
       "10               INTERNO           False          False          True\n",
       "11           DISPOSITIVO           False          False          True\n",
       "12           SECTERMINAL           False          False          True\n",
       "13         CODIGOTIPOTRX           False          False          True\n",
       "14      CODIGOSUBTIPOTRX           False          False          True\n",
       "15           TIPOMAPPING           False          False          True\n",
       "16  ENTIDAD_EMISORA_TARJ           False          False          True\n",
       "17           CODIGOERROR           False          False          True\n",
       "18          FECHAPROCESO           False          False         False\n",
       "19                 RAMAL           False          False          True\n",
       "20  IDARCHIVOINTERCAMBIO           False          False          True\n",
       "21             CODIGOROL           False          False         False\n",
       "22     CODIGOTIPOTARJETA           False          False          True\n",
       "23               SENTIDO            True           True         False\n",
       "24           MONEDERO_ID           False          False          True\n",
       "25       EMISOR_CONTRATO           False          False          True\n",
       "26                SAM_ID           False          False         False\n",
       "27                 LG_ID            True           True          True\n",
       "28         TIPO_TERMINAL           False          False          True\n",
       "29           ID_SERVICIO           False          False          True\n",
       "30      VERSION_TIPO_TRX           False          False          True\n",
       "31         ID_INTEGRADOR           False          False          True\n",
       "32       EMISOR_MONEDERO           False          False          True\n",
       "33           SECCION_FIN           False          False          True\n",
       "34        SECCION_INICIO           False          False          True\n",
       "35             DESCUENTO           False          False         False\n",
       "36             PROVISION            True           True          True\n",
       "37    ID_POSICIONAMIENTO           False          False          True\n",
       "38                   PTC           False          False          True\n",
       "39                   LTC           False          False          True\n",
       "40        ID_COMBINACION            True           True          True\n",
       "41         DESCUENTO_ITG            True           True         False"
      ]
     },
     "execution_count": 30,
     "metadata": {},
     "output_type": "execute_result"
    }
   ],
   "source": [
    "column_names = selected_df.columns.tolist()\n",
    "analysis_results = []\n",
    "\n",
    "# Iterar sobre cada columna en column_names y aplicar analyze_column\n",
    "for column in column_names:\n",
    "    result = analyze_column(selected_df, column)\n",
    "    analysis_results.append(result)\n",
    "\n",
    "# Convertir la lista de resultados en un DataFrame\n",
    "analysis_df = pd.DataFrame(analysis_results)\n",
    "\n",
    "# Mostrar el DataFrame\n",
    "analysis_df"
   ]
  },
  {
   "cell_type": "markdown",
   "id": "f15dd749",
   "metadata": {},
   "source": [
    "\n",
    "En esta tabla podemos ver de todos los valores numéricos cuales podemos tratar como int y cuales contienen NaNs"
   ]
  },
  {
   "cell_type": "markdown",
   "id": "e179bead",
   "metadata": {},
   "source": [
    "## Visualizaciones y descripciones de columnas"
   ]
  },
  {
   "cell_type": "code",
   "execution_count": 31,
   "id": "1a0f0403",
   "metadata": {},
   "outputs": [
    {
     "data": {
      "text/plain": [
       "IDLINEA\n",
       "3359    307541\n",
       "3367    288605\n",
       "3451    247735\n",
       "3360    168075\n",
       "3426    165754\n",
       "         ...  \n",
       "3117       562\n",
       "3118       226\n",
       "3427       114\n",
       "3127        13\n",
       "3438        10\n",
       "Name: count, Length: 119, dtype: int64"
      ]
     },
     "execution_count": 31,
     "metadata": {},
     "output_type": "execute_result"
    }
   ],
   "source": [
    "selected_df['IDLINEA'].value_counts(dropna=False)"
   ]
  },
  {
   "cell_type": "markdown",
   "id": "266a5991",
   "metadata": {},
   "source": [
    "descipción de IDLNEA en tablas:\n",
    ">120 códigos de lineas (numérico) \n",
    ">(nro de linea) (DESCRIPCION EN TABLA DE LINEAS)\n",
    "\n",
    "son correctos los valores, hay que ver por donde van las lineas"
   ]
  },
  {
   "cell_type": "markdown",
   "id": "02307965",
   "metadata": {},
   "source": [
    "Codigoentidad, idlinea, nrotrajeta y nrochip son identificadores, no le vamos a hacer visualizaciones"
   ]
  },
  {
   "cell_type": "code",
   "execution_count": 32,
   "id": "f58088e5-de98-4c1c-b0f3-c28353672fde",
   "metadata": {
    "colab": {
     "base_uri": "https://localhost:8080/",
     "height": 584
    },
    "id": "f58088e5-de98-4c1c-b0f3-c28353672fde",
    "outputId": "5f33604e-49ec-4ffd-e84f-8ef1ea32da10"
   },
   "outputs": [
    {
     "data": {
      "image/png": "[encoded data removed]",
      "text/plain": [
       "<Figure size 800x800 with 1 Axes>"
      ]
     },
     "metadata": {},
     "output_type": "display_data"
    }
   ],
   "source": [
    "# Contar los valores de la columna CODIGOTIPOTRX\n",
    "codigotipo_trx_counts = selected_df['CODIGOTIPOTRX'].value_counts()\n",
    "\n",
    "# Crear el gráfico de pastel\n",
    "plt.figure(figsize=(8, 8))\n",
    "plt.pie(codigotipo_trx_counts, labels=codigotipo_trx_counts.index, autopct='%1.1f%%', startangle=140)\n",
    "plt.title('Distribución de CODIGOTIPOTRX')\n",
    "plt.show()\n"
   ]
  },
  {
   "cell_type": "markdown",
   "id": "5139b629",
   "metadata": {},
   "source": [
    "Descripción de tablas:\n",
    "> 2 valores existentes, 12 y 22. 12: boleto comun, 22: trasbordo. Influye en el monto.\n",
    "\n",
    "vemos que también hay 10"
   ]
  },
  {
   "cell_type": "code",
   "execution_count": 34,
   "id": "e83098ce",
   "metadata": {},
   "outputs": [
    {
     "data": {
      "text/plain": [
       "NROCHIP\n",
       "931959375            358\n",
       "970912847            289\n",
       "40553909374713860    255\n",
       "41114283687189764    255\n",
       "36135960113194756    241\n",
       "                    ... \n",
       "996760911              1\n",
       "40554392692342532      1\n",
       "1694523983             1\n",
       "49815983               1\n",
       "40553990035344900      1\n",
       "Name: count, Length: 268994, dtype: Int64"
      ]
     },
     "execution_count": 34,
     "metadata": {},
     "output_type": "execute_result"
    }
   ],
   "source": [
    "selected_df['NROCHIP'].value_counts(dropna=False)"
   ]
  },
  {
   "cell_type": "markdown",
   "id": "93017ec0",
   "metadata": {},
   "source": [
    "NROCHIP parece un identificador, no está en las tablas entonces no sabemos de que. pocos valores repetidos"
   ]
  },
  {
   "cell_type": "code",
   "execution_count": 35,
   "id": "4f8af927-6267-4295-b067-67087f166ec1",
   "metadata": {
    "colab": {
     "base_uri": "https://localhost:8080/",
     "height": 261
    },
    "id": "4f8af927-6267-4295-b067-67087f166ec1",
    "outputId": "68729393-1973-42e7-ba9c-e6c3ba30a645"
   },
   "outputs": [
    {
     "data": {
      "text/plain": [
       "ID_COMBINACION\n",
       "NaN    4705713\n",
       "1.0     828413\n",
       "2.0      33161\n",
       "3.0       2340\n",
       "Name: count, dtype: int64"
      ]
     },
     "execution_count": 35,
     "metadata": {},
     "output_type": "execute_result"
    }
   ],
   "source": [
    "selected_df.value_counts('ID_COMBINACION', dropna=False)"
   ]
  },
  {
   "cell_type": "markdown",
   "id": "d3a605b4-0ecd-4a43-b6c7-7a724203dfa3",
   "metadata": {
    "id": "d3a605b4-0ecd-4a43-b6c7-7a724203dfa3"
   },
   "source": [
    "descripción tablas deID_COMBINACIÓN\n",
    "> 5 valores distintos (blanco,1,2,3,71). localidades que puede tener varios trasbordos (con cada cantidad se hace descuentos)en que parte del trasbordo estas... sj 3 trasbordos... \n",
    "\n",
    "indica la cantidad de trasbordos, son correctos los datos"
   ]
  },
  {
   "cell_type": "code",
   "execution_count": null,
   "id": "a3b705ab",
   "metadata": {},
   "outputs": [
    {
     "data": {
      "text/plain": [
       "CODIGOCONTRATO\n",
       "621.0    3749759\n",
       "602.0    1817426\n",
       "624.0       2325\n",
       "106.0        116\n",
       "619.0          1\n",
       "Name: count, dtype: int64"
      ]
     },
     "execution_count": 19,
     "metadata": {},
     "output_type": "execute_result"
    }
   ],
   "source": [
    "selected_df.value_counts('CODIGOCONTRATO', dropna=False)"
   ]
  },
  {
   "cell_type": "markdown",
   "id": "81162aea",
   "metadata": {},
   "source": [
    "explicación de la tabla\n",
    "> Tipo de boleto (beneficio, descuento). asociado a la tarjeta"
   ]
  },
  {
   "cell_type": "code",
   "execution_count": 13,
   "id": "09435614",
   "metadata": {},
   "outputs": [
    {
     "data": {
      "text/plain": [
       "SECUENCIA_TARJETA\n",
       "4        4149\n",
       "5        4117\n",
       "9        4055\n",
       "8        4022\n",
       "6        4008\n",
       "         ... \n",
       "12067       1\n",
       "12066       1\n",
       "12065       1\n",
       "12064       1\n",
       "16197       1\n",
       "Name: count, Length: 12960, dtype: int64"
      ]
     },
     "execution_count": 13,
     "metadata": {},
     "output_type": "execute_result"
    }
   ],
   "source": [
    "selected_df.value_counts('SECUENCIA_TARJETA', dropna=False)"
   ]
  },
  {
   "cell_type": "code",
   "execution_count": 14,
   "id": "3696371d",
   "metadata": {},
   "outputs": [
    {
     "data": {
      "image/png": "[encoded data removed]",
      "text/plain": [
       "<Figure size 1000x600 with 1 Axes>"
      ]
     },
     "metadata": {},
     "output_type": "display_data"
    }
   ],
   "source": [
    "show_histogram(selected_df, \"SECUENCIA_TARJETA\", \"histogrmama de Secuencia_tarjeta\", 'Valoes',\"Frecuencia\")"
   ]
  },
  {
   "cell_type": "markdown",
   "id": "ebca07d0",
   "metadata": {},
   "source": [
    "Secuencia_tarjeta no se encuentra en la descripción de datos, "
   ]
  },
  {
   "cell_type": "code",
   "execution_count": 28,
   "id": "0d64df7e",
   "metadata": {},
   "outputs": [
    {
     "data": {
      "image/png": "[encoded data removed]",
      "text/plain": [
       "<Figure size 1000x600 with 1 Axes>"
      ]
     },
     "metadata": {},
     "output_type": "display_data"
    }
   ],
   "source": [
    "show_histogram(selected_df, 'MONTO', 'Histograma de MONTO', 'MONTO', 'Frecuencia')"
   ]
  },
  {
   "cell_type": "code",
   "execution_count": 13,
   "id": "3e1e220f",
   "metadata": {},
   "outputs": [
    {
     "data": {
      "text/plain": [
       "MONTO\n",
       "90.00     122080\n",
       "200.00     62472\n",
       "0.00       42685\n",
       "150.75     10423\n",
       "101.25     10291\n",
       "           ...  \n",
       "216.67         1\n",
       "365.84         1\n",
       "680.02         1\n",
       "227.50         1\n",
       "234.00         1\n",
       "Name: count, Length: 149, dtype: int64"
      ]
     },
     "execution_count": 13,
     "metadata": {},
     "output_type": "execute_result"
    }
   ],
   "source": [
    "selected_df['MONTO'].value_counts(dropna=False)"
   ]
  },
  {
   "cell_type": "markdown",
   "id": "af1db274",
   "metadata": {},
   "source": [
    "Columna monto, contiene el monto cobrado de los pasajes, con descuento ya aplicado"
   ]
  },
  {
   "cell_type": "code",
   "execution_count": 29,
   "id": "6678ae7f",
   "metadata": {},
   "outputs": [
    {
     "data": {
      "image/png": "[encoded data removed]",
      "text/plain": [
       "<Figure size 1000x600 with 1 Axes>"
      ]
     },
     "metadata": {},
     "output_type": "display_data"
    }
   ],
   "source": [
    "show_histogram(selected_df, 'SALDO', 'Histograma de SALDO', 'SALDO', 'Frecuencia')"
   ]
  },
  {
   "cell_type": "markdown",
   "id": "ca7ea328",
   "metadata": {},
   "source": [
    "SALDO representa el salgo restante de la tarjeta del pasajero"
   ]
  },
  {
   "cell_type": "code",
   "execution_count": 30,
   "id": "29f45d9d",
   "metadata": {},
   "outputs": [
    {
     "data": {
      "image/png": "[encoded data removed]",
      "text/plain": [
       "<Figure size 1000x600 with 1 Axes>"
      ]
     },
     "metadata": {},
     "output_type": "display_data"
    }
   ],
   "source": [
    "show_histogram(selected_df, 'VALOR_TARIFA', 'Histograma de VALOR_TARIFA', 'VALOR_TARIFA', 'Frecuencia')"
   ]
  },
  {
   "cell_type": "markdown",
   "id": "87652757",
   "metadata": {},
   "source": [
    "Valor_tarifa muestra el monto de la tarifa que se debería haber cobrado sin los descuentos"
   ]
  },
  {
   "cell_type": "code",
   "execution_count": 20,
   "id": "a4482c8a",
   "metadata": {},
   "outputs": [
    {
     "data": {
      "text/plain": [
       "DIFERENCIA_TARIFA_MONTO\n",
       "0.00                       253345\n",
       "90.00                       24521\n",
       "200.00                      14434\n",
       "66.00                        2193\n",
       "101.25                       1684\n",
       "150.75                       1470\n",
       "129.75                        535\n",
       "119.25                        357\n",
       "200.00                        334\n",
       "170.25                        241\n",
       "184.50                        205\n",
       "100.00                        162\n",
       "200.00                        129\n",
       "150.30                        116\n",
       "200.00                         99\n",
       "191.25                         66\n",
       "195.00                         40\n",
       "108.75                         29\n",
       "167.50                          8\n",
       "60.00                           8\n",
       "27.00                           7\n",
       "144.17                          4\n",
       "112.50                          4\n",
       "189.17                          2\n",
       "190.50                          2\n",
       "30.38                           2\n",
       "167.51                          1\n",
       "132.50                          1\n",
       "186.75                          1\n",
       "Name: count, dtype: int64"
      ]
     },
     "execution_count": 20,
     "metadata": {},
     "output_type": "execute_result"
    }
   ],
   "source": [
    "#diferencia entre VALOR_TARIFA y MONTO\n",
    "temp_df = selected_df.copy()\n",
    "temp_df['DIFERENCIA_TARIFA_MONTO'] = temp_df['VALOR_TARIFA'] - temp_df['MONTO']\n",
    "temp_df[['DIFERENCIA_TARIFA_MONTO']].value_counts()"
   ]
  },
  {
   "cell_type": "code",
   "execution_count": 21,
   "id": "cdf0cea7",
   "metadata": {},
   "outputs": [
    {
     "data": {
      "text/plain": [
       "INTERNO\n",
       "33.0     5064\n",
       "34.0     4464\n",
       "17.0     4441\n",
       "30.0     3749\n",
       "21.0     3678\n",
       "         ... \n",
       "146.0     271\n",
       "147.0     266\n",
       "144.0     258\n",
       "153.0     203\n",
       "148.0      47\n",
       "Name: count, Length: 185, dtype: int64"
      ]
     },
     "execution_count": 21,
     "metadata": {},
     "output_type": "execute_result"
    }
   ],
   "source": [
    "selected_df['INTERNO'].value_counts(dropna=False)"
   ]
  },
  {
   "cell_type": "markdown",
   "id": "dc33f534",
   "metadata": {},
   "source": [
    "INTERNO contiene el nro identificador del colectivo (interno)  "
   ]
  },
  {
   "cell_type": "code",
   "execution_count": null,
   "id": "a3e9ffc4",
   "metadata": {},
   "outputs": [
    {
     "data": {
      "text/plain": [
       "SECTERMINAL\n",
       "3057482.0    5\n",
       "3093970.0    5\n",
       "3092021.0    4\n",
       "2101044.0    4\n",
       "2362485.0    4\n",
       "            ..\n",
       "3870870.0    1\n",
       "3234196.0    1\n",
       "2764307.0    1\n",
       "3140297.0    1\n",
       "2602287.0    1\n",
       "Name: count, Length: 282279, dtype: int64"
      ]
     },
     "execution_count": 22,
     "metadata": {},
     "output_type": "execute_result"
    }
   ],
   "source": [
    "selected_df['SECTERMINAL'].value_counts(dropna=False)   "
   ]
  },
  {
   "cell_type": "code",
   "execution_count": 31,
   "id": "615bf30a",
   "metadata": {},
   "outputs": [
    {
     "data": {
      "image/png": "[encoded data removed]",
      "text/plain": [
       "<Figure size 1000x600 with 1 Axes>"
      ]
     },
     "metadata": {},
     "output_type": "display_data"
    }
   ],
   "source": [
    "show_histogram(selected_df, 'SECTERMINAL', 'Histograma de SECTERMINAL', 'SECTERMINAL', 'Frecuencia')"
   ]
  },
  {
   "cell_type": "markdown",
   "id": "d1bb2ba8",
   "metadata": {},
   "source": [
    "no sé que es SECTERMINAL"
   ]
  },
  {
   "cell_type": "code",
   "execution_count": 9,
   "id": "3a044059",
   "metadata": {},
   "outputs": [
    {
     "data": {
      "image/png": "[encoded data removed]",
      "text/plain": [
       "<Figure size 1000x600 with 1 Axes>"
      ]
     },
     "metadata": {},
     "output_type": "display_data"
    }
   ],
   "source": [
    "show_histogram(selected_df, 'RAMAL', 'Histograma de RAMAL', 'RAMAL', 'Frecuencia')"
   ]
  },
  {
   "cell_type": "code",
   "execution_count": null,
   "id": "8b327291-e5d9-49e3-ada4-48e7286de544",
   "metadata": {
    "id": "8b327291-e5d9-49e3-ada4-48e7286de544"
   },
   "outputs": [
    {
     "data": {
      "text/plain": [
       "RAMAL\n",
       "7562.0    15614\n",
       "7583.0    13423\n",
       "7543.0     9092\n",
       "7612.0     8870\n",
       "7605.0     8668\n",
       "          ...  \n",
       "7625.0       24\n",
       "7563.0       12\n",
       "7619.0       11\n",
       "7613.0       10\n",
       "6977.0        1\n",
       "Name: count, Length: 126, dtype: int64"
      ]
     },
     "execution_count": 10,
     "metadata": {},
     "output_type": "execute_result"
    }
   ],
   "source": [
    "selected_df['RAMAL'].value_counts(dropna=False)"
   ]
  },
  {
   "cell_type": "markdown",
   "id": "29be3447",
   "metadata": {},
   "source": [
    "Descripción de ramal en tablas\n",
    ">EXTENSIONES. LA DESCRIPCION ESTA EN LA TABLA DE LAS LINEAS(EMPRESAS)\n",
    "\n",
    "dice que hay 128 valores existentes, se corresponde"
   ]
  },
  {
   "cell_type": "markdown",
   "id": "2a53ff75-1df4-4828-b2da-d0de48d95844",
   "metadata": {
    "colab": {
     "base_uri": "https://localhost:8080/",
     "height": 313
    },
    "id": "2a53ff75-1df4-4828-b2da-d0de48d95844",
    "outputId": "85cbc92c-f555-43b5-eeb8-826549cae563"
   },
   "source": [
    "# Sample para trabajar en otra pc  "
   ]
  },
  {
   "cell_type": "code",
   "execution_count": 5,
   "id": "17acad5b",
   "metadata": {},
   "outputs": [
    {
     "data": {
      "text/plain": [
       "['datasets\\\\joblib\\\\sample']"
      ]
     },
     "execution_count": 5,
     "metadata": {},
     "output_type": "execute_result"
    }
   ],
   "source": [
    "sample_df = complete_df.sample(n=300000, random_state=42)\n",
    "sample_path = os.path.join(\"datasets\", \"joblib\", \"sample\")\n",
    "joblib.dump(sample_df, sample_path)"
   ]
  }
 ],
 "metadata": {
  "colab": {
   "include_colab_link": true,
   "provenance": [],
   "toc_visible": true
  },
  "kernelspec": {
   "display_name": "venv",
   "language": "python",
   "name": "python3"
  },
  "language_info": {
   "codemirror_mode": {
    "name": "ipython",
    "version": 3
   },
   "file_extension": ".py",
   "mimetype": "text/x-python",
   "name": "python",
   "nbconvert_exporter": "python",
   "pygments_lexer": "ipython3",
   "version": "3.8.2"
  }
 },
 "nbformat": 4,
 "nbformat_minor": 5
}
