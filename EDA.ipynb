{
 "cells": [
  {
   "cell_type": "markdown",
   "id": "3837d9d0",
   "metadata": {
    "colab_type": "text",
    "id": "view-in-github"
   },
   "source": [
    "<a href=\"https://colab.research.google.com/github/Ign4cho/ProyectoBI/blob/main/EDA.ipynb\" target=\"_parent\"><img src=\"https://colab.research.google.com/assets/colab-badge.svg\" alt=\"Open In Colab\"/></a>"
   ]
  },
  {
   "cell_type": "markdown",
   "id": "WGAVZgHvmOV5",
   "metadata": {
    "id": "WGAVZgHvmOV5"
   },
   "source": [
    "# Introducción\n",
    "Carga de datos"
   ]
  },
  {
   "cell_type": "code",
   "execution_count": 2,
   "id": "55742dbe",
   "metadata": {
    "id": "55742dbe"
   },
   "outputs": [],
   "source": [
    "import pandas as pd\n",
    "import matplotlib.pyplot as plt\n",
    "import joblib\n",
    "import os\n",
    "#os.path()\n",
    "csv_path = os.path.join(\"datasets\",\"EXTRACCION_Prov-San-Juan_022024.csv\")\n"
   ]
  },
  {
   "cell_type": "code",
   "execution_count": null,
   "id": "9oASrg9ygbRl",
   "metadata": {
    "id": "9oASrg9ygbRl"
   },
   "outputs": [],
   "source": [
    "column_types = {\n",
    "            'CODIGOENTIDAD': 'float64',\n",
    "            'IDLINEA': 'float64',\n",
    "            'NROCHIP': 'float64',\n",
    "            'NROTARJETA': 'float64',\n",
    "            'CODIGOCONTRATO': 'float64',\n",
    "            'SECUENCIA_TARJETA': 'float64',\n",
    "            'FECHATRX': 'string',\n",
    "            'MONTO': 'float64',\n",
    "            'SALDO': 'float64',\n",
    "            'VALOR_TARIFA': 'float64',\n",
    "            'INTERNO': 'float64',\n",
    "            'DISPOSITIVO': 'float64',\n",
    "            'SECTERMINAL': 'float64',\n",
    "            'CODIGOTIPOTRX': 'float64',\n",
    "            'CODIGOSUBTIPOTRX': 'float64',\n",
    "            'TIPOMAPPING': 'float64',\n",
    "            'ENTIDAD_EMISORA_TARJ': 'float64',\n",
    "            'CODIGOERROR': 'float64',\n",
    "            'FECHAPROCESO': 'string',\n",
    "            'RAMAL': 'float64',\n",
    "            'IDARCHIVOINTERCAMBIO': 'float64',\n",
    "            'CODIGOROL': 'string',\n",
    "            'CODIGOTIPOTARJETA': 'float64',\n",
    "            'SENTIDO': 'string',\n",
    "            'MONEDERO_ID': 'float64',\n",
    "            'EMISOR_CONTRATO': 'float64',\n",
    "            'SAM_ID': 'string',\n",
    "            'LG_ID': 'float64',\n",
    "            'TIPO_TERMINAL': 'float64',\n",
    "            'ID_SERVICIO': 'float64',\n",
    "            'VERSION_TIPO_TRX': 'float64',\n",
    "            'ID_INTEGRADOR': 'float64',\n",
    "            'EMISOR_MONEDERO': 'float64',\n",
    "            'SECCION_FIN': 'float64',\n",
    "            'SECCION_INICIO': 'float64',\n",
    "            'DESCUENTO': 'float64',\n",
    "            'PROVISION': 'float64',\n",
    "            'ID_POSICIONAMIENTO': 'float64',\n",
    "            'PTC': 'float64',\n",
    "            'LTC': 'float64'\n",
    "        }\n",
    "\n",
    " column_types_new = {\n",
    "    'CODIGOENTIDAD': 'int64',\n",
    "    'IDLINEA': 'int64',\n",
    "    'NROCHIP': 'int64',\n",
    "    'NROTARJETA': 'int64',\n",
    "    'CODIGOCONTRATO': 'int64',\n",
    "    'SECUENCIA_TARJETA': 'int64',\n",
    "    'FECHATRX': 'string',\n",
    "    'MONTO': 'float64',\n",
    "    'SALDO': 'float64',\n",
    "    'VALOR_TARIFA': 'float64',\n",
    "    'INTERNO': 'int64',\n",
    "    'DISPOSITIVO': 'int64',\n",
    "    'SECTERMINAL': 'int64',\n",
    "    'CODIGOTIPOTRX': 'int64',\n",
    "    'CODIGOSUBTIPOTRX': 'int64',\n",
    "    'TIPOMAPPING': 'int64',\n",
    "    'ENTIDAD_EMISORA_TARJ': 'int64',\n",
    "    'CODIGOERROR': 'int64',\n",
    "    'FECHAPROCESO': 'string',\n",
    "    'RAMAL': 'int64',\n",
    "    'IDARCHIVOINTERCAMBIO': 'int64',\n",
    "    'CODIGOROL': 'string',\n",
    "    'CODIGOTIPOTARJETA': 'int64',\n",
    "    'SENTIDO': 'string',\n",
    "    'MONEDERO_ID': 'int64',\n",
    "    'EMISOR_CONTRATO': 'int64',\n",
    "    'SAM_ID': 'string',\n",
    "    'LG_ID': 'float64',\n",
    "    'TIPO_TERMINAL': 'int64',\n",
    "    'ID_SERVICIO': 'int64',\n",
    "    'VERSION_TIPO_TRX': 'int64',\n",
    "    'ID_INTEGRADOR': 'int64',\n",
    "    'EMISOR_MONEDERO': 'int64',\n",
    "    'SECCION_FIN': 'int64',\n",
    "    'SECCION_INICIO': 'int64',\n",
    "    'DESCUENTO': 'float64',\n",
    "    'PROVISION': 'float64',\n",
    "    'ID_POSICIONAMIENTO': 'int64',\n",
    "    'PTC': 'int64',\n",
    "    'LTC': 'int64'\n",
    "}\n"
   ]
  },
  {
   "cell_type": "code",
   "execution_count": 3,
   "id": "333c0c70-99d4-401c-a365-aabafc61584a",
   "metadata": {
    "id": "333c0c70-99d4-401c-a365-aabafc61584a"
   },
   "outputs": [],
   "source": [
    "def load_data(path, columns):\n",
    "    return pd.read_csv(path, delimiter=';', decimal=',',\n",
    "                          dtype=columns)\n",
    "    #si hace falta agregar: nrows=cantidad_filas,\n"
   ]
  },
  {
   "cell_type": "code",
   "execution_count": 4,
   "id": "c3a94a84-0ccc-4436-802f-bfa62b2b9421",
   "metadata": {
    "id": "c3a94a84-0ccc-4436-802f-bfa62b2b9421"
   },
   "outputs": [],
   "source": [
    "complete_df=load_data(csv_path, column_types)"
   ]
  },
  {
   "cell_type": "code",
   "execution_count": 7,
   "id": "d9f95395",
   "metadata": {},
   "outputs": [],
   "source": [
    "joblib_path = os.path.join('datasets', 'joblib', 'sample')\n",
    "selected_df= joblib.load(joblib_path)"
   ]
  },
  {
   "cell_type": "code",
   "execution_count": null,
   "id": "5330f9b3",
   "metadata": {},
   "outputs": [
    {
     "data": {
      "text/plain": [
       "['datasets/joblib/extraccion022024.pkl']"
      ]
     },
     "execution_count": 9,
     "metadata": {},
     "output_type": "execute_result"
    }
   ],
   "source": [
    "file_path = os.path.join('datasets', 'joblib', 'extraccion022024.pkl')\n",
    "joblib.dump(complete_df, file_path)"
   ]
  },
  {
   "cell_type": "code",
   "execution_count": 5,
   "id": "e49fc254-9477-4d67-8868-6e84e9797095",
   "metadata": {
    "id": "e49fc254-9477-4d67-8868-6e84e9797095",
    "scrolled": true
   },
   "outputs": [
    {
     "name": "stdout",
     "output_type": "stream",
     "text": [
      "<class 'pandas.core.frame.DataFrame'>\n",
      "Index: 300000 entries, 2088470 to 1730540\n",
      "Data columns (total 9 columns):\n",
      " #   Column              Non-Null Count   Dtype  \n",
      "---  ------              --------------   -----  \n",
      " 0   CODIGOENTIDAD       300000 non-null  float64\n",
      " 1   IDLINEA             300000 non-null  float64\n",
      " 2   NROTARJETA          300000 non-null  float64\n",
      " 3   CODIGOCONTRATO      300000 non-null  float64\n",
      " 4   FECHATRX            300000 non-null  string \n",
      " 5   CODIGOTIPOTRX       300000 non-null  float64\n",
      " 6   RAMAL               300000 non-null  float64\n",
      " 7   ID_POSICIONAMIENTO  300000 non-null  float64\n",
      " 8   ID_COMBINACION      46655 non-null   float64\n",
      "dtypes: float64(8), string(1)\n",
      "memory usage: 22.9 MB\n"
     ]
    }
   ],
   "source": [
    "selected_columns = ['CODIGOENTIDAD', 'IDLINEA', 'NROTARJETA', 'CODIGOCONTRATO',\n",
    "                            'FECHATRX','CODIGOTIPOTRX','RAMAL','ID_POSICIONAMIENTO','ID_COMBINACION']\n",
    "selected_df = complete_df[selected_columns]\n",
    "selected_df.info()"
   ]
  },
  {
   "cell_type": "markdown",
   "id": "4e66fc5f-0806-4b24-87d2-bb4514badc2b",
   "metadata": {
    "id": "4e66fc5f-0806-4b24-87d2-bb4514badc2b"
   },
   "source": [
    "# Comentarios"
   ]
  },
  {
   "cell_type": "markdown",
   "id": "a7165ee0-1800-458d-ab89-b0424000a404",
   "metadata": {
    "id": "a7165ee0-1800-458d-ab89-b0424000a404"
   },
   "source": [
    "## Describe e Info\n",
    "La mayoría de los valores no son necesariamente numéricos, pero vemos que la mayoría son non-null por lo menos."
   ]
  },
  {
   "cell_type": "code",
   "execution_count": 8,
   "id": "198dbc41-1031-4d1c-aa87-86f6276d68e8",
   "metadata": {
    "id": "198dbc41-1031-4d1c-aa87-86f6276d68e8"
   },
   "outputs": [
    {
     "data": {
      "text/html": [
       "<div>\n",
       "<style scoped>\n",
       "    .dataframe tbody tr th:only-of-type {\n",
       "        vertical-align: middle;\n",
       "    }\n",
       "\n",
       "    .dataframe tbody tr th {\n",
       "        vertical-align: top;\n",
       "    }\n",
       "\n",
       "    .dataframe thead th {\n",
       "        text-align: right;\n",
       "    }\n",
       "</style>\n",
       "<table border=\"1\" class=\"dataframe\">\n",
       "  <thead>\n",
       "    <tr style=\"text-align: right;\">\n",
       "      <th></th>\n",
       "      <th>CODIGOENTIDAD</th>\n",
       "      <th>IDLINEA</th>\n",
       "      <th>NROCHIP</th>\n",
       "      <th>NROTARJETA</th>\n",
       "      <th>CODIGOCONTRATO</th>\n",
       "      <th>SECUENCIA_TARJETA</th>\n",
       "      <th>FECHATRX</th>\n",
       "      <th>MONTO</th>\n",
       "      <th>SALDO</th>\n",
       "      <th>VALOR_TARIFA</th>\n",
       "      <th>...</th>\n",
       "      <th>EMISOR_MONEDERO</th>\n",
       "      <th>SECCION_FIN</th>\n",
       "      <th>SECCION_INICIO</th>\n",
       "      <th>DESCUENTO</th>\n",
       "      <th>PROVISION</th>\n",
       "      <th>ID_POSICIONAMIENTO</th>\n",
       "      <th>PTC</th>\n",
       "      <th>LTC</th>\n",
       "      <th>ID_COMBINACION</th>\n",
       "      <th>DESCUENTO_ITG</th>\n",
       "    </tr>\n",
       "  </thead>\n",
       "  <tbody>\n",
       "    <tr>\n",
       "      <th>2088470</th>\n",
       "      <td>251.0</td>\n",
       "      <td>3383.0</td>\n",
       "      <td>1.505888e+09</td>\n",
       "      <td>1.843950e+09</td>\n",
       "      <td>621.0</td>\n",
       "      <td>701.0</td>\n",
       "      <td>21/02/2024 18:04:13</td>\n",
       "      <td>246.01</td>\n",
       "      <td>442.39</td>\n",
       "      <td>246.01</td>\n",
       "      <td>...</td>\n",
       "      <td>5.0</td>\n",
       "      <td>3.0</td>\n",
       "      <td>1.0</td>\n",
       "      <td>0.0</td>\n",
       "      <td>0.0</td>\n",
       "      <td>22.0</td>\n",
       "      <td>691.0</td>\n",
       "      <td>11.0</td>\n",
       "      <td>NaN</td>\n",
       "      <td>NaN</td>\n",
       "    </tr>\n",
       "    <tr>\n",
       "      <th>4355005</th>\n",
       "      <td>250.0</td>\n",
       "      <td>3380.0</td>\n",
       "      <td>3.612389e+16</td>\n",
       "      <td>1.834343e+09</td>\n",
       "      <td>602.0</td>\n",
       "      <td>342.0</td>\n",
       "      <td>22/02/2024 07:19:19</td>\n",
       "      <td>200.00</td>\n",
       "      <td>-256.01</td>\n",
       "      <td>200.00</td>\n",
       "      <td>...</td>\n",
       "      <td>5.0</td>\n",
       "      <td>1.0</td>\n",
       "      <td>1.0</td>\n",
       "      <td>0.0</td>\n",
       "      <td>0.0</td>\n",
       "      <td>32.0</td>\n",
       "      <td>334.0</td>\n",
       "      <td>19.0</td>\n",
       "      <td>NaN</td>\n",
       "      <td>NaN</td>\n",
       "    </tr>\n",
       "    <tr>\n",
       "      <th>2251961</th>\n",
       "      <td>250.0</td>\n",
       "      <td>3375.0</td>\n",
       "      <td>3.613583e+16</td>\n",
       "      <td>1.841095e+09</td>\n",
       "      <td>621.0</td>\n",
       "      <td>1368.0</td>\n",
       "      <td>28/02/2024 10:05:01</td>\n",
       "      <td>90.00</td>\n",
       "      <td>-134.58</td>\n",
       "      <td>90.00</td>\n",
       "      <td>...</td>\n",
       "      <td>5.0</td>\n",
       "      <td>1.0</td>\n",
       "      <td>1.0</td>\n",
       "      <td>0.0</td>\n",
       "      <td>0.0</td>\n",
       "      <td>83.0</td>\n",
       "      <td>1354.0</td>\n",
       "      <td>85.0</td>\n",
       "      <td>NaN</td>\n",
       "      <td>NaN</td>\n",
       "    </tr>\n",
       "    <tr>\n",
       "      <th>3701629</th>\n",
       "      <td>254.0</td>\n",
       "      <td>3418.0</td>\n",
       "      <td>1.580409e+09</td>\n",
       "      <td>1.824223e+09</td>\n",
       "      <td>602.0</td>\n",
       "      <td>1256.0</td>\n",
       "      <td>10/02/2024 18:51:58</td>\n",
       "      <td>200.00</td>\n",
       "      <td>565.28</td>\n",
       "      <td>200.00</td>\n",
       "      <td>...</td>\n",
       "      <td>5.0</td>\n",
       "      <td>1.0</td>\n",
       "      <td>1.0</td>\n",
       "      <td>0.0</td>\n",
       "      <td>0.0</td>\n",
       "      <td>57.0</td>\n",
       "      <td>1256.0</td>\n",
       "      <td>31.0</td>\n",
       "      <td>NaN</td>\n",
       "      <td>NaN</td>\n",
       "    </tr>\n",
       "    <tr>\n",
       "      <th>4113558</th>\n",
       "      <td>254.0</td>\n",
       "      <td>3423.0</td>\n",
       "      <td>3.613133e+16</td>\n",
       "      <td>1.837260e+09</td>\n",
       "      <td>602.0</td>\n",
       "      <td>193.0</td>\n",
       "      <td>17/02/2024 23:58:54</td>\n",
       "      <td>0.00</td>\n",
       "      <td>1350.48</td>\n",
       "      <td>200.00</td>\n",
       "      <td>...</td>\n",
       "      <td>5.0</td>\n",
       "      <td>1.0</td>\n",
       "      <td>1.0</td>\n",
       "      <td>200.0</td>\n",
       "      <td>0.0</td>\n",
       "      <td>125.0</td>\n",
       "      <td>190.0</td>\n",
       "      <td>15.0</td>\n",
       "      <td>1.0</td>\n",
       "      <td>200.0</td>\n",
       "    </tr>\n",
       "  </tbody>\n",
       "</table>\n",
       "<p>5 rows × 42 columns</p>\n",
       "</div>"
      ],
      "text/plain": [
       "         CODIGOENTIDAD  IDLINEA       NROCHIP    NROTARJETA  CODIGOCONTRATO  \\\n",
       "2088470          251.0   3383.0  1.505888e+09  1.843950e+09           621.0   \n",
       "4355005          250.0   3380.0  3.612389e+16  1.834343e+09           602.0   \n",
       "2251961          250.0   3375.0  3.613583e+16  1.841095e+09           621.0   \n",
       "3701629          254.0   3418.0  1.580409e+09  1.824223e+09           602.0   \n",
       "4113558          254.0   3423.0  3.613133e+16  1.837260e+09           602.0   \n",
       "\n",
       "         SECUENCIA_TARJETA             FECHATRX   MONTO    SALDO  \\\n",
       "2088470              701.0  21/02/2024 18:04:13  246.01   442.39   \n",
       "4355005              342.0  22/02/2024 07:19:19  200.00  -256.01   \n",
       "2251961             1368.0  28/02/2024 10:05:01   90.00  -134.58   \n",
       "3701629             1256.0  10/02/2024 18:51:58  200.00   565.28   \n",
       "4113558              193.0  17/02/2024 23:58:54    0.00  1350.48   \n",
       "\n",
       "         VALOR_TARIFA  ...  EMISOR_MONEDERO  SECCION_FIN  SECCION_INICIO  \\\n",
       "2088470        246.01  ...              5.0          3.0             1.0   \n",
       "4355005        200.00  ...              5.0          1.0             1.0   \n",
       "2251961         90.00  ...              5.0          1.0             1.0   \n",
       "3701629        200.00  ...              5.0          1.0             1.0   \n",
       "4113558        200.00  ...              5.0          1.0             1.0   \n",
       "\n",
       "         DESCUENTO  PROVISION  ID_POSICIONAMIENTO     PTC   LTC  \\\n",
       "2088470        0.0        0.0                22.0   691.0  11.0   \n",
       "4355005        0.0        0.0                32.0   334.0  19.0   \n",
       "2251961        0.0        0.0                83.0  1354.0  85.0   \n",
       "3701629        0.0        0.0                57.0  1256.0  31.0   \n",
       "4113558      200.0        0.0               125.0   190.0  15.0   \n",
       "\n",
       "        ID_COMBINACION  DESCUENTO_ITG  \n",
       "2088470            NaN            NaN  \n",
       "4355005            NaN            NaN  \n",
       "2251961            NaN            NaN  \n",
       "3701629            NaN            NaN  \n",
       "4113558            1.0          200.0  \n",
       "\n",
       "[5 rows x 42 columns]"
      ]
     },
     "execution_count": 8,
     "metadata": {},
     "output_type": "execute_result"
    }
   ],
   "source": [
    "selected_df.head()"
   ]
  },
  {
   "cell_type": "code",
   "execution_count": 45,
   "id": "2c535e56",
   "metadata": {},
   "outputs": [
    {
     "name": "stdout",
     "output_type": "stream",
     "text": [
      "['CODIGOENTIDAD', 'IDLINEA', 'NROCHIP', 'NROTARJETA', 'CODIGOCONTRATO', 'SECUENCIA_TARJETA', 'MONTO', 'SALDO', 'VALOR_TARIFA', 'INTERNO', 'DISPOSITIVO', 'SECTERMINAL', 'CODIGOTIPOTRX', 'CODIGOSUBTIPOTRX', 'TIPOMAPPING', 'ENTIDAD_EMISORA_TARJ', 'CODIGOERROR', 'RAMAL', 'IDARCHIVOINTERCAMBIO', 'CODIGOTIPOTARJETA', 'MONEDERO_ID', 'EMISOR_CONTRATO', 'LG_ID', 'TIPO_TERMINAL', 'ID_SERVICIO', 'VERSION_TIPO_TRX', 'ID_INTEGRADOR', 'EMISOR_MONEDERO', 'SECCION_FIN', 'SECCION_INICIO', 'DESCUENTO', 'PROVISION', 'ID_POSICIONAMIENTO', 'PTC', 'LTC', 'ID_COMBINACION', 'DESCUENTO_ITG', 'DIFERENCIA_TARIFA_MONTO']\n"
     ]
    }
   ],
   "source": [
    "column_names = selected_df.columns.tolist()\n",
    "column_names.remove('FECHATRX')\n",
    "column_names.remove('FECHAPROCESO')\n",
    "column_names.remove('CODIGOROL')\n",
    "column_names.remove('SAM_ID')\n",
    "column_names.remove('SENTIDO')\n",
    "print(column_names)"
   ]
  },
  {
   "cell_type": "markdown",
   "id": "4404fe50-b129-4dcf-a357-a27c0a24ea88",
   "metadata": {
    "id": "4404fe50-b129-4dcf-a357-a27c0a24ea88"
   },
   "source": [
    "# Visualizaciones\n",
    "Vamos a probar algunas visualizaciones\n",
    "Primero vamos a ver de Codigotipotrx que es el codigo tipo transacción. Según el excel tiene dos valores posibles: 12 y 22.\n",
    "Después anazlizamos también el ID_COMBINACIÓN"
   ]
  },
  {
   "cell_type": "code",
   "execution_count": null,
   "id": "b8cdd17f",
   "metadata": {},
   "outputs": [],
   "source": [
    "\n",
    "def show_histogram(dataframe, column_name, title, xlabel, ylabel, bins=50):\n",
    "    \"\"\"\n",
    "    Muestra un histograma para una columna específica de un DataFrame.\n",
    "    \n",
    "    Parámetros:\n",
    "        dataframe (pd.DataFrame): El DataFrame que contiene los datos.\n",
    "        column_name (str): El nombre de la columna para graficar.\n",
    "        title (str): El título del histograma.\n",
    "        xlabel (str): La etiqueta del eje X.\n",
    "        ylabel (str): La etiqueta del eje Y.\n",
    "        bins (int): Número de bins para el histograma (por defecto es 50).\n",
    "    \"\"\"\n",
    "    plt.figure(figsize=(10, 6))\n",
    "    plt.hist(dataframe[column_name], bins=bins, edgecolor='black')\n",
    "    plt.xlabel(xlabel)\n",
    "    plt.ylabel(ylabel)\n",
    "    plt.title(title)\n",
    "    plt.grid(True)\n",
    "    plt.show()\n"
   ]
  },
  {
   "cell_type": "code",
   "execution_count": 32,
   "id": "098023e3",
   "metadata": {},
   "outputs": [],
   "source": [
    "def analyze_column(dataframe, column_name):\n",
    "    \"\"\"\n",
    "    Analiza una columna de un DataFrame para verificar:\n",
    "        - Si hay valores nulos.\n",
    "        - Si hay valores NaN.\n",
    "        - Si todos los valores podrían ser tratados como enteros sin pérdida de información.\n",
    "    \n",
    "    Parámetros:\n",
    "        dataframe (pd.DataFrame): El DataFrame que contiene los datos.\n",
    "        column_name (str): El nombre de la columna a analizar.\n",
    "    \n",
    "    Retorna:\n",
    "        dict: Un diccionario con los resultados del análisis.\n",
    "    \"\"\"\n",
    "    column = dataframe[column_name]\n",
    "    \n",
    "    result = {\n",
    "        'column_name': column_name,\n",
    "        'contains_nulls': column.isnull().any(),\n",
    "        'contains_nans': column.isna().any(),\n",
    "        'all_integers': column.dropna().apply(lambda x: x.is_integer()).all()\n",
    "    }\n",
    "    \n",
    "    return result\n"
   ]
  },
  {
   "cell_type": "code",
   "execution_count": 46,
   "id": "547d07fd",
   "metadata": {},
   "outputs": [
    {
     "data": {
      "text/html": [
       "<div>\n",
       "<style scoped>\n",
       "    .dataframe tbody tr th:only-of-type {\n",
       "        vertical-align: middle;\n",
       "    }\n",
       "\n",
       "    .dataframe tbody tr th {\n",
       "        vertical-align: top;\n",
       "    }\n",
       "\n",
       "    .dataframe thead th {\n",
       "        text-align: right;\n",
       "    }\n",
       "</style>\n",
       "<table border=\"1\" class=\"dataframe\">\n",
       "  <thead>\n",
       "    <tr style=\"text-align: right;\">\n",
       "      <th></th>\n",
       "      <th>column_name</th>\n",
       "      <th>contains_nulls</th>\n",
       "      <th>contains_nans</th>\n",
       "      <th>all_integers</th>\n",
       "    </tr>\n",
       "  </thead>\n",
       "  <tbody>\n",
       "    <tr>\n",
       "      <th>0</th>\n",
       "      <td>CODIGOENTIDAD</td>\n",
       "      <td>False</td>\n",
       "      <td>False</td>\n",
       "      <td>True</td>\n",
       "    </tr>\n",
       "    <tr>\n",
       "      <th>1</th>\n",
       "      <td>IDLINEA</td>\n",
       "      <td>False</td>\n",
       "      <td>False</td>\n",
       "      <td>True</td>\n",
       "    </tr>\n",
       "    <tr>\n",
       "      <th>2</th>\n",
       "      <td>NROCHIP</td>\n",
       "      <td>False</td>\n",
       "      <td>False</td>\n",
       "      <td>True</td>\n",
       "    </tr>\n",
       "    <tr>\n",
       "      <th>3</th>\n",
       "      <td>NROTARJETA</td>\n",
       "      <td>False</td>\n",
       "      <td>False</td>\n",
       "      <td>True</td>\n",
       "    </tr>\n",
       "    <tr>\n",
       "      <th>4</th>\n",
       "      <td>CODIGOCONTRATO</td>\n",
       "      <td>False</td>\n",
       "      <td>False</td>\n",
       "      <td>True</td>\n",
       "    </tr>\n",
       "    <tr>\n",
       "      <th>5</th>\n",
       "      <td>SECUENCIA_TARJETA</td>\n",
       "      <td>False</td>\n",
       "      <td>False</td>\n",
       "      <td>True</td>\n",
       "    </tr>\n",
       "    <tr>\n",
       "      <th>6</th>\n",
       "      <td>MONTO</td>\n",
       "      <td>False</td>\n",
       "      <td>False</td>\n",
       "      <td>False</td>\n",
       "    </tr>\n",
       "    <tr>\n",
       "      <th>7</th>\n",
       "      <td>SALDO</td>\n",
       "      <td>False</td>\n",
       "      <td>False</td>\n",
       "      <td>False</td>\n",
       "    </tr>\n",
       "    <tr>\n",
       "      <th>8</th>\n",
       "      <td>VALOR_TARIFA</td>\n",
       "      <td>False</td>\n",
       "      <td>False</td>\n",
       "      <td>False</td>\n",
       "    </tr>\n",
       "    <tr>\n",
       "      <th>9</th>\n",
       "      <td>INTERNO</td>\n",
       "      <td>False</td>\n",
       "      <td>False</td>\n",
       "      <td>True</td>\n",
       "    </tr>\n",
       "    <tr>\n",
       "      <th>10</th>\n",
       "      <td>DISPOSITIVO</td>\n",
       "      <td>False</td>\n",
       "      <td>False</td>\n",
       "      <td>True</td>\n",
       "    </tr>\n",
       "    <tr>\n",
       "      <th>11</th>\n",
       "      <td>SECTERMINAL</td>\n",
       "      <td>False</td>\n",
       "      <td>False</td>\n",
       "      <td>True</td>\n",
       "    </tr>\n",
       "    <tr>\n",
       "      <th>12</th>\n",
       "      <td>CODIGOTIPOTRX</td>\n",
       "      <td>False</td>\n",
       "      <td>False</td>\n",
       "      <td>True</td>\n",
       "    </tr>\n",
       "    <tr>\n",
       "      <th>13</th>\n",
       "      <td>CODIGOSUBTIPOTRX</td>\n",
       "      <td>False</td>\n",
       "      <td>False</td>\n",
       "      <td>True</td>\n",
       "    </tr>\n",
       "    <tr>\n",
       "      <th>14</th>\n",
       "      <td>TIPOMAPPING</td>\n",
       "      <td>False</td>\n",
       "      <td>False</td>\n",
       "      <td>True</td>\n",
       "    </tr>\n",
       "    <tr>\n",
       "      <th>15</th>\n",
       "      <td>ENTIDAD_EMISORA_TARJ</td>\n",
       "      <td>False</td>\n",
       "      <td>False</td>\n",
       "      <td>True</td>\n",
       "    </tr>\n",
       "    <tr>\n",
       "      <th>16</th>\n",
       "      <td>CODIGOERROR</td>\n",
       "      <td>False</td>\n",
       "      <td>False</td>\n",
       "      <td>True</td>\n",
       "    </tr>\n",
       "    <tr>\n",
       "      <th>17</th>\n",
       "      <td>RAMAL</td>\n",
       "      <td>False</td>\n",
       "      <td>False</td>\n",
       "      <td>True</td>\n",
       "    </tr>\n",
       "    <tr>\n",
       "      <th>18</th>\n",
       "      <td>IDARCHIVOINTERCAMBIO</td>\n",
       "      <td>False</td>\n",
       "      <td>False</td>\n",
       "      <td>True</td>\n",
       "    </tr>\n",
       "    <tr>\n",
       "      <th>19</th>\n",
       "      <td>CODIGOTIPOTARJETA</td>\n",
       "      <td>False</td>\n",
       "      <td>False</td>\n",
       "      <td>True</td>\n",
       "    </tr>\n",
       "    <tr>\n",
       "      <th>20</th>\n",
       "      <td>MONEDERO_ID</td>\n",
       "      <td>False</td>\n",
       "      <td>False</td>\n",
       "      <td>True</td>\n",
       "    </tr>\n",
       "    <tr>\n",
       "      <th>21</th>\n",
       "      <td>EMISOR_CONTRATO</td>\n",
       "      <td>False</td>\n",
       "      <td>False</td>\n",
       "      <td>True</td>\n",
       "    </tr>\n",
       "    <tr>\n",
       "      <th>22</th>\n",
       "      <td>LG_ID</td>\n",
       "      <td>True</td>\n",
       "      <td>True</td>\n",
       "      <td>True</td>\n",
       "    </tr>\n",
       "    <tr>\n",
       "      <th>23</th>\n",
       "      <td>TIPO_TERMINAL</td>\n",
       "      <td>False</td>\n",
       "      <td>False</td>\n",
       "      <td>True</td>\n",
       "    </tr>\n",
       "    <tr>\n",
       "      <th>24</th>\n",
       "      <td>ID_SERVICIO</td>\n",
       "      <td>False</td>\n",
       "      <td>False</td>\n",
       "      <td>True</td>\n",
       "    </tr>\n",
       "    <tr>\n",
       "      <th>25</th>\n",
       "      <td>VERSION_TIPO_TRX</td>\n",
       "      <td>False</td>\n",
       "      <td>False</td>\n",
       "      <td>True</td>\n",
       "    </tr>\n",
       "    <tr>\n",
       "      <th>26</th>\n",
       "      <td>ID_INTEGRADOR</td>\n",
       "      <td>False</td>\n",
       "      <td>False</td>\n",
       "      <td>True</td>\n",
       "    </tr>\n",
       "    <tr>\n",
       "      <th>27</th>\n",
       "      <td>EMISOR_MONEDERO</td>\n",
       "      <td>False</td>\n",
       "      <td>False</td>\n",
       "      <td>True</td>\n",
       "    </tr>\n",
       "    <tr>\n",
       "      <th>28</th>\n",
       "      <td>SECCION_FIN</td>\n",
       "      <td>False</td>\n",
       "      <td>False</td>\n",
       "      <td>True</td>\n",
       "    </tr>\n",
       "    <tr>\n",
       "      <th>29</th>\n",
       "      <td>SECCION_INICIO</td>\n",
       "      <td>False</td>\n",
       "      <td>False</td>\n",
       "      <td>True</td>\n",
       "    </tr>\n",
       "    <tr>\n",
       "      <th>30</th>\n",
       "      <td>DESCUENTO</td>\n",
       "      <td>False</td>\n",
       "      <td>False</td>\n",
       "      <td>False</td>\n",
       "    </tr>\n",
       "    <tr>\n",
       "      <th>31</th>\n",
       "      <td>PROVISION</td>\n",
       "      <td>True</td>\n",
       "      <td>True</td>\n",
       "      <td>True</td>\n",
       "    </tr>\n",
       "    <tr>\n",
       "      <th>32</th>\n",
       "      <td>ID_POSICIONAMIENTO</td>\n",
       "      <td>False</td>\n",
       "      <td>False</td>\n",
       "      <td>True</td>\n",
       "    </tr>\n",
       "    <tr>\n",
       "      <th>33</th>\n",
       "      <td>PTC</td>\n",
       "      <td>False</td>\n",
       "      <td>False</td>\n",
       "      <td>True</td>\n",
       "    </tr>\n",
       "    <tr>\n",
       "      <th>34</th>\n",
       "      <td>LTC</td>\n",
       "      <td>False</td>\n",
       "      <td>False</td>\n",
       "      <td>True</td>\n",
       "    </tr>\n",
       "    <tr>\n",
       "      <th>35</th>\n",
       "      <td>ID_COMBINACION</td>\n",
       "      <td>True</td>\n",
       "      <td>True</td>\n",
       "      <td>True</td>\n",
       "    </tr>\n",
       "    <tr>\n",
       "      <th>36</th>\n",
       "      <td>DESCUENTO_ITG</td>\n",
       "      <td>True</td>\n",
       "      <td>True</td>\n",
       "      <td>False</td>\n",
       "    </tr>\n",
       "    <tr>\n",
       "      <th>37</th>\n",
       "      <td>DIFERENCIA_TARIFA_MONTO</td>\n",
       "      <td>False</td>\n",
       "      <td>False</td>\n",
       "      <td>False</td>\n",
       "    </tr>\n",
       "  </tbody>\n",
       "</table>\n",
       "</div>"
      ],
      "text/plain": [
       "                column_name  contains_nulls  contains_nans  all_integers\n",
       "0             CODIGOENTIDAD           False          False          True\n",
       "1                   IDLINEA           False          False          True\n",
       "2                   NROCHIP           False          False          True\n",
       "3                NROTARJETA           False          False          True\n",
       "4            CODIGOCONTRATO           False          False          True\n",
       "5         SECUENCIA_TARJETA           False          False          True\n",
       "6                     MONTO           False          False         False\n",
       "7                     SALDO           False          False         False\n",
       "8              VALOR_TARIFA           False          False         False\n",
       "9                   INTERNO           False          False          True\n",
       "10              DISPOSITIVO           False          False          True\n",
       "11              SECTERMINAL           False          False          True\n",
       "12            CODIGOTIPOTRX           False          False          True\n",
       "13         CODIGOSUBTIPOTRX           False          False          True\n",
       "14              TIPOMAPPING           False          False          True\n",
       "15     ENTIDAD_EMISORA_TARJ           False          False          True\n",
       "16              CODIGOERROR           False          False          True\n",
       "17                    RAMAL           False          False          True\n",
       "18     IDARCHIVOINTERCAMBIO           False          False          True\n",
       "19        CODIGOTIPOTARJETA           False          False          True\n",
       "20              MONEDERO_ID           False          False          True\n",
       "21          EMISOR_CONTRATO           False          False          True\n",
       "22                    LG_ID            True           True          True\n",
       "23            TIPO_TERMINAL           False          False          True\n",
       "24              ID_SERVICIO           False          False          True\n",
       "25         VERSION_TIPO_TRX           False          False          True\n",
       "26            ID_INTEGRADOR           False          False          True\n",
       "27          EMISOR_MONEDERO           False          False          True\n",
       "28              SECCION_FIN           False          False          True\n",
       "29           SECCION_INICIO           False          False          True\n",
       "30                DESCUENTO           False          False         False\n",
       "31                PROVISION            True           True          True\n",
       "32       ID_POSICIONAMIENTO           False          False          True\n",
       "33                      PTC           False          False          True\n",
       "34                      LTC           False          False          True\n",
       "35           ID_COMBINACION            True           True          True\n",
       "36            DESCUENTO_ITG            True           True         False\n",
       "37  DIFERENCIA_TARIFA_MONTO           False          False         False"
      ]
     },
     "execution_count": 46,
     "metadata": {},
     "output_type": "execute_result"
    }
   ],
   "source": [
    "# Crear una lista para almacenar los resultados del análisis\n",
    "analysis_results = []\n",
    "\n",
    "# Iterar sobre cada columna en column_names y aplicar analyze_column\n",
    "for column in column_names:\n",
    "    result = analyze_column(selected_df, column)\n",
    "    analysis_results.append(result)\n",
    "\n",
    "# Convertir la lista de resultados en un DataFrame\n",
    "analysis_df = pd.DataFrame(analysis_results)\n",
    "\n",
    "# Mostrar el DataFrame\n",
    "analysis_df"
   ]
  },
  {
   "cell_type": "markdown",
   "id": "f15dd749",
   "metadata": {},
   "source": [
    "\n",
    "En esta tabla podemos ver de todos los valores numéricos cuales podemos tratar como int y cuales contienen NaNs"
   ]
  },
  {
   "cell_type": "code",
   "execution_count": 37,
   "id": "364d8e3c",
   "metadata": {},
   "outputs": [
    {
     "data": {
      "text/plain": [
       "{'column_name': 'IDLINEA',\n",
       " 'contains_nulls': False,\n",
       " 'contains_nans': False,\n",
       " 'all_integers': True}"
      ]
     },
     "execution_count": 37,
     "metadata": {},
     "output_type": "execute_result"
    }
   ],
   "source": [
    "analyze_column(selected_df, 'IDLINEA')"
   ]
  },
  {
   "cell_type": "markdown",
   "id": "266a5991",
   "metadata": {},
   "source": [
    "descipción de IDLNEA en tablas:\n",
    ">120 códigos de lineas (numérico) \n",
    ">(nro de linea) (DESCRIPCION EN TABLA DE LINEAS)\n",
    "\n",
    "son correctos los valores, hay que verpor donde van las lineas"
   ]
  },
  {
   "cell_type": "code",
   "execution_count": 24,
   "id": "f58088e5-de98-4c1c-b0f3-c28353672fde",
   "metadata": {
    "colab": {
     "base_uri": "https://localhost:8080/",
     "height": 584
    },
    "id": "f58088e5-de98-4c1c-b0f3-c28353672fde",
    "outputId": "5f33604e-49ec-4ffd-e84f-8ef1ea32da10"
   },
   "outputs": [
    {
     "data": {
      "image/png": "[encoded data removed]",
      "text/plain": [
       "<Figure size 800x800 with 1 Axes>"
      ]
     },
     "metadata": {},
     "output_type": "display_data"
    }
   ],
   "source": [
    "# Contar los valores de la columna CODIGOTIPOTRX\n",
    "codigotipo_trx_counts = selected_df['CODIGOTIPOTRX'].value_counts()\n",
    "\n",
    "# Crear el gráfico de pastel\n",
    "plt.figure(figsize=(8, 8))\n",
    "plt.pie(codigotipo_trx_counts, labels=codigotipo_trx_counts.index, autopct='%1.1f%%', startangle=140)\n",
    "plt.title('Distribución de CODIGOTIPOTRX')\n",
    "plt.show()\n"
   ]
  },
  {
   "cell_type": "code",
   "execution_count": 38,
   "id": "765bcaa0",
   "metadata": {},
   "outputs": [
    {
     "data": {
      "text/plain": [
       "{'column_name': 'CODIGOTIPOTRX',\n",
       " 'contains_nulls': False,\n",
       " 'contains_nans': False,\n",
       " 'all_integers': True}"
      ]
     },
     "execution_count": 38,
     "metadata": {},
     "output_type": "execute_result"
    }
   ],
   "source": [
    "analyze_column(selected_df, 'CODIGOTIPOTRX')"
   ]
  },
  {
   "cell_type": "markdown",
   "id": "5139b629",
   "metadata": {},
   "source": [
    "Descripción de tablas:\n",
    "> 2 valores existentes, 12 y 22. 12: boleto comun, 22: trasbordo. Influye en el monto.\n",
    "\n",
    "vemos que también hay 10"
   ]
  },
  {
   "cell_type": "code",
   "execution_count": null,
   "id": "4f8af927-6267-4295-b067-67087f166ec1",
   "metadata": {
    "colab": {
     "base_uri": "https://localhost:8080/",
     "height": 261
    },
    "id": "4f8af927-6267-4295-b067-67087f166ec1",
    "outputId": "68729393-1973-42e7-ba9c-e6c3ba30a645"
   },
   "outputs": [
    {
     "data": {
      "text/plain": [
       "ID_COMBINACION\n",
       "NaN    4705713\n",
       "1.0     828413\n",
       "2.0      33161\n",
       "3.0       2340\n",
       "Name: count, dtype: int64"
      ]
     },
     "execution_count": 18,
     "metadata": {},
     "output_type": "execute_result"
    }
   ],
   "source": [
    "selected_df.value_counts('ID_COMBINACION', dropna=False)"
   ]
  },
  {
   "cell_type": "markdown",
   "id": "d3a605b4-0ecd-4a43-b6c7-7a724203dfa3",
   "metadata": {
    "id": "d3a605b4-0ecd-4a43-b6c7-7a724203dfa3"
   },
   "source": [
    "descripción tablas deID_COMBINACIÓN\n",
    "> 5 valores distintos (blanco,1,2,3,71). localidades que puede tener varios trasbordos (con cada cantidad se hace descuentos)en que parte del trasbordo estas... sj 3 trasbordos... \n",
    "\n",
    "indica la cantidad de trasbordos, son correctos los datos"
   ]
  },
  {
   "cell_type": "code",
   "execution_count": null,
   "id": "a3b705ab",
   "metadata": {},
   "outputs": [
    {
     "data": {
      "text/plain": [
       "CODIGOCONTRATO\n",
       "621.0    3749759\n",
       "602.0    1817426\n",
       "624.0       2325\n",
       "106.0        116\n",
       "619.0          1\n",
       "Name: count, dtype: int64"
      ]
     },
     "execution_count": 19,
     "metadata": {},
     "output_type": "execute_result"
    }
   ],
   "source": [
    "selected_df.value_counts('CODIGOCONTRATO', dropna=False)"
   ]
  },
  {
   "cell_type": "markdown",
   "id": "81162aea",
   "metadata": {},
   "source": [
    "explicación de la tabla\n",
    "> Tipo de boleto (beneficio, descuento). asociado a la tarjeta"
   ]
  },
  {
   "cell_type": "code",
   "execution_count": 36,
   "id": "b77accf5",
   "metadata": {},
   "outputs": [
    {
     "data": {
      "text/plain": [
       "{'column_name': 'SECUENCIA_TARJETA',\n",
       " 'contains_nulls': False,\n",
       " 'contains_nans': False,\n",
       " 'all_integers': True}"
      ]
     },
     "execution_count": 36,
     "metadata": {},
     "output_type": "execute_result"
    }
   ],
   "source": [
    "analyze_column(selected_df, \"SECUENCIA_TARJETA\")"
   ]
  },
  {
   "cell_type": "markdown",
   "id": "ebca07d0",
   "metadata": {},
   "source": [
    "Secuencia_tarjeta no se encuentra en la descripción de datos, "
   ]
  },
  {
   "cell_type": "code",
   "execution_count": 28,
   "id": "0d64df7e",
   "metadata": {},
   "outputs": [
    {
     "data": {
      "image/png": "[encoded data removed]",
      "text/plain": [
       "<Figure size 1000x600 with 1 Axes>"
      ]
     },
     "metadata": {},
     "output_type": "display_data"
    }
   ],
   "source": [
    "show_histogram(selected_df, 'MONTO', 'Histograma de MONTO', 'MONTO', 'Frecuencia')"
   ]
  },
  {
   "cell_type": "code",
   "execution_count": 13,
   "id": "3e1e220f",
   "metadata": {},
   "outputs": [
    {
     "data": {
      "text/plain": [
       "MONTO\n",
       "90.00     122080\n",
       "200.00     62472\n",
       "0.00       42685\n",
       "150.75     10423\n",
       "101.25     10291\n",
       "           ...  \n",
       "216.67         1\n",
       "365.84         1\n",
       "680.02         1\n",
       "227.50         1\n",
       "234.00         1\n",
       "Name: count, Length: 149, dtype: int64"
      ]
     },
     "execution_count": 13,
     "metadata": {},
     "output_type": "execute_result"
    }
   ],
   "source": [
    "selected_df['MONTO'].value_counts(dropna=False)"
   ]
  },
  {
   "cell_type": "markdown",
   "id": "af1db274",
   "metadata": {},
   "source": [
    "Columna monto, contiene el monto cobrado de los pasajes, con descuento ya aplicado"
   ]
  },
  {
   "cell_type": "code",
   "execution_count": 29,
   "id": "6678ae7f",
   "metadata": {},
   "outputs": [
    {
     "data": {
      "image/png": "[encoded data removed]",
      "text/plain": [
       "<Figure size 1000x600 with 1 Axes>"
      ]
     },
     "metadata": {},
     "output_type": "display_data"
    }
   ],
   "source": [
    "show_histogram(selected_df, 'SALDO', 'Histograma de SALDO', 'SALDO', 'Frecuencia')"
   ]
  },
  {
   "cell_type": "markdown",
   "id": "ca7ea328",
   "metadata": {},
   "source": [
    "SALDO representa el salgo restante de la tarjeta del pasajero"
   ]
  },
  {
   "cell_type": "code",
   "execution_count": 30,
   "id": "29f45d9d",
   "metadata": {},
   "outputs": [
    {
     "data": {
      "image/png": "[encoded data removed]",
      "text/plain": [
       "<Figure size 1000x600 with 1 Axes>"
      ]
     },
     "metadata": {},
     "output_type": "display_data"
    }
   ],
   "source": [
    "show_histogram(selected_df, 'VALOR_TARIFA', 'Histograma de VALOR_TARIFA', 'VALOR_TARIFA', 'Frecuencia')"
   ]
  },
  {
   "cell_type": "markdown",
   "id": "87652757",
   "metadata": {},
   "source": [
    "Valor_tarifa muestra el monto de la tarifa que se debería haber cobrado sin los descuentos"
   ]
  },
  {
   "cell_type": "code",
   "execution_count": 20,
   "id": "a4482c8a",
   "metadata": {},
   "outputs": [
    {
     "data": {
      "text/plain": [
       "DIFERENCIA_TARIFA_MONTO\n",
       "0.00                       253345\n",
       "90.00                       24521\n",
       "200.00                      14434\n",
       "66.00                        2193\n",
       "101.25                       1684\n",
       "150.75                       1470\n",
       "129.75                        535\n",
       "119.25                        357\n",
       "200.00                        334\n",
       "170.25                        241\n",
       "184.50                        205\n",
       "100.00                        162\n",
       "200.00                        129\n",
       "150.30                        116\n",
       "200.00                         99\n",
       "191.25                         66\n",
       "195.00                         40\n",
       "108.75                         29\n",
       "167.50                          8\n",
       "60.00                           8\n",
       "27.00                           7\n",
       "144.17                          4\n",
       "112.50                          4\n",
       "189.17                          2\n",
       "190.50                          2\n",
       "30.38                           2\n",
       "167.51                          1\n",
       "132.50                          1\n",
       "186.75                          1\n",
       "Name: count, dtype: int64"
      ]
     },
     "execution_count": 20,
     "metadata": {},
     "output_type": "execute_result"
    }
   ],
   "source": [
    "#diferencia entre VALOR_TARIFA y MONTO\n",
    "temp_df = selected_df.copy()\n",
    "temp_df['DIFERENCIA_TARIFA_MONTO'] = temp_df['VALOR_TARIFA'] - temp_df['MONTO']\n",
    "temp_df[['DIFERENCIA_TARIFA_MONTO']].value_counts()"
   ]
  },
  {
   "cell_type": "code",
   "execution_count": 21,
   "id": "cdf0cea7",
   "metadata": {},
   "outputs": [
    {
     "data": {
      "text/plain": [
       "INTERNO\n",
       "33.0     5064\n",
       "34.0     4464\n",
       "17.0     4441\n",
       "30.0     3749\n",
       "21.0     3678\n",
       "         ... \n",
       "146.0     271\n",
       "147.0     266\n",
       "144.0     258\n",
       "153.0     203\n",
       "148.0      47\n",
       "Name: count, Length: 185, dtype: int64"
      ]
     },
     "execution_count": 21,
     "metadata": {},
     "output_type": "execute_result"
    }
   ],
   "source": [
    "selected_df['INTERNO'].value_counts(dropna=False)"
   ]
  },
  {
   "cell_type": "markdown",
   "id": "dc33f534",
   "metadata": {},
   "source": [
    "INTERNO contiene el nro identificador del colectivo (interno)  "
   ]
  },
  {
   "cell_type": "code",
   "execution_count": null,
   "id": "a3e9ffc4",
   "metadata": {},
   "outputs": [
    {
     "data": {
      "text/plain": [
       "SECTERMINAL\n",
       "3057482.0    5\n",
       "3093970.0    5\n",
       "3092021.0    4\n",
       "2101044.0    4\n",
       "2362485.0    4\n",
       "            ..\n",
       "3870870.0    1\n",
       "3234196.0    1\n",
       "2764307.0    1\n",
       "3140297.0    1\n",
       "2602287.0    1\n",
       "Name: count, Length: 282279, dtype: int64"
      ]
     },
     "execution_count": 22,
     "metadata": {},
     "output_type": "execute_result"
    }
   ],
   "source": [
    "selected_df['SECTERMINAL'].value_counts(dropna=False)   "
   ]
  },
  {
   "cell_type": "code",
   "execution_count": 31,
   "id": "615bf30a",
   "metadata": {},
   "outputs": [
    {
     "data": {
      "image/png": "[encoded data removed]",
      "text/plain": [
       "<Figure size 1000x600 with 1 Axes>"
      ]
     },
     "metadata": {},
     "output_type": "display_data"
    }
   ],
   "source": [
    "show_histogram(selected_df, 'SECTERMINAL', 'Histograma de SECTERMINAL', 'SECTERMINAL', 'Frecuencia')"
   ]
  },
  {
   "cell_type": "markdown",
   "id": "d1bb2ba8",
   "metadata": {},
   "source": [
    "no sé que es SECTERMINAL"
   ]
  },
  {
   "cell_type": "code",
   "execution_count": null,
   "id": "3a044059",
   "metadata": {},
   "outputs": [
    {
     "data": {
      "image/png": "[encoded data removed]",
      "text/plain": [
       "<Figure size 1000x600 with 1 Axes>"
      ]
     },
     "metadata": {},
     "output_type": "display_data"
    }
   ],
   "source": [
    "# mostrar histograma de ramal y luego contar nan\n",
    "plt.figure(figsize=(10, 6))\n",
    "plt.hist(selected_df['RAMAL'], bins=20, edgecolor='black')\n",
    "plt.xlabel('RAMAL')\n",
    "plt.ylabel('Frecuencia')\n",
    "plt.grid(True)\n",
    "plt.title('Histograma de RAMAL')\n",
    "plt.show()"
   ]
  },
  {
   "cell_type": "markdown",
   "id": "841d78d0",
   "metadata": {},
   "source": [
    "Descripción\n",
    ">EXTENSIONES. LA DESCRIPCION ESTA EN LA TABLA DE LAS LINEAS(EMPRESAS)"
   ]
  },
  {
   "cell_type": "markdown",
   "id": "a74c6baa-31da-49d6-a254-7d998989bd21",
   "metadata": {
    "id": "a74c6baa-31da-49d6-a254-7d998989bd21"
   },
   "source": [
    "# Tabla GPS"
   ]
  },
  {
   "cell_type": "markdown",
   "id": "Q_4Fpu-emgV5",
   "metadata": {
    "id": "Q_4Fpu-emgV5"
   },
   "source": [
    "## Carga de datos\n"
   ]
  },
  {
   "cell_type": "code",
   "execution_count": 17,
   "id": "fa67ccb3",
   "metadata": {},
   "outputs": [],
   "source": [
    "import pandas as pd\n",
    "import matplotlib.pyplot as plt\n",
    "import joblib\n",
    "import os\n",
    "\n",
    "path_gps = os.path.join('datasets', 'GPS_SAN_JUAN_022024.csv')\n"
   ]
  },
  {
   "cell_type": "code",
   "execution_count": 20,
   "id": "3f8a4566-951b-42a6-a0b6-2270437546ed",
   "metadata": {
    "id": "3f8a4566-951b-42a6-a0b6-2270437546ed"
   },
   "outputs": [],
   "source": [
    "\n",
    "gps_rows = 28000\n",
    "\n",
    "gps_column_types = {\n",
    "    \"CODIGOENTIDAD\": \"int64\",\n",
    "    \"IDLINEA\": \"int64\",\n",
    "    \"INTERTNO\": \"float64\",\n",
    "    \"C_LD_ID (RAMAL)\": \"int64\",\n",
    "    \"FILE_ID\": \"float64\",\n",
    "    \"DTSN\": \"float64\",\n",
    "    \"DATE_TIME\": \"datetime64[ns]\",\n",
    "    \"TYPE\": \"int64\",\n",
    "    \"DIRECTION\": \"int64\",\n",
    "    \"LONGITUDE\": \"float64\",\n",
    "    \"LATITUDE\": \"float64\",\n",
    "    \"VELOCITY\": \"float64\",\n",
    "    \"DISTANCE\": \"float64\",\n",
    "    \"STATUS\": \"int64\",\n",
    "    \"CONTROL_POINT\": \"int64\"\n",
    "}\n",
    "\n"
   ]
  },
  {
   "cell_type": "code",
   "execution_count": 21,
   "id": "0c407d2c-6869-4e67-985d-46a2afae01cc",
   "metadata": {
    "id": "0c407d2c-6869-4e67-985d-46a2afae01cc"
   },
   "outputs": [],
   "source": [
    "def load_data_GPS(path, columns):\n",
    "    return pd.read_csv(\n",
    "        path,\n",
    "        dtype=columns,\n",
    "        delimiter=';',\n",
    "        on_bad_lines='skip',\n",
    "        decimal=',',\n",
    "        )\n"
   ]
  },
  {
   "cell_type": "code",
   "execution_count": 22,
   "id": "8b327291-e5d9-49e3-ada4-48e7286de544",
   "metadata": {
    "id": "8b327291-e5d9-49e3-ada4-48e7286de544"
   },
   "outputs": [
    {
     "name": "stdout",
     "output_type": "stream",
     "text": [
      "<class 'pandas.core.frame.DataFrame'>\n",
      "RangeIndex: 2850268 entries, 0 to 2850267\n",
      "Data columns (total 18 columns):\n",
      " #   Column           Dtype  \n",
      "---  ------           -----  \n",
      " 0   codigoentidad    int64  \n",
      " 1   idlinea          float64\n",
      " 2   interno          int64  \n",
      " 3   c_ld_Id          int64  \n",
      " 4   file_id          int64  \n",
      " 5   FILENAME         object \n",
      " 6   record_type      int64  \n",
      " 7   dtsn             int64  \n",
      " 8   date_time        object \n",
      " 9   TYPE             int64  \n",
      " 10  direction        int64  \n",
      " 11  device           int64  \n",
      " 12  longitude        object \n",
      " 13  latitude         object \n",
      " 14  velocity         int64  \n",
      " 15  distance         int64  \n",
      " 16  status           int64  \n",
      " 17  c_control_point  int64  \n",
      "dtypes: float64(1), int64(13), object(4)\n",
      "memory usage: 391.4+ MB\n"
     ]
    }
   ],
   "source": [
    "gps_df = load_data_GPS(path_gps, gps_column_types)\n",
    "gps_df.info()"
   ]
  },
  {
   "cell_type": "code",
   "execution_count": 23,
   "id": "2a53ff75-1df4-4828-b2da-d0de48d95844",
   "metadata": {
    "colab": {
     "base_uri": "https://localhost:8080/",
     "height": 313
    },
    "id": "2a53ff75-1df4-4828-b2da-d0de48d95844",
    "outputId": "85cbc92c-f555-43b5-eeb8-826549cae563"
   },
   "outputs": [
    {
     "data": {
      "text/html": [
       "<div>\n",
       "<style scoped>\n",
       "    .dataframe tbody tr th:only-of-type {\n",
       "        vertical-align: middle;\n",
       "    }\n",
       "\n",
       "    .dataframe tbody tr th {\n",
       "        vertical-align: top;\n",
       "    }\n",
       "\n",
       "    .dataframe thead th {\n",
       "        text-align: right;\n",
       "    }\n",
       "</style>\n",
       "<table border=\"1\" class=\"dataframe\">\n",
       "  <thead>\n",
       "    <tr style=\"text-align: right;\">\n",
       "      <th></th>\n",
       "      <th>codigoentidad</th>\n",
       "      <th>idlinea</th>\n",
       "      <th>interno</th>\n",
       "      <th>c_ld_Id</th>\n",
       "      <th>file_id</th>\n",
       "      <th>FILENAME</th>\n",
       "      <th>record_type</th>\n",
       "      <th>dtsn</th>\n",
       "      <th>date_time</th>\n",
       "      <th>TYPE</th>\n",
       "      <th>direction</th>\n",
       "      <th>device</th>\n",
       "      <th>longitude</th>\n",
       "      <th>latitude</th>\n",
       "      <th>velocity</th>\n",
       "      <th>distance</th>\n",
       "      <th>status</th>\n",
       "      <th>c_control_point</th>\n",
       "    </tr>\n",
       "  </thead>\n",
       "  <tbody>\n",
       "    <tr>\n",
       "      <th>0</th>\n",
       "      <td>251</td>\n",
       "      <td>NaN</td>\n",
       "      <td>21</td>\n",
       "      <td>0</td>\n",
       "      <td>336411229</td>\n",
       "      <td>LSR_0251_339_00021_0000004344_04682_20240202_1...</td>\n",
       "      <td>220</td>\n",
       "      <td>2929896</td>\n",
       "      <td>02/02/2024 09:55:35</td>\n",
       "      <td>5</td>\n",
       "      <td>255</td>\n",
       "      <td>4344</td>\n",
       "      <td>-68.54042</td>\n",
       "      <td>-31.54441</td>\n",
       "      <td>0</td>\n",
       "      <td>0</td>\n",
       "      <td>64</td>\n",
       "      <td>1</td>\n",
       "    </tr>\n",
       "    <tr>\n",
       "      <th>1</th>\n",
       "      <td>251</td>\n",
       "      <td>NaN</td>\n",
       "      <td>21</td>\n",
       "      <td>0</td>\n",
       "      <td>336411229</td>\n",
       "      <td>LSR_0251_339_00021_0000004344_04682_20240202_1...</td>\n",
       "      <td>220</td>\n",
       "      <td>2929899</td>\n",
       "      <td>02/02/2024 09:55:42</td>\n",
       "      <td>3</td>\n",
       "      <td>255</td>\n",
       "      <td>4344</td>\n",
       "      <td>-68.54042</td>\n",
       "      <td>-31.54441</td>\n",
       "      <td>0</td>\n",
       "      <td>0</td>\n",
       "      <td>8</td>\n",
       "      <td>2</td>\n",
       "    </tr>\n",
       "    <tr>\n",
       "      <th>2</th>\n",
       "      <td>251</td>\n",
       "      <td>3381.0</td>\n",
       "      <td>21</td>\n",
       "      <td>7555</td>\n",
       "      <td>336411229</td>\n",
       "      <td>LSR_0251_339_00021_0000004344_04682_20240202_1...</td>\n",
       "      <td>220</td>\n",
       "      <td>2929903</td>\n",
       "      <td>02/02/2024 09:55:47</td>\n",
       "      <td>7</td>\n",
       "      <td>255</td>\n",
       "      <td>4344</td>\n",
       "      <td>-68.54042</td>\n",
       "      <td>-31.54441</td>\n",
       "      <td>0</td>\n",
       "      <td>0</td>\n",
       "      <td>64</td>\n",
       "      <td>3</td>\n",
       "    </tr>\n",
       "    <tr>\n",
       "      <th>3</th>\n",
       "      <td>251</td>\n",
       "      <td>3381.0</td>\n",
       "      <td>21</td>\n",
       "      <td>7555</td>\n",
       "      <td>336411229</td>\n",
       "      <td>LSR_0251_339_00021_0000004344_04682_20240202_1...</td>\n",
       "      <td>220</td>\n",
       "      <td>2929905</td>\n",
       "      <td>02/02/2024 09:59:43</td>\n",
       "      <td>3</td>\n",
       "      <td>1</td>\n",
       "      <td>4344</td>\n",
       "      <td>-68.54028</td>\n",
       "      <td>-31.54454</td>\n",
       "      <td>9</td>\n",
       "      <td>0</td>\n",
       "      <td>8</td>\n",
       "      <td>4</td>\n",
       "    </tr>\n",
       "    <tr>\n",
       "      <th>4</th>\n",
       "      <td>251</td>\n",
       "      <td>3381.0</td>\n",
       "      <td>21</td>\n",
       "      <td>7555</td>\n",
       "      <td>336411229</td>\n",
       "      <td>LSR_0251_339_00021_0000004344_04682_20240202_1...</td>\n",
       "      <td>220</td>\n",
       "      <td>2929906</td>\n",
       "      <td>02/02/2024 10:03:43</td>\n",
       "      <td>3</td>\n",
       "      <td>1</td>\n",
       "      <td>4344</td>\n",
       "      <td>-68.53884</td>\n",
       "      <td>-31.54263</td>\n",
       "      <td>37</td>\n",
       "      <td>1075</td>\n",
       "      <td>8</td>\n",
       "      <td>5</td>\n",
       "    </tr>\n",
       "  </tbody>\n",
       "</table>\n",
       "</div>"
      ],
      "text/plain": [
       "   codigoentidad  idlinea  interno  c_ld_Id    file_id  \\\n",
       "0            251      NaN       21        0  336411229   \n",
       "1            251      NaN       21        0  336411229   \n",
       "2            251   3381.0       21     7555  336411229   \n",
       "3            251   3381.0       21     7555  336411229   \n",
       "4            251   3381.0       21     7555  336411229   \n",
       "\n",
       "                                            FILENAME  record_type     dtsn  \\\n",
       "0  LSR_0251_339_00021_0000004344_04682_20240202_1...          220  2929896   \n",
       "1  LSR_0251_339_00021_0000004344_04682_20240202_1...          220  2929899   \n",
       "2  LSR_0251_339_00021_0000004344_04682_20240202_1...          220  2929903   \n",
       "3  LSR_0251_339_00021_0000004344_04682_20240202_1...          220  2929905   \n",
       "4  LSR_0251_339_00021_0000004344_04682_20240202_1...          220  2929906   \n",
       "\n",
       "             date_time  TYPE  direction  device  longitude   latitude  \\\n",
       "0  02/02/2024 09:55:35     5        255    4344  -68.54042  -31.54441   \n",
       "1  02/02/2024 09:55:42     3        255    4344  -68.54042  -31.54441   \n",
       "2  02/02/2024 09:55:47     7        255    4344  -68.54042  -31.54441   \n",
       "3  02/02/2024 09:59:43     3          1    4344  -68.54028  -31.54454   \n",
       "4  02/02/2024 10:03:43     3          1    4344  -68.53884  -31.54263   \n",
       "\n",
       "   velocity  distance  status  c_control_point  \n",
       "0         0         0      64                1  \n",
       "1         0         0       8                2  \n",
       "2         0         0      64                3  \n",
       "3         9         0       8                4  \n",
       "4        37      1075       8                5  "
      ]
     },
     "execution_count": 23,
     "metadata": {},
     "output_type": "execute_result"
    }
   ],
   "source": [
    "gps_df.head()"
   ]
  },
  {
   "cell_type": "markdown",
   "id": "PznZjOsGmkGv",
   "metadata": {
    "id": "PznZjOsGmkGv"
   },
   "source": [
    "## Visualizaciones\n"
   ]
  },
  {
   "cell_type": "code",
   "execution_count": 24,
   "id": "d0445e6e-a77c-4cd6-a180-f839b61f1286",
   "metadata": {
    "colab": {
     "base_uri": "https://localhost:8080/",
     "height": 627
    },
    "id": "d0445e6e-a77c-4cd6-a180-f839b61f1286",
    "outputId": "97088ffc-84e7-4b13-a381-a0fde52f34c8"
   },
   "outputs": [
    {
     "data": {
      "image/png": "[encoded data removed]",
      "text/plain": [
       "<Figure size 1000x600 with 1 Axes>"
      ]
     },
     "metadata": {},
     "output_type": "display_data"
    }
   ],
   "source": [
    "lat_min, lat_max = gps_df['latitude'].min(), gps_df['latitude'].max()\n",
    "lon_min, lon_max = gps_df['longitude'].min(), gps_df['longitude'].max()\n",
    "\n",
    "\n",
    "plt.figure(figsize=(10,6))\n",
    "plt.scatter(gps_df['longitude'], gps_df['latitude'], c='blue', marker='o', alpha=0.3, s=10)\n",
    "plt.xlim(lon_min, lon_max)\n",
    "plt.ylim(lat_min, lat_max)\n",
    "plt.tick_params(axis='x', labelbottom=False)\n",
    "plt.tick_params(axis='y', labelleft=False)\n",
    "plt.title('Ploteo')\n",
    "plt.xlabel('Longitud')\n",
    "plt.ylabel('Latitud')\n",
    "plt.tight_layout()\n",
    "plt.grid(True)\n",
    "plt.show()\n"
   ]
  },
  {
   "cell_type": "markdown",
   "id": "377a052e",
   "metadata": {},
   "source": [
    "# Sample para trabajar en otra pc  "
   ]
  },
  {
   "cell_type": "code",
   "execution_count": 5,
   "id": "17acad5b",
   "metadata": {},
   "outputs": [
    {
     "data": {
      "text/plain": [
       "['datasets\\\\joblib\\\\sample']"
      ]
     },
     "execution_count": 5,
     "metadata": {},
     "output_type": "execute_result"
    }
   ],
   "source": [
    "sample_df = complete_df.sample(n=300000, random_state=42)\n",
    "sample_path = os.path.join(\"datasets\", \"joblib\", \"sample\")\n",
    "joblib.dump(sample_df, sample_path)"
   ]
  }
 ],
 "metadata": {
  "colab": {
   "include_colab_link": true,
   "provenance": [],
   "toc_visible": true
  },
  "kernelspec": {
   "display_name": "venv",
   "language": "python",
   "name": "python3"
  },
  "language_info": {
   "codemirror_mode": {
    "name": "ipython",
    "version": 3
   },
   "file_extension": ".py",
   "mimetype": "text/x-python",
   "name": "python",
   "nbconvert_exporter": "python",
   "pygments_lexer": "ipython3",
   "version": "3.8.2"
  }
 },
 "nbformat": 4,
 "nbformat_minor": 5
}
